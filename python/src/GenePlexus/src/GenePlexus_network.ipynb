{
 "cells": [
  {
   "cell_type": "code",
   "execution_count": 1,
   "metadata": {},
   "outputs": [],
   "source": [
    "import pandas as pd\n",
    "from igraph import Graph\n",
    "import sys\n",
    "import os, sys\n",
    "sys.path.append('../dev/')\n",
    "import geneplexus\n",
    "from ast import literal_eval\n",
    "from tqdm.notebook import tqdm"
   ]
  },
  {
   "cell_type": "code",
   "execution_count": 2,
   "metadata": {},
   "outputs": [],
   "source": [
    "graph = Graph.Read_GML(\"../../../data/processed/graph_string_weighted\")"
   ]
  },
  {
   "cell_type": "code",
   "execution_count": 128,
   "metadata": {},
   "outputs": [],
   "source": [
    "edge_list = graph.get_edge_dataframe()\n",
    "gene_list = graph.vs['name']"
   ]
  },
  {
   "cell_type": "code",
   "execution_count": 129,
   "metadata": {},
   "outputs": [],
   "source": [
    "edge_list['source'] = edge_list['source'].apply(lambda row: gene_list[row])\n",
    "edge_list['target'] = edge_list['target'].apply(lambda row: gene_list[row])"
   ]
  },
  {
   "cell_type": "code",
   "execution_count": 125,
   "metadata": {},
   "outputs": [],
   "source": [
    "from gprofiler import GProfiler\n",
    "\n",
    "gp = GProfiler(return_dataframe=True)\n",
    "gp_convert_df = gp.convert(organism='hsapiens', query=graph.vs['name'], target_namespace='ENTREZGENE_ACC')"
   ]
  },
  {
   "cell_type": "code",
   "execution_count": 119,
   "metadata": {},
   "outputs": [],
   "source": [
    "gp_convert_df = gp_convert_df[gp_convert_df['n_converted']==1]"
   ]
  },
  {
   "cell_type": "code",
   "execution_count": 120,
   "metadata": {},
   "outputs": [],
   "source": [
    "gp_convert_dict = gp_convert_df[['incoming', 'converted']].set_index('incoming').to_dict(orient='dict')['converted']\n"
   ]
  },
  {
   "cell_type": "code",
   "execution_count": 121,
   "metadata": {},
   "outputs": [],
   "source": [
    "edge_list['source'] = edge_list['source'].apply(lambda row: gp_convert_dict[row])\n",
    "edge_list['target'] = edge_list['target'].apply(lambda row: gp_convert_dict[row])"
   ]
  },
  {
   "cell_type": "code",
   "execution_count": 130,
   "metadata": {},
   "outputs": [],
   "source": [
    "edge_list.to_csv('../data/edge_list.txt', sep=' ', header=False, index=False)"
   ]
  },
  {
   "cell_type": "code",
   "execution_count": 131,
   "metadata": {},
   "outputs": [],
   "source": [
    "\"\"\"\n",
    "Convert :term:`edgelist` to node order.\n",
    "The node order (NodeOrder) file is used to map gene IDs to rows in the data\n",
    "repsentation matrix.\n",
    "Args:\n",
    "    edgelist_loc: Location of the edgelist\n",
    "    data_dir: The directory to save the file\n",
    "    net_name: The name of the network\n",
    "    sep: The separation used in the edgelist file (default tab)\n",
    "    skiplines: The number of lines to skip for header\n",
    "\"\"\"\n",
    "\n",
    "geneplexus.custom.edgelist_to_nodeorder(edgelist_loc='../data/edge_list.txt', data_dir='../data/', net_name='STRING_GM', sep=' ')"
   ]
  },
  {
   "cell_type": "code",
   "execution_count": 132,
   "metadata": {},
   "outputs": [],
   "source": [
    "\"\"\"\n",
    "Convert :term:`edgelist` to an adjacency matrix or influence matrix.\n",
    "Note:\n",
    "    The NodeOrder file needs to be a single column text file. If not\n",
    "    supplying custom GSC, the file needs to be in Entrez ID space.\n",
    "Args:\n",
    "    edgelist_loc: Location of the edgelist\n",
    "    data_dir: The directory to save the file\n",
    "    net_name: The name of the network\n",
    "    features: Features for the networks (Adjacency or Influence, All)\n",
    "    alpha: Restart parameter.\n",
    "    sep: The separation used in the edgelist file (default tab)\n",
    "    skiplines: The number of lines to skip for header\n",
    "\"\"\"\n",
    "\n",
    "geneplexus.custom.edgelist_to_matrix(edgelist_loc='../data/edge_list.txt', data_dir='../data/', net_name='STRING_GM', features='Adjacency', sep=' ')"
   ]
  },
  {
   "cell_type": "code",
   "execution_count": 97,
   "metadata": {},
   "outputs": [
    {
     "name": "stderr",
     "output_type": "stream",
     "text": [
      "geneplexus:download_select_data:WARNING:Downloading data type ['Adjacency'] may take a while (~10min to an hour depending on the downloadspeed)\n"
     ]
    }
   ],
   "source": [
    "\"\"\"Select subset of data to download.\n",
    "Args:\n",
    "    data_dir: Location of data files.\n",
    "    tasks: Task of interest, accept multiple selection as a list. Do all\n",
    "        the tasks if set to \"All\".\n",
    "    networks: Networks of interest, accept multiple selection as a list. Do\n",
    "        all the networks if set to \"All\".\n",
    "    features: Network features of interest, accept multiple selection as a\n",
    "        list. Do all the features if set to \"All\".\n",
    "    gscs: Gene set collection of interest, accept multiple selection as a\n",
    "        list. Do all the GSC if set to \"All\".\n",
    "    n_jobs: Number of concurrent downloading threads.\n",
    "    retry: If set to True, then retry downloading any missing file.\n",
    "\"\"\"\n",
    "\n",
    "geneplexus.download.download_select_data(data_dir='../data/', tasks='OriginalGSCs', networks='STRING', features='Adjacency', gscs='All')"
   ]
  },
  {
   "cell_type": "code",
   "execution_count": 98,
   "metadata": {},
   "outputs": [],
   "source": [
    "\"\"\"Subset :term:`GSC` to only include genes in the network.\n",
    "Note:\n",
    "    Use the :meth:`geneplexus.download.download_select_data` function to\n",
    "    get the preprocessed GO and DisGeNet files first.\n",
    "Args:\n",
    "    data_dir: The directory to save the file\n",
    "    net_name: The name of the network\n",
    "    gsc_name: The name of the GSC\n",
    "    max_size: Maximum geneset size.\n",
    "    min_size: Minimum geneset size.\n",
    "\"\"\"\n",
    "import importlib\n",
    "importlib.reload(geneplexus)\n",
    "geneplexus.custom.subset_gsc_to_network('../data/', 'STRING_GM', 'GO', 350, 50)"
   ]
  },
  {
   "cell_type": "code",
   "execution_count": 2,
   "metadata": {},
   "outputs": [],
   "source": [
    "myclass = geneplexus.GenePlexus(file_loc='../data/', net_type=\"STRING_GM\", features=\"Adjacency\", gsc=\"GO\")"
   ]
  },
  {
   "cell_type": "code",
   "execution_count": 2,
   "metadata": {},
   "outputs": [],
   "source": [
    "data = geneplexus.util.load_gene_features('../data/', 'Adjacency', 'STRING_GM')"
   ]
  },
  {
   "cell_type": "code",
   "execution_count": null,
   "metadata": {},
   "outputs": [],
   "source": [
    "process_labels = pd.read_csv('../../../data/processed/reactome_labels_string.csv', header=None)\n",
    "test_indices = pd.read_csv(\"../../../data/processed/fs/reactome_rwr_test_string.csv\", sep=',', header=0).transpose().to_numpy(dtype='int')-1"
   ]
  },
  {
   "cell_type": "code",
   "execution_count": null,
   "metadata": {},
   "outputs": [],
   "source": [
    "disease_labels = pd.read_csv('../../../data/processed/disgenet_sca_labels_string.csv', header=None)\n",
    "disease_test_indices = pd.read_csv(\"../../../data/processed/fs/disease/disease_rwr_test_string.csv\", sep=',', header=0).transpose().to_numpy(dtype='int')-1\n",
    "\n",
    "disease_conservative_labels = pd.read_csv('../../../data/processed/disgenet_conservative_labels_string.csv', header=None)\n",
    "disease_conservative_test_indices = pd.read_csv(\"../../../data/processed/fs/disease/disease_rwr_test_conservative_string.csv\", sep=',', header=0).transpose().to_numpy(dtype='int')-1"
   ]
  },
  {
   "cell_type": "code",
   "execution_count": null,
   "metadata": {},
   "outputs": [],
   "source": [
    "clf_dict = {'auprc_random':[], 'precision_k_random':[]}\n",
    "for i in tqdm(range(len(process_labels.columns))):\n",
    "    mdl_weights, df_probs, avgps, auprc_random, precision_k_random = myclass.fit_and_predict(process_labels[i], test_indices[i])\n",
    "    clf_dict['auprc_random'].append(auprc_random)\n",
    "    clf_dict['precision_k_random'].append(precision_k_random)\n",
    "\n",
    "clf_df = pd.DataFrame.from_dict(clf_dict)\n",
    "clf_df.to_csv('../../../models/threshold_classifier/STRING/geneplexus.csv', index=False)"
   ]
  },
  {
   "cell_type": "code",
   "execution_count": 5,
   "metadata": {},
   "outputs": [],
   "source": [
    "clf_dict = {'auprc_random':[], 'precision_k_random':[]}\n",
    "for i in tqdm(range(len(process_labels.columns))):\n",
    "    mdl_weights, df_probs, avgps, auprc_random, precision_k_random = myclass.fit_and_predict(disease_labels[i], disease_test_indices[i])\n",
    "    clf_dict['auprc_random'].append(auprc_random)\n",
    "    clf_dict['precision_k_random'].append(precision_k_random)\n",
    "\n",
    "clf_df = pd.DataFrame.from_dict(clf_dict)\n",
    "clf_df.to_csv('../../../models/threshold_classifier/STRING/disease_geneplexus.csv', index=False)"
   ]
  },
  {
   "cell_type": "code",
   "execution_count": null,
   "metadata": {},
   "outputs": [],
   "source": [
    "clf_dict = {'auprc_random':[], 'precision_k_random':[]}\n",
    "for i in tqdm(range(len(process_labels.columns))):\n",
    "    mdl_weights, df_probs, avgps, auprc_random, precision_k_random = myclass.fit_and_predict(disease_conservative_labels[i], disease_conservative_test_indices[i])\n",
    "    clf_dict['auprc_random'].append(auprc_random)\n",
    "    clf_dict['precision_k_random'].append(precision_k_random)\n",
    "\n",
    "clf_df = pd.DataFrame.from_dict(clf_dict)\n",
    "clf_df.to_csv('../../../models/threshold_classifier/STRING/disease_conservative_geneplexus.csv', index=False)"
   ]
  }
 ],
 "metadata": {
  "kernelspec": {
   "display_name": "base",
   "language": "python",
   "name": "python3"
  },
  "language_info": {
   "codemirror_mode": {
    "name": "ipython",
    "version": 3
   },
   "file_extension": ".py",
   "mimetype": "text/x-python",
   "name": "python",
   "nbconvert_exporter": "python",
   "pygments_lexer": "ipython3",
   "version": "3.8.8"
  },
  "orig_nbformat": 4,
  "vscode": {
   "interpreter": {
    "hash": "42555cd0c5f1594a81e40866f5733b2cbf65026c937bf0149d49f47f234897c3"
   }
  }
 },
 "nbformat": 4,
 "nbformat_minor": 2
}
