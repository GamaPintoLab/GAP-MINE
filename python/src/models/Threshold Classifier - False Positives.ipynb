{
 "cells": [
  {
   "cell_type": "markdown",
   "id": "c85b7252",
   "metadata": {},
   "source": [
    "# 0. Imports and Data Load"
   ]
  },
  {
   "cell_type": "code",
   "execution_count": 1,
   "id": "46406049",
   "metadata": {},
   "outputs": [
    {
     "data": {
      "text/plain": [
       "{'divide': 'warn', 'over': 'warn', 'under': 'ignore', 'invalid': 'warn'}"
      ]
     },
     "execution_count": 1,
     "metadata": {},
     "output_type": "execute_result"
    }
   ],
   "source": [
    "import pandas as pd\n",
    "import classifiers\n",
    "import importlib\n",
    "from igraph import Graph\n",
    "import numpy as np\n",
    "from ast import literal_eval\n",
    "np.seterr(divide='ignore', invalid='ignore')"
   ]
  },
  {
   "cell_type": "code",
   "execution_count": 11,
   "id": "57d1553f",
   "metadata": {},
   "outputs": [],
   "source": [
    "process_hypergeometric = pd.read_csv(\"../../data/processed/metrics/process_hypergeometric_fp.csv\", sep=',', header=0, index_col=0)\n",
    "process_closeness = pd.read_csv(\"../../data/processed/metrics/process_closeness_fp.csv\", sep=',', header=0, index_col=0)\n",
    "process_betweenness = pd.read_csv(\"../../data/processed/metrics/process_betweenness_fp.csv\", sep=',', header=0, index_col=0)\n",
    "process_rwr = pd.read_csv(\"../../data/processed/metrics/process_rwr_fp.csv\", sep=',', header=0, index_col=0)\n",
    "process_fraction_betweenness = pd.read_csv(\"../../data/processed/metrics/process_fraction_betweenness_fp.csv\", sep=',', header=0, index_col=0)"
   ]
  },
  {
   "cell_type": "code",
   "execution_count": 3,
   "id": "93baca0e",
   "metadata": {},
   "outputs": [],
   "source": [
    "disease_hypergeometric = pd.read_csv(\"../../data/processed/metrics/disease_hypergeometric_fp.csv\", sep=',', header=0, index_col=0)\n",
    "disease_closeness = pd.read_csv(\"../../data/processed/metrics/disease_closeness_fp.csv\", sep=',', header=0, index_col=0)\n",
    "disease_betweenness = pd.read_csv(\"../../data/processed/metrics/disease_betweenness_fp.csv\", sep=',', header=0, index_col=0)\n",
    "disease_rwr = pd.read_csv(\"../../data/processed/metrics/disease_rwr_fp.csv\", sep=',', header=0, index_col=0)\n",
    "disease_fraction_betweenness = pd.read_csv(\"../../data/processed/metrics/disease_fraction_betweenness_fp.csv\", sep=',', header=0, index_col=0)"
   ]
  },
  {
   "cell_type": "code",
   "execution_count": 4,
   "id": "2a395449",
   "metadata": {},
   "outputs": [],
   "source": [
    "disease_hypergeometric_conservative = pd.read_csv(\"../../data/processed/metrics/disease_hypergeometric_conservative_fp.csv\", sep=',', header=0, index_col=0)\n",
    "disease_closeness_conservative = pd.read_csv(\"../../data/processed/metrics/disease_closeness_conservative_fp.csv\", sep=',', header=0, index_col=0)\n",
    "disease_betweenness_conservative = pd.read_csv(\"../../data/processed/metrics/disease_betweenness_conservative_fp.csv\", sep=',', header=0, index_col=0)\n",
    "disease_rwr_conservative = pd.read_csv(\"../../data/processed/metrics/disease_rwr_conservative_fp.csv\", sep=',', header=0, index_col=0)\n",
    "disease_fraction_betweenness_conservative = pd.read_csv(\"../../data/processed/metrics/disease_fraction_betweenness_conservative_fp.csv\", sep=',', header=0, index_col=0)"
   ]
  },
  {
   "cell_type": "code",
   "execution_count": 5,
   "id": "8c75c2eb",
   "metadata": {},
   "outputs": [],
   "source": [
    "graph = Graph.Read_GML(\"../../data/processed/graph_apid_huri\")\n",
    "disgenet_proteins_indexes_df = pd.read_csv(\"../../data/processed/disgenet_protein_indexes_fp.csv\", sep=',', header=0)\n",
    "disgenet_proteins_indexes_conservative_df = pd.read_csv(\"../../data/processed/disgenet_protein_indexes_conservative_fp.csv\", sep=',', header=0)\n",
    "reactome_proteins_indexes_df = pd.read_csv(\"../../data/processed/reactome_protein_indexes_fp.csv\", sep=',', header=0)"
   ]
  },
  {
   "cell_type": "code",
   "execution_count": null,
   "id": "4efe035b",
   "metadata": {},
   "outputs": [],
   "source": [
    "disgenet_proteins_indexes_fp = pd.read_csv('../../data/processed/disgenet_protein_indexes_fp.csv')\n",
    "disgenet_proteins_indexes_conservative_fp = pd.read_csv('../../data/processed/disgenet_protein_indexes_conservative_fp.csv')\n",
    "disgenet_proteins_indexes_conservative_fp['fp_proteins_index'] = disgenet_proteins_indexes_conservative_fp['fp_proteins_index'].apply(literal_eval)\n",
    "disgenet_proteins_indexes_fp['fp_proteins_index'] = disgenet_proteins_indexes_fp['fp_proteins_index'].apply(literal_eval"
   ]
  },
  {
   "cell_type": "code",
   "execution_count": null,
   "id": "2e324ec4",
   "metadata": {},
   "outputs": [],
   "source": [
    "reactome_proteins_indexes_fp = pd.read_csv('../../data/processed/reactome_protein_indexes_fp.csv')\n",
    "reactome_proteins_indexes_fp['fp_proteins_index'] = reactome_proteins_indexes_fp['fp_proteins_index'].apply(literal_eval)\n",
    "\n",
    "reactome_labels = np.zeros(process_hypergeometric.shape)\n",
    "column = 0\n",
    "for indexes in reactome_proteins_indexes_fp['fp_proteins_index'].values:\n",
    "    for pos in indexes:\n",
    "        reactome_labels[pos][column] = 1\n",
    "    column += 1\n",
    "np.savetxt(\"../../data/processed/reactome_labels_fp.csv\", reactome_labels, delimiter=\",\")"
   ]
  },
  {
   "cell_type": "code",
   "execution_count": null,
   "id": "f3aeb737",
   "metadata": {},
   "outputs": [],
   "source": [
    "disgenet_labels = np.zeros((len(graph.vs['name']), len(disgenet_proteins_indexes_fp)))\n",
    "column = 0\n",
    "for indexes in disgenet_proteins_indexes_fp['fp_proteins_index'].values:\n",
    "    for pos in indexes:\n",
    "        disgenet_labels[pos][column] = 1\n",
    "    column += 1\n",
    "np.savetxt(\"../../data/processed/disgenet_labels_fp.csv\", disgenet_labels, delimiter=\",\")"
   ]
  },
  {
   "cell_type": "code",
   "execution_count": null,
   "id": "4590c991",
   "metadata": {},
   "outputs": [],
   "source": [
    "disgenet_labels_conservative = np.zeros((len(graph.vs['name']), len(disgenet_proteins_indexes_conservative_fp)))\n",
    "column = 0\n",
    "for indexes in disgenet_proteins_indexes_conservative_fp['fp_proteins_index'].values:\n",
    "    for pos in indexes:\n",
    "        disgenet_labels_conservative[pos][column] = 1\n",
    "    column += 1\n",
    "np.savetxt(\"../../data/processed/disgenet_conservative_labels_fp.csv\", disgenet_labels_conservative, delimiter=\",\")"
   ]
  },
  {
   "cell_type": "code",
   "execution_count": 6,
   "id": "a05a8ddb",
   "metadata": {},
   "outputs": [],
   "source": [
    "disgenet_labels_df = pd.read_csv(\"../../data/processed/disgenet_labels_fp.csv\", sep=',', names=disgenet_proteins_indexes_df['process'].values)\n",
    "disgenet_labels_df['protein_id'] = graph.vs['name']\n",
    "disgenet_labels_df.set_index('protein_id', inplace=True)\n",
    "\n",
    "disgenet_labels_conservative_df = pd.read_csv('../../data/processed/disgenet_conservative_labels_fp.csv', names=disgenet_proteins_indexes_conservative_df['process'].values)\n",
    "disgenet_labels_conservative_df['protein_id'] = graph.vs['name']\n",
    "disgenet_labels_conservative_df.set_index('protein_id', inplace=True)\n",
    "\n",
    "reactome_labels_df = pd.read_csv(\"../../data/processed/reactome_labels_fp.csv\", sep=',', names=reactome_proteins_indexes_df['process'].values)\n",
    "reactome_labels_df['protein_id'] = graph.vs['name']\n",
    "reactome_labels_df.set_index('protein_id', inplace=True)"
   ]
  },
  {
   "cell_type": "code",
   "execution_count": 13,
   "id": "9110ca0c",
   "metadata": {},
   "outputs": [],
   "source": [
    "process_hypergeometric_test_indices = pd.read_csv(\"../../data/processed/fs/reactome_hyper_test_apid_huri.csv\", sep=',', header=0).transpose().to_numpy(dtype='int')-1\n",
    "process_closeness_test_indices = pd.read_csv(\"../../data/processed/fs/reactome_closeness_test_apid_huri.csv\", sep=',', header=0).transpose().to_numpy(dtype='int')-1\n",
    "process_betweenness_test_indices = pd.read_csv(\"../../data/processed/fs/reactome_betweenness_test_apid_huri.csv\", sep=',', header=0).transpose().to_numpy(dtype='int')-1\n",
    "process_fraction_betweenness_test_indices = pd.read_csv(\"../../data/processed/fs/reactome_fraction_betweenness_test_apid_huri.csv\", sep=',', header=0).transpose().to_numpy(dtype='int')-1\n",
    "process_rwr_test_indices = pd.read_csv(\"../../data/processed/fs/reactome_rwr_test_fp.csv\", sep=',', header=0).transpose().to_numpy(dtype='int')-1\n",
    "\n",
    "disease_hypergeometric_test_indices = pd.read_csv(\"../../data/processed/fs/disease/disease_hyper_test_apid_huri.csv\", sep=',', header=0).transpose().to_numpy(dtype='int')-1\n",
    "disease_closeness_test_indices = pd.read_csv(\"../../data/processed/fs/disease/disease_closeness_test_apid_huri.csv\", sep=',', header=0).transpose().to_numpy(dtype='int')-1\n",
    "disease_betweenness_test_indices = pd.read_csv(\"../../data/processed/fs/disease/disease_betweenness_test_apid_huri.csv\", sep=',', header=0).transpose().to_numpy(dtype='int')-1\n",
    "disease_fraction_betweenness_test_indices = pd.read_csv(\"../../data/processed/fs/disease/disease_fraction_betweenness_test_apid_huri.csv\", sep=',', header=0).transpose().to_numpy(dtype='int')-1\n",
    "disease_rwr_test_indices = pd.read_csv(\"../../data/processed/fs/disease/disease_rwr_test_fp.csv\", sep=',', header=0).transpose().to_numpy(dtype='int')-1\n",
    "\n",
    "disease_hypergeometric_test_indices_conservative = pd.read_csv(\"../../data/processed/fs/disease/disease_hypergeometric_test_conservative_fp.csv\", sep=',', header=0).transpose().to_numpy(dtype='int')-1\n",
    "disease_closeness_test_indices_conservative = pd.read_csv(\"../../data/processed/fs/disease/disease_closeness_test_conservative_fp.csv\", sep=',', header=0).transpose().to_numpy(dtype='int')-1\n",
    "disease_betweenness_test_indices_conservative = pd.read_csv(\"../../data/processed/fs/disease/disease_betweenness_test_conservative_fp.csv\", sep=',', header=0).transpose().to_numpy(dtype='int')-1\n",
    "disease_fraction_betweenness_test_indices_conservative = pd.read_csv(\"../../data/processed/fs/disease/disease_fraction_betweenness_test_conservative_fp.csv\", sep=',', header=0).transpose().to_numpy(dtype='int')-1\n",
    "disease_rwr_test_indices_conservative = pd.read_csv(\"../../data/processed/fs/disease/disease_rwr_test_conservative_fp.csv\", sep=',', header=0).transpose().to_numpy(dtype='int')-1"
   ]
  },
  {
   "cell_type": "markdown",
   "id": "63b7c570",
   "metadata": {},
   "source": [
    "# 1. Threshold Classifier - Complete Network"
   ]
  },
  {
   "cell_type": "markdown",
   "id": "b9744ce9",
   "metadata": {},
   "source": [
    "## 1.1. Process Classification"
   ]
  },
  {
   "cell_type": "code",
   "execution_count": 15,
   "id": "2632b867",
   "metadata": {},
   "outputs": [
    {
     "data": {
      "application/vnd.jupyter.widget-view+json": {
       "model_id": "a31941cc37b3450da4e2e6fa9c977d15",
       "version_major": 2,
       "version_minor": 0
      },
      "text/plain": [
       "  0%|          | 0/429 [00:00<?, ?it/s]"
      ]
     },
     "metadata": {},
     "output_type": "display_data"
    }
   ],
   "source": [
    "importlib.reload(classifiers)\n",
    "process_hypergeometric_clf = classifiers.threshold_classifier_fp(process_hypergeometric, reactome_labels_df, process_hypergeometric_test_indices, op_metric='fmeasure')\n",
    "process_hypergeometric_clf.to_csv('../../models/apid_huri_fp/threshold/process_hypergeometric.csv', index=False)"
   ]
  },
  {
   "cell_type": "code",
   "execution_count": 16,
   "id": "f9f83a82",
   "metadata": {},
   "outputs": [
    {
     "data": {
      "application/vnd.jupyter.widget-view+json": {
       "model_id": "b56c3debb83c491f8cdace00c04f4ffd",
       "version_major": 2,
       "version_minor": 0
      },
      "text/plain": [
       "  0%|          | 0/429 [00:00<?, ?it/s]"
      ]
     },
     "metadata": {},
     "output_type": "display_data"
    }
   ],
   "source": [
    "importlib.reload(classifiers)\n",
    "process_closeness_clf = classifiers.threshold_classifier_fp(process_closeness, reactome_labels_df, process_closeness_test_indices, op_metric='fmeasure')\n",
    "process_closeness_clf.to_csv('../../models/apid_huri_fp/threshold/process_closeness.csv', index=False)"
   ]
  },
  {
   "cell_type": "code",
   "execution_count": 17,
   "id": "4b84d355",
   "metadata": {},
   "outputs": [
    {
     "data": {
      "application/vnd.jupyter.widget-view+json": {
       "model_id": "0045d299bccc4ebd97c8b3ed2054d11b",
       "version_major": 2,
       "version_minor": 0
      },
      "text/plain": [
       "  0%|          | 0/429 [00:00<?, ?it/s]"
      ]
     },
     "metadata": {},
     "output_type": "display_data"
    }
   ],
   "source": [
    "importlib.reload(classifiers)\n",
    "process_betweenness_clf = classifiers.threshold_classifier_fp(process_betweenness, reactome_labels_df, process_betweenness_test_indices, op_metric='fmeasure')\n",
    "process_betweenness_clf.to_csv('../../models/apid_huri_fp/threshold/process_betweenness.csv', index=False)"
   ]
  },
  {
   "cell_type": "code",
   "execution_count": 18,
   "id": "e91de68c",
   "metadata": {},
   "outputs": [
    {
     "data": {
      "application/vnd.jupyter.widget-view+json": {
       "model_id": "93e0b5e094104c9f928ebefb63fe32c4",
       "version_major": 2,
       "version_minor": 0
      },
      "text/plain": [
       "  0%|          | 0/429 [00:00<?, ?it/s]"
      ]
     },
     "metadata": {},
     "output_type": "display_data"
    }
   ],
   "source": [
    "importlib.reload(classifiers)\n",
    "process_fraction_betweenness_clf = classifiers.threshold_classifier_fp(process_fraction_betweenness, reactome_labels_df, process_fraction_betweenness_test_indices, op_metric='fmeasure')\n",
    "process_fraction_betweenness_clf.to_csv('../../models/apid_huri_fp/threshold/process_fraction_betweenness.csv', index=False)"
   ]
  },
  {
   "cell_type": "code",
   "execution_count": 22,
   "id": "ee62d48b",
   "metadata": {},
   "outputs": [
    {
     "data": {
      "application/vnd.jupyter.widget-view+json": {
       "model_id": "42945e349a7044cebac6e37b9b6c1c07",
       "version_major": 2,
       "version_minor": 0
      },
      "text/plain": [
       "  0%|          | 0/429 [00:00<?, ?it/s]"
      ]
     },
     "metadata": {},
     "output_type": "display_data"
    }
   ],
   "source": [
    "importlib.reload(classifiers)\n",
    "process_rwr_clf = classifiers.threshold_classifier_fp(process_rwr, reactome_labels_df, process_rwr_test_indices, op_metric='fmeasure')\n",
    "process_rwr_clf.to_csv('../../models/apid_huri_fp/threshold/process_rwr.csv', index=False)"
   ]
  },
  {
   "cell_type": "markdown",
   "id": "1ebaaa69",
   "metadata": {},
   "source": [
    "## 1.2. SCA Classification"
   ]
  },
  {
   "cell_type": "code",
   "execution_count": 19,
   "id": "e16145b9",
   "metadata": {
    "scrolled": true
   },
   "outputs": [
    {
     "data": {
      "application/vnd.jupyter.widget-view+json": {
       "model_id": "f5b30c3e5069471bb49030c6886aefc9",
       "version_major": 2,
       "version_minor": 0
      },
      "text/plain": [
       "  0%|          | 0/203 [00:00<?, ?it/s]"
      ]
     },
     "metadata": {},
     "output_type": "display_data"
    }
   ],
   "source": [
    "importlib.reload(classifiers)\n",
    "disease_hypergeometric_clf = classifiers.threshold_classifier_fp(disease_hypergeometric, disgenet_labels_df, disease_hypergeometric_test_indices, op_metric='fmeasure')\n",
    "disease_hypergeometric_clf.to_csv('../../models/apid_huri_fp/threshold/disease_hypergeometric.csv', index=False)"
   ]
  },
  {
   "cell_type": "code",
   "execution_count": 20,
   "id": "e7a5343c",
   "metadata": {},
   "outputs": [
    {
     "data": {
      "application/vnd.jupyter.widget-view+json": {
       "model_id": "e7ab28c577ae403ca963a1e3e039fd0d",
       "version_major": 2,
       "version_minor": 0
      },
      "text/plain": [
       "  0%|          | 0/203 [00:00<?, ?it/s]"
      ]
     },
     "metadata": {},
     "output_type": "display_data"
    }
   ],
   "source": [
    "importlib.reload(classifiers)\n",
    "disease_closeness_clf = classifiers.threshold_classifier_fp(disease_closeness, disgenet_labels_df, disease_closeness_test_indices, op_metric='fmeasure')\n",
    "disease_closeness_clf.to_csv('../../models/apid_huri_fp/threshold/disease_closeness.csv', index=False)"
   ]
  },
  {
   "cell_type": "code",
   "execution_count": 21,
   "id": "aba90a22",
   "metadata": {},
   "outputs": [
    {
     "data": {
      "application/vnd.jupyter.widget-view+json": {
       "model_id": "8763237e9bfb4edcbccc496f227d5370",
       "version_major": 2,
       "version_minor": 0
      },
      "text/plain": [
       "  0%|          | 0/203 [00:00<?, ?it/s]"
      ]
     },
     "metadata": {},
     "output_type": "display_data"
    }
   ],
   "source": [
    "importlib.reload(classifiers)\n",
    "disease_betweenness_clf = classifiers.threshold_classifier_fp(disease_betweenness, disgenet_labels_df, disease_betweenness_test_indices, op_metric='fmeasure')\n",
    "disease_betweenness_clf.to_csv('../../models/apid_huri_fp/threshold/disease_betweenness.csv', index=False)"
   ]
  },
  {
   "cell_type": "code",
   "execution_count": 24,
   "id": "275101f4",
   "metadata": {},
   "outputs": [
    {
     "data": {
      "application/vnd.jupyter.widget-view+json": {
       "model_id": "5516c54aacb140a4aa1b335ae64636c9",
       "version_major": 2,
       "version_minor": 0
      },
      "text/plain": [
       "  0%|          | 0/203 [00:00<?, ?it/s]"
      ]
     },
     "metadata": {},
     "output_type": "display_data"
    }
   ],
   "source": [
    "importlib.reload(classifiers)\n",
    "disease_fraction_betweenness_clf = classifiers.threshold_classifier_fp(disease_fraction_betweenness, disgenet_labels_df, disease_fraction_betweenness_test_indices, op_metric='fmeasure')\n",
    "disease_fraction_betweenness_clf.to_csv('../../models/apid_huri_fp/threshold/disease_fraction_betweenness.csv', index=False)"
   ]
  },
  {
   "cell_type": "code",
   "execution_count": 23,
   "id": "ec60a58b",
   "metadata": {
    "scrolled": true
   },
   "outputs": [
    {
     "data": {
      "application/vnd.jupyter.widget-view+json": {
       "model_id": "0b499601ed02490283ef30878807e5a6",
       "version_major": 2,
       "version_minor": 0
      },
      "text/plain": [
       "  0%|          | 0/203 [00:00<?, ?it/s]"
      ]
     },
     "metadata": {},
     "output_type": "display_data"
    }
   ],
   "source": [
    "importlib.reload(classifiers)\n",
    "disease_rwr_clf = classifiers.threshold_classifier_fp(disease_rwr, disgenet_labels_df, disease_rwr_test_indices, op_metric='fmeasure')\n",
    "disease_rwr_clf.to_csv('../../models/apid_huri_fp/threshold/disease_rwr.csv', index=False)"
   ]
  },
  {
   "cell_type": "markdown",
   "id": "2d0d8e3b",
   "metadata": {},
   "source": [
    "## 1.3. Conservative Module Classification"
   ]
  },
  {
   "cell_type": "code",
   "execution_count": 27,
   "id": "87f618e2",
   "metadata": {},
   "outputs": [
    {
     "data": {
      "application/vnd.jupyter.widget-view+json": {
       "model_id": "47aa4f4772f7483cb32199fca50a55a9",
       "version_major": 2,
       "version_minor": 0
      },
      "text/plain": [
       "  0%|          | 0/301 [00:00<?, ?it/s]"
      ]
     },
     "metadata": {},
     "output_type": "display_data"
    }
   ],
   "source": [
    "importlib.reload(classifiers)\n",
    "disease_hypergeometric_clf_conservative = classifiers.threshold_classifier_fp(disease_hypergeometric_conservative, disgenet_labels_conservative_df, disease_hypergeometric_test_indices_conservative, op_metric='fmeasure')\n",
    "disease_hypergeometric_clf_conservative.to_csv('../../models/apid_huri_fp/threshold/disease_hypergeometric_conservative.csv', index=False)"
   ]
  },
  {
   "cell_type": "code",
   "execution_count": 28,
   "id": "60cf2e89",
   "metadata": {},
   "outputs": [
    {
     "data": {
      "application/vnd.jupyter.widget-view+json": {
       "model_id": "275bddf9835349d89faf375ddfe69114",
       "version_major": 2,
       "version_minor": 0
      },
      "text/plain": [
       "  0%|          | 0/301 [00:00<?, ?it/s]"
      ]
     },
     "metadata": {},
     "output_type": "display_data"
    }
   ],
   "source": [
    "importlib.reload(classifiers)\n",
    "disease_closeness_clf_conservative = classifiers.threshold_classifier_fp(disease_closeness_conservative, disgenet_labels_conservative_df, disease_closeness_test_indices_conservative, op_metric='fmeasure')\n",
    "disease_closeness_clf_conservative.to_csv('../../models/apid_huri_fp/threshold/disease_closeness_conservative.csv', index=False)"
   ]
  },
  {
   "cell_type": "code",
   "execution_count": 25,
   "id": "811d00f0",
   "metadata": {},
   "outputs": [
    {
     "data": {
      "application/vnd.jupyter.widget-view+json": {
       "model_id": "92c9f8c7cec648518ead9d8831336786",
       "version_major": 2,
       "version_minor": 0
      },
      "text/plain": [
       "  0%|          | 0/301 [00:00<?, ?it/s]"
      ]
     },
     "metadata": {},
     "output_type": "display_data"
    }
   ],
   "source": [
    "importlib.reload(classifiers)\n",
    "disease_betweenness_clf_conservative = classifiers.threshold_classifier_fp(disease_betweenness_conservative, disgenet_labels_conservative_df, disease_betweenness_test_indices_conservative, op_metric='fmeasure')\n",
    "disease_betweenness_clf_conservative.to_csv('../../models/apid_huri_fp/threshold/disease_betweenness_conservative.csv', index=False)"
   ]
  },
  {
   "cell_type": "code",
   "execution_count": 26,
   "id": "8f39b3df",
   "metadata": {},
   "outputs": [
    {
     "data": {
      "application/vnd.jupyter.widget-view+json": {
       "model_id": "a0ebf90ffcce4c92b83db0baff3357db",
       "version_major": 2,
       "version_minor": 0
      },
      "text/plain": [
       "  0%|          | 0/301 [00:00<?, ?it/s]"
      ]
     },
     "metadata": {},
     "output_type": "display_data"
    }
   ],
   "source": [
    "importlib.reload(classifiers)\n",
    "disease_fraction_betweenness_clf_conservative = classifiers.threshold_classifier_fp(disease_fraction_betweenness_conservative, disgenet_labels_conservative_df, disease_fraction_betweenness_test_indices_conservative, op_metric='fmeasure')\n",
    "disease_fraction_betweenness_clf_conservative.to_csv('../../models/apid_huri_fp/threshold/disease_fraction_betweenness_conservative.csv', index=False)"
   ]
  },
  {
   "cell_type": "code",
   "execution_count": 26,
   "id": "1ec7d392",
   "metadata": {},
   "outputs": [
    {
     "data": {
      "application/vnd.jupyter.widget-view+json": {
       "model_id": "7faf40488e5d48718465ac5f81379e5f",
       "version_major": 2,
       "version_minor": 0
      },
      "text/plain": [
       "  0%|          | 0/301 [00:00<?, ?it/s]"
      ]
     },
     "metadata": {},
     "output_type": "display_data"
    }
   ],
   "source": [
    "importlib.reload(classifiers)\n",
    "disease_rwr_conservative_clf = classifiers.threshold_classifier_fp(disease_rwr_conservative, disgenet_labels_conservative_df, disease_rwr_test_indices_conservative, op_metric='fmeasure')\n",
    "disease_rwr_conservative_clf.to_csv('../../models/apid_huri_fp/threshold/disease_rwr_conservative.csv', index=False)"
   ]
  }
 ],
 "metadata": {
  "interpreter": {
   "hash": "42555cd0c5f1594a81e40866f5733b2cbf65026c937bf0149d49f47f234897c3"
  },
  "kernelspec": {
   "display_name": "Python 3.8.8 ('base')",
   "language": "python",
   "name": "python3"
  },
  "language_info": {
   "codemirror_mode": {
    "name": "ipython",
    "version": 3
   },
   "file_extension": ".py",
   "mimetype": "text/x-python",
   "name": "python",
   "nbconvert_exporter": "python",
   "pygments_lexer": "ipython3",
   "version": "3.8.8"
  }
 },
 "nbformat": 4,
 "nbformat_minor": 5
}
