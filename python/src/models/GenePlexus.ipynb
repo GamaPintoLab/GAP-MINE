{
 "cells": [
  {
   "cell_type": "code",
   "execution_count": 1,
   "metadata": {},
   "outputs": [
    {
     "ename": "ModuleNotFoundError",
     "evalue": "No module named 'geneplexus'",
     "output_type": "error",
     "traceback": [
      "\u001b[1;31m---------------------------------------------------------------------------\u001b[0m",
      "\u001b[1;31mModuleNotFoundError\u001b[0m                       Traceback (most recent call last)",
      "\u001b[1;32m<ipython-input-1-8f6b2dece48a>\u001b[0m in \u001b[0;36m<module>\u001b[1;34m\u001b[0m\n\u001b[0;32m      1\u001b[0m \u001b[1;32mimport\u001b[0m \u001b[0mtime\u001b[0m\u001b[1;33m\u001b[0m\u001b[1;33m\u001b[0m\u001b[0m\n\u001b[0;32m      2\u001b[0m \u001b[1;32mimport\u001b[0m \u001b[0mnumpy\u001b[0m \u001b[1;32mas\u001b[0m \u001b[0mnp\u001b[0m\u001b[1;33m\u001b[0m\u001b[1;33m\u001b[0m\u001b[0m\n\u001b[1;32m----> 3\u001b[1;33m \u001b[1;32mimport\u001b[0m \u001b[0mgeneplexus\u001b[0m\u001b[1;33m\u001b[0m\u001b[1;33m\u001b[0m\u001b[0m\n\u001b[0m\u001b[0;32m      4\u001b[0m \u001b[1;32mimport\u001b[0m \u001b[0mpandas\u001b[0m \u001b[1;32mas\u001b[0m \u001b[0mpd\u001b[0m\u001b[1;33m\u001b[0m\u001b[1;33m\u001b[0m\u001b[0m\n\u001b[0;32m      5\u001b[0m \u001b[1;32mfrom\u001b[0m \u001b[0mast\u001b[0m \u001b[1;32mimport\u001b[0m \u001b[0mliteral_eval\u001b[0m\u001b[1;33m\u001b[0m\u001b[1;33m\u001b[0m\u001b[0m\n",
      "\u001b[1;31mModuleNotFoundError\u001b[0m: No module named 'geneplexus'"
     ]
    }
   ],
   "source": [
    "import time\n",
    "import numpy as np\n",
    "import geneplexus\n",
    "import pandas as pd\n",
    "from ast import literal_eval"
   ]
  },
  {
   "cell_type": "code",
   "execution_count": null,
   "metadata": {},
   "outputs": [],
   "source": [
    "process_modules = pd.read_csv('../../data/processed/string_reactome_modules.csv')\n",
    "process_modules['proteins_ids'] = process_modules['proteins_ids'].apply(literal_eval)"
   ]
  },
  {
   "cell_type": "code",
   "execution_count": null,
   "metadata": {},
   "outputs": [
    {
     "data": {
      "text/html": [
       "<div>\n",
       "<style scoped>\n",
       "    .dataframe tbody tr th:only-of-type {\n",
       "        vertical-align: middle;\n",
       "    }\n",
       "\n",
       "    .dataframe tbody tr th {\n",
       "        vertical-align: top;\n",
       "    }\n",
       "\n",
       "    .dataframe thead th {\n",
       "        text-align: right;\n",
       "    }\n",
       "</style>\n",
       "<table border=\"1\" class=\"dataframe\">\n",
       "  <thead>\n",
       "    <tr style=\"text-align: right;\">\n",
       "      <th></th>\n",
       "      <th>process</th>\n",
       "      <th>proteins_ids</th>\n",
       "      <th>protein_index</th>\n",
       "      <th>module_size</th>\n",
       "    </tr>\n",
       "  </thead>\n",
       "  <tbody>\n",
       "    <tr>\n",
       "      <th>0</th>\n",
       "      <td>R-HSA-1031716</td>\n",
       "      <td>[TRIM10, TRIM22, IRF9, IFI30, TRIM38, TRIM3, T...</td>\n",
       "      <td>[17125, 17135, 7866, 7534, 17151, 17143, 17144...</td>\n",
       "      <td>71</td>\n",
       "    </tr>\n",
       "    <tr>\n",
       "      <th>1</th>\n",
       "      <td>R-HSA-112379</td>\n",
       "      <td>[CDK7, CDK9, SUPT16H, LEO1, ERCC2, ERCC3, RTF1...</td>\n",
       "      <td>[2866, 2868, 15922, 8770, 5106, 5107, 14118, 1...</td>\n",
       "      <td>52</td>\n",
       "    </tr>\n",
       "    <tr>\n",
       "      <th>2</th>\n",
       "      <td>R-HSA-112385</td>\n",
       "      <td>[CDK7, CDK9, SUPT16H, LEO1, ERCC2, ERCC3, RTF1...</td>\n",
       "      <td>[2866, 2868, 15922, 8770, 5106, 5107, 14118, 1...</td>\n",
       "      <td>52</td>\n",
       "    </tr>\n",
       "    <tr>\n",
       "      <th>3</th>\n",
       "      <td>R-HSA-1168640</td>\n",
       "      <td>[PSME3, PSMD14, PSMB11, PSMA8, PSME4, NFKB1, N...</td>\n",
       "      <td>[13051, 13040, 13019, 13016, 13052, 10560, 105...</td>\n",
       "      <td>50</td>\n",
       "    </tr>\n",
       "    <tr>\n",
       "      <th>4</th>\n",
       "      <td>R-HSA-1234159</td>\n",
       "      <td>[PSME3, PSMD14, EGLN3, PSMB11, WTIP, PSMA8, EP...</td>\n",
       "      <td>[13051, 13040, 4843, 13019, 18131, 13016, 5040...</td>\n",
       "      <td>59</td>\n",
       "    </tr>\n",
       "    <tr>\n",
       "      <th>...</th>\n",
       "      <td>...</td>\n",
       "      <td>...</td>\n",
       "      <td>...</td>\n",
       "      <td>...</td>\n",
       "    </tr>\n",
       "    <tr>\n",
       "      <th>239</th>\n",
       "      <td>R-HSA-983147</td>\n",
       "      <td>[GPR75-ASB3, HUWE1, RNF41, STUB1, TRAIP, KLHL4...</td>\n",
       "      <td>[6686, 7472, 13881, 15857, 17081, 8400, 616, 1...</td>\n",
       "      <td>210</td>\n",
       "    </tr>\n",
       "    <tr>\n",
       "      <th>240</th>\n",
       "      <td>R-HSA-983156</td>\n",
       "      <td>[GPR75-ASB3, HUWE1, RNF41, STUB1, TRAIP, KLHL4...</td>\n",
       "      <td>[6686, 7472, 13881, 15857, 17081, 8400, 616, 1...</td>\n",
       "      <td>247</td>\n",
       "    </tr>\n",
       "    <tr>\n",
       "      <th>241</th>\n",
       "      <td>R-HSA-983157</td>\n",
       "      <td>[GPR75-ASB3, HUWE1, RNF41, STUB1, TRAIP, KLHL4...</td>\n",
       "      <td>[6686, 7472, 13881, 15857, 17081, 8400, 616, 1...</td>\n",
       "      <td>247</td>\n",
       "    </tr>\n",
       "    <tr>\n",
       "      <th>242</th>\n",
       "      <td>R-HSA-983259</td>\n",
       "      <td>[KIF20A, TUBA1B, TUBB3, TUBB4A, TUBB4B, CENPE,...</td>\n",
       "      <td>[8293, 17403, 17415, 17416, 17417, 2951, 8292,...</td>\n",
       "      <td>59</td>\n",
       "    </tr>\n",
       "    <tr>\n",
       "      <th>243</th>\n",
       "      <td>R-HSA-983266</td>\n",
       "      <td>[KIF20A, TUBA1B, TUBB3, TUBB4A, TUBB4B, CENPE,...</td>\n",
       "      <td>[8293, 17403, 17415, 17416, 17417, 2951, 8292,...</td>\n",
       "      <td>59</td>\n",
       "    </tr>\n",
       "  </tbody>\n",
       "</table>\n",
       "<p>244 rows × 4 columns</p>\n",
       "</div>"
      ],
      "text/plain": [
       "           process                                       proteins_ids  \\\n",
       "0    R-HSA-1031716  [TRIM10, TRIM22, IRF9, IFI30, TRIM38, TRIM3, T...   \n",
       "1     R-HSA-112379  [CDK7, CDK9, SUPT16H, LEO1, ERCC2, ERCC3, RTF1...   \n",
       "2     R-HSA-112385  [CDK7, CDK9, SUPT16H, LEO1, ERCC2, ERCC3, RTF1...   \n",
       "3    R-HSA-1168640  [PSME3, PSMD14, PSMB11, PSMA8, PSME4, NFKB1, N...   \n",
       "4    R-HSA-1234159  [PSME3, PSMD14, EGLN3, PSMB11, WTIP, PSMA8, EP...   \n",
       "..             ...                                                ...   \n",
       "239   R-HSA-983147  [GPR75-ASB3, HUWE1, RNF41, STUB1, TRAIP, KLHL4...   \n",
       "240   R-HSA-983156  [GPR75-ASB3, HUWE1, RNF41, STUB1, TRAIP, KLHL4...   \n",
       "241   R-HSA-983157  [GPR75-ASB3, HUWE1, RNF41, STUB1, TRAIP, KLHL4...   \n",
       "242   R-HSA-983259  [KIF20A, TUBA1B, TUBB3, TUBB4A, TUBB4B, CENPE,...   \n",
       "243   R-HSA-983266  [KIF20A, TUBA1B, TUBB3, TUBB4A, TUBB4B, CENPE,...   \n",
       "\n",
       "                                         protein_index  module_size  \n",
       "0    [17125, 17135, 7866, 7534, 17151, 17143, 17144...           71  \n",
       "1    [2866, 2868, 15922, 8770, 5106, 5107, 14118, 1...           52  \n",
       "2    [2866, 2868, 15922, 8770, 5106, 5107, 14118, 1...           52  \n",
       "3    [13051, 13040, 13019, 13016, 13052, 10560, 105...           50  \n",
       "4    [13051, 13040, 4843, 13019, 18131, 13016, 5040...           59  \n",
       "..                                                 ...          ...  \n",
       "239  [6686, 7472, 13881, 15857, 17081, 8400, 616, 1...          210  \n",
       "240  [6686, 7472, 13881, 15857, 17081, 8400, 616, 1...          247  \n",
       "241  [6686, 7472, 13881, 15857, 17081, 8400, 616, 1...          247  \n",
       "242  [8293, 17403, 17415, 17416, 17417, 2951, 8292,...           59  \n",
       "243  [8293, 17403, 17415, 17416, 17417, 2951, 8292,...           59  \n",
       "\n",
       "[244 rows x 4 columns]"
      ]
     },
     "execution_count": 11,
     "metadata": {},
     "output_type": "execute_result"
    }
   ],
   "source": [
    "process_modules"
   ]
  },
  {
   "cell_type": "code",
   "execution_count": null,
   "metadata": {},
   "outputs": [],
   "source": [
    "datadir = '../../data/processed/GenePlexus/'"
   ]
  },
  {
   "cell_type": "code",
   "execution_count": null,
   "metadata": {},
   "outputs": [
    {
     "name": "stderr",
     "output_type": "stream",
     "text": [
      "geneplexus:download_select_data:WARNING:Downloading data type ['Adjacency'] may take a while (~10min to an hour depending on the downloadspeed)\n",
      "geneplexus:download_select_data:INFO:Total number of files to download: 7\n",
      "geneplexus:download_select_data:INFO:Start downloading data and saving to: ../../data/processed/GenePlexus/\n",
      "geneplexus:_download_file:INFO:Downloaded CorrectionMatrix_DisGeNet_DisGeNet_STRING_Adjacency.npy\n",
      "geneplexus:_download_file:INFO:Downloaded CorrectionMatrix_DisGeNet_GO_STRING_Adjacency.npy\n",
      "geneplexus:_download_file:INFO:Downloaded CorrectionMatrix_GO_DisGeNet_STRING_Adjacency.npy\n",
      "geneplexus:_download_file:INFO:Downloaded Data_Adjacency_STRING.npy\n",
      "geneplexus:_download_file:INFO:Downloaded CorrectionMatrix_GO_GO_STRING_Adjacency.npy\n",
      "geneplexus:_download_file:INFO:Downloaded PreTrainedWeights_DisGeNet_STRING_Adjacency.json\n",
      "geneplexus:_download_file:INFO:Downloaded PreTrainedWeights_GO_STRING_Adjacency.json\n",
      "geneplexus:download_select_data:INFO:Download completed.\n"
     ]
    }
   ],
   "source": [
    "geneplexus.download.download_select_data(\n",
    "    datadir,\n",
    "    tasks=\"All\",\n",
    "    networks=\"STRING\",\n",
    "    features=\"Adjacency\",\n",
    "    gscs=[\"GO\", \"DisGeNet\"],\n",
    ")"
   ]
  },
  {
   "cell_type": "code",
   "execution_count": null,
   "metadata": {},
   "outputs": [],
   "source": [
    "myclass = geneplexus.GenePlexus(datadir, \"STRING\", \"Adjacency\", \"DisGeNet\")"
   ]
  },
  {
   "cell_type": "code",
   "execution_count": 1,
   "metadata": {},
   "outputs": [
    {
     "ename": "NameError",
     "evalue": "name 'myclass' is not defined",
     "output_type": "error",
     "traceback": [
      "\u001b[1;31m---------------------------------------------------------------------------\u001b[0m",
      "\u001b[1;31mNameError\u001b[0m                                 Traceback (most recent call last)",
      "\u001b[1;32m<ipython-input-1-abcaa71882e1>\u001b[0m in \u001b[0;36m<module>\u001b[1;34m\u001b[0m\n\u001b[1;32m----> 1\u001b[1;33m \u001b[0mmyclass\u001b[0m\u001b[1;33m\u001b[0m\u001b[1;33m\u001b[0m\u001b[0m\n\u001b[0m",
      "\u001b[1;31mNameError\u001b[0m: name 'myclass' is not defined"
     ]
    }
   ],
   "source": [
    "myclass"
   ]
  },
  {
   "cell_type": "code",
   "execution_count": null,
   "metadata": {},
   "outputs": [],
   "source": [
    "myclass.load_genes(process_modules['proteins_ids'][0])"
   ]
  },
  {
   "cell_type": "code",
   "execution_count": null,
   "metadata": {},
   "outputs": [],
   "source": [
    "mdl_weights, df_probs, avgps = myclass.fit_and_predict()"
   ]
  },
  {
   "cell_type": "code",
   "execution_count": 21,
   "metadata": {},
   "outputs": [
    {
     "data": {
      "text/plain": [
       "[6.130141508515011, 6.1915420531791545, 6.184286237176355]"
      ]
     },
     "execution_count": 21,
     "metadata": {},
     "output_type": "execute_result"
    }
   ],
   "source": [
    "df_probs"
   ]
  },
  {
   "cell_type": "code",
   "execution_count": 20,
   "metadata": {},
   "outputs": [],
   "source": [
    "df_convert_out_subset, positive_genes = myclass.alter_validation_df()"
   ]
  }
 ],
 "metadata": {
  "kernelspec": {
   "display_name": "base",
   "language": "python",
   "name": "python3"
  },
  "language_info": {
   "codemirror_mode": {
    "name": "ipython",
    "version": 3
   },
   "file_extension": ".py",
   "mimetype": "text/x-python",
   "name": "python",
   "nbconvert_exporter": "python",
   "pygments_lexer": "ipython3",
   "version": "3.8.8"
  },
  "orig_nbformat": 4,
  "vscode": {
   "interpreter": {
    "hash": "42555cd0c5f1594a81e40866f5733b2cbf65026c937bf0149d49f47f234897c3"
   }
  }
 },
 "nbformat": 4,
 "nbformat_minor": 2
}
