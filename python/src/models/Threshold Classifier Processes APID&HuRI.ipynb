{
 "cells": [
  {
   "cell_type": "markdown",
   "id": "270e6912",
   "metadata": {},
   "source": [
    "# 0. Imports and Data Load"
   ]
  },
  {
   "cell_type": "code",
   "execution_count": 1,
   "id": "46406049",
   "metadata": {},
   "outputs": [
    {
     "data": {
      "text/plain": [
       "{'divide': 'warn', 'over': 'warn', 'under': 'ignore', 'invalid': 'warn'}"
      ]
     },
     "execution_count": 1,
     "metadata": {},
     "output_type": "execute_result"
    }
   ],
   "source": [
    "import pandas as pd\n",
    "import classifiers\n",
    "import importlib\n",
    "from igraph import Graph\n",
    "import igraph as ig\n",
    "import numpy as np\n",
    "from ast import literal_eval\n",
    "import concurrent.futures\n",
    "import matplotlib.pyplot as plt\n",
    "np.seterr(divide='ignore', invalid='ignore')"
   ]
  },
  {
   "cell_type": "code",
   "execution_count": 4,
   "id": "93baca0e",
   "metadata": {},
   "outputs": [],
   "source": [
    "reactome_hypergeometric = pd.read_csv(\"../../data/processed/metrics/process_hypergeometric_apid_huri.csv\", sep=',', header=0, index_col=0)\n",
    "reactome_closeness = pd.read_csv(\"../../data/processed/metrics/process_closeness_apid_huri.csv\", sep=',', header=0, index_col=0)\n",
    "reactome_betweenness = pd.read_csv(\"../../data/processed/metrics/process_betweenness_apid_huri.csv\", sep=',', header=0, index_col=0)\n",
    "reactome_rwr = pd.read_csv(\"../../data/processed/metrics/process_rwr_apid_huri.csv\", sep=',', header=0, index_col=0)\n",
    "reactome_fraction_betweenness= pd.read_csv(\"../../data/processed/metrics/process_fraction_betweenness_apid_huri.csv\", sep=',', header=0, index_col=0)\n",
    "\n",
    "reactome_hypergeometric_80 = pd.read_csv(\"../../data/processed/metrics/process_ppi80_hyper_apid_huri.csv\", sep=',', header=0, index_col=0)\n",
    "reactome_closeness_80 = pd.read_csv(\"../../data/processed/metrics/process_ppi80_closeness_apid_huri.csv\", sep=',', header=0, index_col=0)\n",
    "reactome_betweenness_80 = pd.read_csv(\"../../data/processed/metrics/process_ppi80_betweenness_apid_huri.csv\", sep=',', header=0, index_col=0)\n",
    "reactome_rwr_80 = pd.read_csv(\"../../data/processed/metrics/process_ppi80_rwr_apid_huri.csv\", sep=',', header=0, index_col=0)\n",
    "reactome_fraction_betweenness_80 = pd.read_csv(\"../../data/processed/metrics/process_ppi80_fraction_betweenness_apid_huri.csv\", sep=',', header=0, index_col=0)\n",
    "\n",
    "reactome_hypergeometric_protein80 = pd.read_csv(\"../../data/processed/metrics/process_protein80_hyper_apid_huri.csv\", sep=',', header=0, index_col=0)\n",
    "reactome_closeness_protein80 = pd.read_csv(\"../../data/processed/metrics/process_protein80_closeness_apid_huri.csv\", sep=',', header=0, index_col=0)\n",
    "reactome_betweenness_protein80 = pd.read_csv(\"../../data/processed/metrics/process_protein80_betweenness_apid_huri.csv\", sep=',', header=0, index_col=0)\n",
    "reactome_rwr_protein80 = pd.read_csv(\"../../data/processed/metrics/process_protein80_rwr_apid_huri.csv\", sep=',', header=0, index_col=0)\n",
    "reactome_fraction_betweenness_protein80 = pd.read_csv(\"../../data/processed/metrics/process_protein80_fraction_betweenness_apid_huri.csv\", sep=',', header=0, index_col=0)"
   ]
  },
  {
   "cell_type": "code",
   "execution_count": 5,
   "id": "7f346197",
   "metadata": {},
   "outputs": [],
   "source": [
    "reactome_hypergeometric = pd.read_csv(\"../../data/processed/metrics/process_hypergeometric_apid_huri.csv\", sep=',', header=0, index_col=0)\n",
    "\n",
    "graph = Graph.Read_GML(\"../../data/processed/graph_apid_huri\")\n",
    "reactome_proteins_indexes_df = pd.read_csv(\"../../data/processed/reactome_proteins_indexes_apid_huri.csv\", sep=',', header=0)\n",
    "reactome_neglogp_ar = np.array(reactome_hypergeometric)\n",
    "\n",
    "reactome_proteins_indexes_df['protein_index'] = reactome_proteins_indexes_df['protein_index'].apply(literal_eval)\n",
    "reactome_proteins_indexes_df['proteins_ids'] = reactome_proteins_indexes_df['proteins_ids'].apply(literal_eval)"
   ]
  },
  {
   "cell_type": "code",
   "execution_count": null,
   "id": "9d2ed7a0",
   "metadata": {},
   "outputs": [],
   "source": [
    "reactome_labels = np.zeros(reactome_hypergeometric.shape)\n",
    "column = 0\n",
    "for indexes in reactome_proteins_indexes_df['protein_index'].values:\n",
    "    for pos in indexes:\n",
    "        reactome_labels[pos][column] = 1\n",
    "    column += 1\n",
    "np.savetxt(\"../../data/processed/reactome_labels_apid_huri.csv\", reactome_labels, delimiter=\",\")"
   ]
  },
  {
   "cell_type": "code",
   "execution_count": 6,
   "id": "a05a8ddb",
   "metadata": {},
   "outputs": [],
   "source": [
    "reactome_labels_df = pd.read_csv(\"../../data/processed/reactome_labels_apid_huri.csv\", sep=',', names=reactome_proteins_indexes_df['process'].values)\n",
    "reactome_labels_df['protein_id'] = graph.vs['name']\n",
    "reactome_labels_df.set_index('protein_id', inplace=True)"
   ]
  },
  {
   "cell_type": "code",
   "execution_count": 7,
   "id": "4ed4e7c2",
   "metadata": {},
   "outputs": [],
   "source": [
    "ppi80_hyper_list = []\n",
    "ppi80_closeness_list = []\n",
    "ppi80_betweenness_list = []\n",
    "ppi80_fraction_betweenness_list = []\n",
    "ppi80_rwr_list = []\n",
    "label_list = []\n",
    "\n",
    "for i, df in reactome_hypergeometric_80.groupby(level=0):\n",
    "    df.set_index('level_1', inplace=True)\n",
    "    ppi80_hyper_list.append(df)\n",
    "    label_list.append(reactome_labels_df[reactome_labels_df.index.isin(df.index)])\n",
    "\n",
    "for i, df in reactome_closeness_80.groupby(level=0):\n",
    "    df.set_index('level_1', inplace=True)\n",
    "    ppi80_closeness_list.append(df)\n",
    "    \n",
    "for i, df in reactome_betweenness_80.groupby(level=0):\n",
    "    df.set_index('level_1', inplace=True)\n",
    "    ppi80_betweenness_list.append(df)\n",
    "    \n",
    "for i, df in reactome_rwr_80.groupby(level=0):\n",
    "    df.set_index('level_1', inplace=True)\n",
    "    ppi80_rwr_list.append(df)\n",
    "    \n",
    "for i, df in reactome_fraction_betweenness_80.groupby(level=0):\n",
    "    df.set_index('index', inplace=True)\n",
    "    ppi80_fraction_betweenness_list.append(df)\n",
    "    \n",
    "protein80_hyper_list = []\n",
    "protein80_closeness_list = []\n",
    "protein80_betweenness_list = []\n",
    "protein80_rwr_list = []\n",
    "protein80_fraction_betweenness_list = []\n",
    "protein_label_list = []\n",
    "\n",
    "for i, df in reactome_hypergeometric_protein80.groupby(level=0):\n",
    "    df.set_index('level_1', inplace=True)\n",
    "    protein80_hyper_list.append(df)\n",
    "    protein_label_list.append(reactome_labels_df[reactome_labels_df.index.isin(df.index)])\n",
    "    \n",
    "for i, df in reactome_closeness_protein80.groupby(level=0):\n",
    "    df.set_index('level_1', inplace=True)\n",
    "    protein80_closeness_list.append(df)\n",
    "    \n",
    "for i, df in reactome_betweenness_protein80.groupby(level=0):\n",
    "    df.set_index('level_1', inplace=True)\n",
    "    protein80_betweenness_list.append(df)\n",
    "    \n",
    "for i, df in reactome_rwr_protein80.groupby(level=0):\n",
    "    df.set_index('level_1', inplace=True)\n",
    "    protein80_rwr_list.append(df)\n",
    "    \n",
    "for i, df in reactome_fraction_betweenness_protein80.groupby(level=0):\n",
    "    df.set_index('index', inplace=True)\n",
    "    protein80_fraction_betweenness_list.append(df)"
   ]
  },
  {
   "cell_type": "code",
   "execution_count": 8,
   "id": "9110ca0c",
   "metadata": {},
   "outputs": [],
   "source": [
    "reactome_hypergeometric_test_indices = pd.read_csv(\"../../data/processed/fs/reactome_hyper_test_apid_huri.csv\", sep=',', header=0, dtype='Int64', names=reactome_hypergeometric.columns)-1\n",
    "reactome_closeness_test_indices = pd.read_csv(\"../../data/processed/fs/reactome_closeness_test_apid_huri.csv\", sep=',', header=0, dtype='Int64', names=reactome_closeness.columns)-1\n",
    "reactome_betweenness_test_indices = pd.read_csv(\"../../data/processed/fs/reactome_betweenness_test_apid_huri.csv\", sep=',', header=0, dtype='Int64', names=reactome_betweenness.columns)-1\n",
    "reactome_rwr_test_indices = pd.read_csv(\"../../data/processed/fs/reactome_rwr_test_apid_huri.csv\", sep=',', header=0, dtype='Int64', names=reactome_rwr.columns)-1\n",
    "reactome_fraction_betweenness_test_indices = pd.read_csv(\"../../data/processed/fs/reactome_fraction_betweenness_test_apid_huri.csv\", sep=',', header=0, dtype='Int64', names=reactome_fraction_betweenness.columns)-1\n",
    "\n",
    "reactome_hypergeometric_80_test_index = np.array(np.array_split(pd.read_csv(\"../../data/processed/fs/reactome_hyper_80_test_apid_huri.csv\", sep=',', header=0).transpose(), 10, axis = 1)).astype(int) -1\n",
    "reactome_closeness_80_test_index = np.array(np.array_split(pd.read_csv(\"../../data/processed/fs/reactome_closeness_80_test_apid_huri.csv\", sep=',', header=0).transpose(), 10, axis = 1)).astype(int) -1\n",
    "reactome_betweenness_80_test_index = np.array(np.array_split(pd.read_csv(\"../../data/processed/fs/reactome_betweenness_80_test_apid_huri.csv\", sep=',', header=0).transpose(), 10, axis = 1)).astype(int) -1\n",
    "reactome_rwr_80_test_index = np.array(np.array_split(pd.read_csv(\"../../data/processed/fs/reactome_rwr_80_test_apid_huri.csv\", sep=',', header=0).transpose(), 10, axis = 1)).astype(int) -1\n",
    "reactome_fraction_betweenness_80_test_index = np.array(np.array_split(pd.read_csv(\"../../data/processed/fs/reactome_fraction_betweenness_80_test_apid_huri.csv\", sep=',', header=0).transpose(), 10, axis = 1)).astype(int) -1\n",
    "\n",
    "reactome_hypergeometric_protein80_test_index = np.array(np.array_split(pd.read_csv(\"../../data/processed/fs/reactome_hyper_protein80_test_apid_huri.csv\", sep=',', header=0).transpose(), 10, axis = 1)).astype(int) -1\n",
    "reactome_closeness_protein80_test_index = np.array(np.array_split(pd.read_csv(\"../../data/processed/fs/reactome_closeness_protein80_test_apid_huri.csv\", sep=',', header=0).transpose(), 10, axis = 1)).astype(int) -1\n",
    "reactome_betweenness_protein80_test_index = np.array(np.array_split(pd.read_csv(\"../../data/processed/fs/reactome_betweenness_protein80_test_apid_huri.csv\", sep=',', header=0).transpose(), 10, axis = 1)).astype(int) -1\n",
    "reactome_rwr_protein80_test_index = np.array(np.array_split(pd.read_csv(\"../../data/processed/fs/reactome_rwr_protein80_test_apid_huri.csv\", sep=',', header=0).transpose(), 10, axis = 1)).astype(int) -1\n",
    "reactome_fraction_betweenness_protein80_test_index = np.array(np.array_split(pd.read_csv(\"../../data/processed/fs/reactome_fraction_betweenness_protein80_test_apid_huri.csv\", sep=',', header=0).transpose(), 10, axis = 1)).astype(int) -1"
   ]
  },
  {
   "cell_type": "markdown",
   "id": "816f8003",
   "metadata": {},
   "source": [
    "# 1. Threshold Classifier - Complete Network"
   ]
  },
  {
   "cell_type": "code",
   "execution_count": null,
   "id": "e16145b9",
   "metadata": {
    "scrolled": true
   },
   "outputs": [],
   "source": [
    "importlib.reload(classifiers)\n",
    "hypergeometric_simple_clf = classifiers.threshold_classifier(reactome_hypergeometric, reactome_labels_df, reactome_hypergeometric_test_indices, op_metric='fmeasure')\n",
    "hypergeometric_simple_clf.to_csv('../../models/threshold_classifier/process/process_hypergeometric_simple.csv', index=False)"
   ]
  },
  {
   "cell_type": "code",
   "execution_count": null,
   "id": "e7a5343c",
   "metadata": {},
   "outputs": [],
   "source": [
    "importlib.reload(classifiers)\n",
    "closeness_simple_clf = classifiers.threshold_classifier(reactome_closeness, reactome_labels_df, reactome_closeness_test_indices, op_metric='fmeasure')\n",
    "closeness_simple_clf.to_csv('../../models/threshold_classifier/process/process_closeness_simple.csv', index=False)"
   ]
  },
  {
   "cell_type": "code",
   "execution_count": null,
   "id": "aba90a22",
   "metadata": {},
   "outputs": [],
   "source": [
    "importlib.reload(classifiers)\n",
    "betweenness_simple_clf = classifiers.threshold_classifier(reactome_betweenness, reactome_labels_df, reactome_betweenness_test_indices, op_metric='fmeasure')\n",
    "betweenness_simple_clf.to_csv('../../models/threshold_classifier/process/process_betweenness_simple.csv', index=False)"
   ]
  },
  {
   "cell_type": "code",
   "execution_count": null,
   "id": "ec60a58b",
   "metadata": {
    "scrolled": true
   },
   "outputs": [],
   "source": [
    "importlib.reload(classifiers)\n",
    "rwr_simple_clf = classifiers.threshold_classifier(reactome_rwr, reactome_labels_df, reactome_rwr_test_indices, op_metric='fmeasure')\n",
    "rwr_simple_clf.to_csv('../../models/threshold_classifier/process/process_rwr_simple.csv', index=False)"
   ]
  },
  {
   "cell_type": "code",
   "execution_count": null,
   "id": "5a6f7083",
   "metadata": {
    "scrolled": true
   },
   "outputs": [],
   "source": [
    "importlib.reload(classifiers)\n",
    "fraction_betweenness_simple_clf = classifiers.threshold_classifier(reactome_fraction_betweenness, reactome_labels_df, reactome_betweenness_test_indices, op_metric='fmeasure')\n",
    "fraction_betweenness_simple_clf.to_csv('../../models/threshold_classifier/process/process_fraction_betweenness_simple.csv', index=False)"
   ]
  },
  {
   "cell_type": "markdown",
   "id": "24a85496",
   "metadata": {},
   "source": [
    "# 2. Threshold Classifier - Reduced Networks"
   ]
  },
  {
   "cell_type": "markdown",
   "id": "8890278f",
   "metadata": {},
   "source": [
    "## 2.1. PPI 80% Reduction"
   ]
  },
  {
   "cell_type": "code",
   "execution_count": null,
   "id": "2f902934",
   "metadata": {},
   "outputs": [],
   "source": [
    "importlib.reload(classifiers)\n",
    "hyper80_simple_clf = classifiers.reduced_classifier_threshold(ppi80_hyper_list, reactome_hypergeometric_80_test_index, label_list)\n",
    "hyper80_simple_clf.to_csv('../../models/threshold_classifier/process/process_hyper80_simple.csv', index=False)"
   ]
  },
  {
   "cell_type": "code",
   "execution_count": null,
   "id": "ca56cd17",
   "metadata": {
    "scrolled": true
   },
   "outputs": [],
   "source": [
    "importlib.reload(classifiers)\n",
    "rwr80_simple_clf = classifiers.reduced_classifier_threshold(ppi80_rwr_list, reactome_rwr_80_test_index, label_list)\n",
    "rwr80_simple_clf.to_csv('../../models/threshold_classifier/process/process_rwr80_simple.csv', index=False)"
   ]
  },
  {
   "cell_type": "code",
   "execution_count": null,
   "id": "a63fb31e",
   "metadata": {
    "scrolled": true
   },
   "outputs": [],
   "source": [
    "importlib.reload(classifiers)\n",
    "closeness80_simple_clf = classifiers.reduced_classifier_threshold(ppi80_closeness_list, reactome_closeness_80_test_index, label_list)\n",
    "closeness80_simple_clf.to_csv('../../models/threshold_classifier/process/process_closeness80_simple.csv', index=False)"
   ]
  },
  {
   "cell_type": "code",
   "execution_count": null,
   "id": "d66c31fb",
   "metadata": {},
   "outputs": [],
   "source": [
    "importlib.reload(classifiers)\n",
    "betweenness80_simple_clf = classifiers.reduced_classifier_threshold(ppi80_betweenness_list, reactome_betweenness_80_test_index, label_list)\n",
    "betweenness80_simple_clf.to_csv('../../models/threshold_classifier/process/process_betweenness80_simple.csv', index=False)"
   ]
  },
  {
   "cell_type": "code",
   "execution_count": null,
   "id": "3f6f3a1e",
   "metadata": {},
   "outputs": [],
   "source": [
    "importlib.reload(classifiers)\n",
    "fraction_betweenness80_simple_clf = classifiers.reduced_classifier_threshold(ppi80_fraction_betweenness_list, reactome_fraction_betweenness_80_test_index, label_list)\n",
    "fraction_betweenness80_simple_clf.to_csv('../../models/threshold_classifier/process/process_fraction_betweenness80_simple.csv', index=False)"
   ]
  },
  {
   "cell_type": "markdown",
   "id": "7d12d9dd",
   "metadata": {},
   "source": [
    "## 2.2. Protein 80% Reduction"
   ]
  },
  {
   "cell_type": "code",
   "execution_count": null,
   "id": "09edc1a2",
   "metadata": {},
   "outputs": [],
   "source": [
    "importlib.reload(classifiers)\n",
    "hyper_protein80_simple_clf = classifiers.reduced_classifier_threshold(protein80_hyper_list, reactome_hypergeometric_protein80_test_index, protein_label_list)\n",
    "hyper_protein80_simple_clf.to_csv('../../models/threshold_classifier/process/process_hyper_protein80_simple.csv', index=False)"
   ]
  },
  {
   "cell_type": "code",
   "execution_count": null,
   "id": "314ced7f",
   "metadata": {},
   "outputs": [],
   "source": [
    "importlib.reload(classifiers)\n",
    "rwr_protein80_simple_clf = classifiers.reduced_classifier_threshold(protein80_rwr_list, reactome_rwr_protein80_test_index, protein_label_list)\n",
    "rwr_protein80_simple_clf.to_csv('../../models/threshold_classifier/process/process_rwr_protein80_simple.csv', index=False)"
   ]
  },
  {
   "cell_type": "code",
   "execution_count": null,
   "id": "7ae6173e",
   "metadata": {},
   "outputs": [],
   "source": [
    "importlib.reload(classifiers)\n",
    "closeness_protein80_simple_clf = classifiers.reduced_classifier_threshold(protein80_closeness_list, reactome_closeness_protein80_test_index, protein_label_list)\n",
    "closeness_protein80_simple_clf.to_csv('../../models/threshold_classifier/process/process_closeness_protein80_simple.csv', index=False)"
   ]
  },
  {
   "cell_type": "code",
   "execution_count": null,
   "id": "6f18e6cb",
   "metadata": {},
   "outputs": [],
   "source": [
    "importlib.reload(classifiers)\n",
    "betweenness_protein80_simple_clf = classifiers.reduced_classifier_threshold(protein80_betweenness_list, reactome_betweenness_protein80_test_index, protein_label_list)\n",
    "betweenness_protein80_simple_clf.to_csv('../../models/threshold_classifier/process/process_betweenness_protein80_simple.csv', index=False)"
   ]
  },
  {
   "cell_type": "code",
   "execution_count": null,
   "id": "f4146bab",
   "metadata": {},
   "outputs": [],
   "source": [
    "importlib.reload(classifiers)\n",
    "fraction_betweenness_protein80_simple_clf = classifiers.reduced_classifier_threshold(protein80_fraction_betweenness_list, reactome_fraction_betweenness_protein80_test_index, protein_label_list)\n",
    "fraction_betweenness_protein80_simple_clf.to_csv('../../models/threshold_classifier/process/process_fraction_betweenness_protein80_simple.csv', index=False)"
   ]
  }
 ],
 "metadata": {
  "interpreter": {
   "hash": "42555cd0c5f1594a81e40866f5733b2cbf65026c937bf0149d49f47f234897c3"
  },
  "kernelspec": {
   "display_name": "Python 3.8.8 ('base')",
   "language": "python",
   "name": "python3"
  },
  "language_info": {
   "codemirror_mode": {
    "name": "ipython",
    "version": 3
   },
   "file_extension": ".py",
   "mimetype": "text/x-python",
   "name": "python",
   "nbconvert_exporter": "python",
   "pygments_lexer": "ipython3",
   "version": "3.8.8"
  }
 },
 "nbformat": 4,
 "nbformat_minor": 5
}
