{
 "cells": [
  {
   "cell_type": "code",
   "execution_count": 1,
   "metadata": {},
   "outputs": [],
   "source": [
    "import pandas as pd\n",
    "import numpy as np\n",
    "from ast import literal_eval\n",
    "import matplotlib.pyplot as plt\n"
   ]
  },
  {
   "cell_type": "code",
   "execution_count": 2,
   "metadata": {},
   "outputs": [],
   "source": [
    "disease_rwr_proba_fs = pd.read_csv('../../models/funGENE/disease/probability/rwr_whole.csv')\n",
    "disease_n_rwr = pd.read_csv('../../models/funGENE/disease/n_fs/disease_rwr.txt', header=None)\n",
    "disease_vip_rwr = pd.read_csv('../../data/processed/fs/disease/disease_rwr_fs_apid_huri.csv')\n",
    "disease_protein_indexes = pd.read_csv('../../data/processed/disgenet_prot_index_main_comp.csv')\n",
    "disease_protein_indexes = disease_protein_indexes[disease_protein_indexes['increase']<0.4].reset_index()\n",
    "disease_rwr_proba_fs['new_proteins'] = disease_rwr_proba_fs['new_proteins'].apply(literal_eval)\n",
    "disease_rwr_proba_fs['process'] = disease_protein_indexes['process']\n",
    "disease_n_rwr['process'] = disease_protein_indexes['process']\n",
    "disease_vip_rwr['process'] = disease_protein_indexes['process']\n",
    "disease_vip_rwr.set_index('process', inplace=True)\n",
    "disease_vip_rwr.columns = disease_protein_indexes['process']\n",
    "disease_rwr_scores = pd.read_csv('../../data/processed/metrics/disease_rwr_apid_huri.csv', index_col=0)\n",
    "disgenet_labels_df = pd.read_csv(\"../../data/processed/disgenet_filtered_labels_apid_huri.csv\", sep=',', names=disease_rwr_scores.columns)\n",
    "disgenet_labels_df['protein_id'] = disease_rwr_scores.index\n",
    "disgenet_labels_df.set_index('protein_id', inplace=True)\n",
    "gene_disease_associations = pd.read_csv('../../data/raw/curated_gene_disease_associations.tsv', sep='\\t')"
   ]
  },
  {
   "cell_type": "code",
   "execution_count": 3,
   "metadata": {},
   "outputs": [],
   "source": [
    "gene_disease_associations.drop_duplicates(subset='diseaseId', inplace=True)\n",
    "gene_disease_associations.sort_values(by='diseaseId', inplace=True)\n",
    "disease_names = gene_disease_associations[gene_disease_associations['diseaseId'].isin(disease_protein_indexes['process'])]['diseaseName'].values"
   ]
  },
  {
   "cell_type": "code",
   "execution_count": 4,
   "metadata": {},
   "outputs": [],
   "source": [
    "disease_rwr_proba_fs['disease_name'] = disease_names"
   ]
  },
  {
   "cell_type": "code",
   "execution_count": 5,
   "metadata": {},
   "outputs": [
    {
     "data": {
      "text/plain": [
       "0                                         Adenocarcinoma\n",
       "1                         Chronic Alcoholic Intoxication\n",
       "2                                       Alloxan Diabetes\n",
       "3                                    Alzheimer's Disease\n",
       "4                          Amyotrophic Lateral Sclerosis\n",
       "                             ...                        \n",
       "198                                      HIV Coinfection\n",
       "199     Rheumatoid Factor Negative  Juvenile Polyarth...\n",
       "200     Rheumatoid Factor Positive  Juvenile Polyarth...\n",
       "201    Familial thoracic aortic aneurysm and aortic d...\n",
       "202                                 Fibrosing Alveolitis\n",
       "Name: disease_name, Length: 203, dtype: object"
      ]
     },
     "execution_count": 5,
     "metadata": {},
     "output_type": "execute_result"
    }
   ],
   "source": [
    "disease_rwr_proba_fs['disease_name'] = disease_rwr_proba_fs['disease_name'].apply(lambda row: ' '.join(row.split(',')[::-1]))\n",
    "disease_rwr_proba_fs['disease_name']"
   ]
  },
  {
   "cell_type": "code",
   "execution_count": 6,
   "metadata": {},
   "outputs": [
    {
     "data": {
      "text/plain": [
       "11"
      ]
     },
     "execution_count": 6,
     "metadata": {},
     "output_type": "execute_result"
    }
   ],
   "source": [
    "disease_n_rwr[disease_n_rwr['process']=='C0003873'][0].values[0]"
   ]
  },
  {
   "cell_type": "code",
   "execution_count": 7,
   "metadata": {},
   "outputs": [
    {
     "data": {
      "text/plain": [
       "['C0003873',\n",
       " 'C0020517',\n",
       " 'C1527304',\n",
       " 'C0021368',\n",
       " 'C0032285',\n",
       " 'C0887898',\n",
       " 'C3714636',\n",
       " 'C0032300',\n",
       " 'C1563937',\n",
       " 'C0004153',\n",
       " 'C0345967']"
      ]
     },
     "execution_count": 7,
     "metadata": {},
     "output_type": "execute_result"
    }
   ],
   "source": [
    "selected_diseases = list(disease_vip_rwr['C0003873'].sort_values(ascending=False)[:disease_n_rwr[disease_n_rwr['process']=='C0003873'][0].values[0]].index)\n",
    "selected_diseases"
   ]
  },
  {
   "cell_type": "code",
   "execution_count": 8,
   "metadata": {},
   "outputs": [
    {
     "data": {
      "text/html": [
       "<div>\n",
       "<style scoped>\n",
       "    .dataframe tbody tr th:only-of-type {\n",
       "        vertical-align: middle;\n",
       "    }\n",
       "\n",
       "    .dataframe tbody tr th {\n",
       "        vertical-align: top;\n",
       "    }\n",
       "\n",
       "    .dataframe thead th {\n",
       "        text-align: right;\n",
       "    }\n",
       "</style>\n",
       "<table border=\"1\" class=\"dataframe\">\n",
       "  <thead>\n",
       "    <tr style=\"text-align: right;\">\n",
       "      <th></th>\n",
       "      <th>index</th>\n",
       "      <th>process</th>\n",
       "      <th>proteins_ids</th>\n",
       "      <th>protein_index</th>\n",
       "      <th>n_proteins</th>\n",
       "      <th>main_component</th>\n",
       "      <th>conservative_module</th>\n",
       "      <th>added_nodes</th>\n",
       "      <th>len_main_component</th>\n",
       "      <th>len_cm</th>\n",
       "      <th>len_added_nodes</th>\n",
       "      <th>main_component_ids</th>\n",
       "      <th>conservative_module_ids</th>\n",
       "      <th>added_nodes_ids</th>\n",
       "      <th>increase</th>\n",
       "    </tr>\n",
       "  </thead>\n",
       "  <tbody>\n",
       "    <tr>\n",
       "      <th>5</th>\n",
       "      <td>8</td>\n",
       "      <td>C0003873</td>\n",
       "      <td>['ADORA2A', 'GRK2', 'ACAN', 'AGER', 'AHR', 'AL...</td>\n",
       "      <td>[327, 6012, 121, 374, 411, 536, 699, 4977, 142...</td>\n",
       "      <td>169</td>\n",
       "      <td>[327, 6012, 121, 374, 411, 536, 699, 4977, 142...</td>\n",
       "      <td>[13836, 536, 5661, 38, 15399, 8748, 15407, 824...</td>\n",
       "      <td>[5979, 4547, 800, 6299, 14738, 16476, 14561, 2...</td>\n",
       "      <td>228</td>\n",
       "      <td>169</td>\n",
       "      <td>59</td>\n",
       "      <td>['ADORA2A', 'GRK2', 'ACAN', 'AGER', 'AHR', 'AL...</td>\n",
       "      <td>['SOD2', 'ALOX5', 'GIN1', 'ABCB1', 'TRAF1', 'M...</td>\n",
       "      <td>['GRB2', 'EP300', 'APP', 'HDAC2', 'TEX101', 'Y...</td>\n",
       "      <td>0.349112</td>\n",
       "    </tr>\n",
       "    <tr>\n",
       "      <th>6</th>\n",
       "      <td>10</td>\n",
       "      <td>C0004153</td>\n",
       "      <td>['ABCA1', 'PARP1', 'AGER', 'AGT', 'AHR', 'ALOX...</td>\n",
       "      <td>[26, 10365, 374, 396, 411, 536, 537, 534, 770,...</td>\n",
       "      <td>58</td>\n",
       "      <td>[26, 10365, 374, 396, 411, 536, 537, 534, 770,...</td>\n",
       "      <td>[770, 16132, 13830, 6794, 13835, 396, 13836, 8...</td>\n",
       "      <td>[5979, 1360, 6956, 15876, 2020, 3569, 13321, 9...</td>\n",
       "      <td>80</td>\n",
       "      <td>57</td>\n",
       "      <td>23</td>\n",
       "      <td>['ABCA1', 'PARP1', 'AGER', 'AGT', 'AHR', 'ALOX...</td>\n",
       "      <td>['APOA4', 'VEGFA', 'SOCS3', 'IFNG', 'SOD1', 'A...</td>\n",
       "      <td>['GRB2', 'BCL2L13', 'IL6ST', 'UBQLN1', 'CAV1',...</td>\n",
       "      <td>0.396552</td>\n",
       "    </tr>\n",
       "    <tr>\n",
       "      <th>48</th>\n",
       "      <td>62</td>\n",
       "      <td>C0020517</td>\n",
       "      <td>['ABCF1', 'ALB', 'CASP1', 'CD40LG', 'CCR1', 'C...</td>\n",
       "      <td>[63, 484, 1991, 2337, 2261, 2267, 3321, 3523, ...</td>\n",
       "      <td>64</td>\n",
       "      <td>[63, 484, 1991, 2337, 2261, 2267, 3321, 3523, ...</td>\n",
       "      <td>[6913, 6914, 3465, 2314, 6794, 3468, 15246, 15...</td>\n",
       "      <td>[800, 3119, 7198, 8510, 6440, 11789, 15228, 69...</td>\n",
       "      <td>88</td>\n",
       "      <td>63</td>\n",
       "      <td>25</td>\n",
       "      <td>['ABCF1', 'ALB', 'CASP1', 'CD40LG', 'CCR1', 'C...</td>\n",
       "      <td>['IL1R1', 'IL1R2', 'CX3CL1', 'CD274', 'IFNG', ...</td>\n",
       "      <td>['APP', 'COPS5', 'JAK1', 'MBP', 'HLA-A', 'QSOX...</td>\n",
       "      <td>0.390625</td>\n",
       "    </tr>\n",
       "    <tr>\n",
       "      <th>51</th>\n",
       "      <td>66</td>\n",
       "      <td>C0021368</td>\n",
       "      <td>['ASIC2', 'ASIC1', 'PARP1', 'AGER', 'AGT', 'AH...</td>\n",
       "      <td>[1039, 1038, 10365, 374, 396, 411, 476, 598, 7...</td>\n",
       "      <td>122</td>\n",
       "      <td>[1038, 10365, 374, 396, 411, 476, 598, 768, 14...</td>\n",
       "      <td>[14337, 10250, 13835, 1038, 8208, 1040, 5141, ...</td>\n",
       "      <td>[4547, 3715, 6700, 1211, 4351, 5979, 800, 2020...</td>\n",
       "      <td>157</td>\n",
       "      <td>121</td>\n",
       "      <td>37</td>\n",
       "      <td>['ASIC1', 'PARP1', 'AGER', 'AGT', 'AHR', 'AKT1...</td>\n",
       "      <td>['SULT2B1', 'OXT', 'SOD1', 'ASIC1', 'LTB4R', '...</td>\n",
       "      <td>['EP300', 'DDX19B', 'HTT', 'ATXN3', 'EGFR', 'G...</td>\n",
       "      <td>0.303279</td>\n",
       "    </tr>\n",
       "    <tr>\n",
       "      <th>82</th>\n",
       "      <td>109</td>\n",
       "      <td>C0032285</td>\n",
       "      <td>['ABCF1', 'PARP1', 'AGT', 'AHR', 'CASP1', 'CD4...</td>\n",
       "      <td>[63, 10365, 396, 411, 1991, 2337, 2261, 2267, ...</td>\n",
       "      <td>54</td>\n",
       "      <td>[63, 10365, 396, 411, 1991, 2337, 2261, 2267, ...</td>\n",
       "      <td>[6913, 6914, 4355, 3465, 6794, 396, 3468, 1524...</td>\n",
       "      <td>[12411, 3119, 5979, 2218, 15228, 11789, 6937, ...</td>\n",
       "      <td>72</td>\n",
       "      <td>53</td>\n",
       "      <td>19</td>\n",
       "      <td>['ABCF1', 'PARP1', 'AGT', 'AHR', 'CASP1', 'CD4...</td>\n",
       "      <td>['IL1R1', 'IL1R2', 'EGR1', 'CX3CL1', 'IFNG', '...</td>\n",
       "      <td>['RNF4', 'COPS5', 'GRB2', 'CCL5', 'TNFAIP6', '...</td>\n",
       "      <td>0.351852</td>\n",
       "    </tr>\n",
       "    <tr>\n",
       "      <th>83</th>\n",
       "      <td>110</td>\n",
       "      <td>C0032300</td>\n",
       "      <td>['ABCF1', 'PARP1', 'AGT', 'AHR', 'CASP1', 'CD4...</td>\n",
       "      <td>[63, 10365, 396, 411, 1991, 2337, 2261, 2267, ...</td>\n",
       "      <td>54</td>\n",
       "      <td>[63, 10365, 396, 411, 1991, 2337, 2261, 2267, ...</td>\n",
       "      <td>[6913, 6914, 4355, 3465, 6794, 396, 3468, 1524...</td>\n",
       "      <td>[12411, 3119, 5979, 2218, 15228, 11789, 6937, ...</td>\n",
       "      <td>72</td>\n",
       "      <td>53</td>\n",
       "      <td>19</td>\n",
       "      <td>['ABCF1', 'PARP1', 'AGT', 'AHR', 'CASP1', 'CD4...</td>\n",
       "      <td>['IL1R1', 'IL1R2', 'EGR1', 'CX3CL1', 'IFNG', '...</td>\n",
       "      <td>['RNF4', 'COPS5', 'GRB2', 'CCL5', 'TNFAIP6', '...</td>\n",
       "      <td>0.351852</td>\n",
       "    </tr>\n",
       "    <tr>\n",
       "      <th>138</th>\n",
       "      <td>192</td>\n",
       "      <td>C0345967</td>\n",
       "      <td>['NAT2', 'PARP1', 'ANXA2', 'APOA1', 'BCL2', 'C...</td>\n",
       "      <td>[9369, 10365, 697, 768, 1354, 1818, 1897, 1525...</td>\n",
       "      <td>103</td>\n",
       "      <td>[9369, 10365, 697, 768, 1354, 1818, 1897, 1525...</td>\n",
       "      <td>[5130, 8205, 5139, 5151, 3113, 8748, 15408, 13...</td>\n",
       "      <td>[15877, 1221, 9799, 5979, 800, 6956, 13603, 16...</td>\n",
       "      <td>136</td>\n",
       "      <td>101</td>\n",
       "      <td>35</td>\n",
       "      <td>['NAT2', 'PARP1', 'ANXA2', 'APOA1', 'BCL2', 'C...</td>\n",
       "      <td>['FGD6', 'LTA', 'FGF18', 'FGF9', 'COPG1', 'MIF...</td>\n",
       "      <td>['UBQLN2', 'AURKA', 'NPM1', 'GRB2', 'APP', 'IL...</td>\n",
       "      <td>0.339806</td>\n",
       "    </tr>\n",
       "    <tr>\n",
       "      <th>158</th>\n",
       "      <td>237</td>\n",
       "      <td>C0887898</td>\n",
       "      <td>['ABCF1', 'PARP1', 'AGT', 'AHR', 'CASP1', 'CD4...</td>\n",
       "      <td>[63, 10365, 396, 411, 1991, 2337, 2261, 2267, ...</td>\n",
       "      <td>54</td>\n",
       "      <td>[63, 10365, 396, 411, 1991, 2337, 2261, 2267, ...</td>\n",
       "      <td>[6913, 6914, 4355, 3465, 6794, 396, 3468, 1524...</td>\n",
       "      <td>[12411, 3119, 5979, 2218, 15228, 11789, 6937, ...</td>\n",
       "      <td>72</td>\n",
       "      <td>53</td>\n",
       "      <td>19</td>\n",
       "      <td>['ABCF1', 'PARP1', 'AGT', 'AHR', 'CASP1', 'CD4...</td>\n",
       "      <td>['IL1R1', 'IL1R2', 'EGR1', 'CX3CL1', 'IFNG', '...</td>\n",
       "      <td>['RNF4', 'COPS5', 'GRB2', 'CCL5', 'TNFAIP6', '...</td>\n",
       "      <td>0.351852</td>\n",
       "    </tr>\n",
       "    <tr>\n",
       "      <th>175</th>\n",
       "      <td>258</td>\n",
       "      <td>C1527304</td>\n",
       "      <td>['ABCF1', 'ALB', 'CASP1', 'CD40LG', 'CCR1', 'C...</td>\n",
       "      <td>[63, 484, 1991, 2337, 2261, 2267, 3523, 4150, ...</td>\n",
       "      <td>63</td>\n",
       "      <td>[63, 484, 1991, 2337, 2261, 2267, 3523, 4150, ...</td>\n",
       "      <td>[6913, 6914, 3465, 2314, 6794, 3468, 15246, 15...</td>\n",
       "      <td>[800, 3119, 7198, 8510, 6440, 11789, 15228, 69...</td>\n",
       "      <td>87</td>\n",
       "      <td>62</td>\n",
       "      <td>25</td>\n",
       "      <td>['ABCF1', 'ALB', 'CASP1', 'CD40LG', 'CCR1', 'C...</td>\n",
       "      <td>['IL1R1', 'IL1R2', 'CX3CL1', 'CD274', 'IFNG', ...</td>\n",
       "      <td>['APP', 'COPS5', 'JAK1', 'MBP', 'HLA-A', 'QSOX...</td>\n",
       "      <td>0.396825</td>\n",
       "    </tr>\n",
       "    <tr>\n",
       "      <th>177</th>\n",
       "      <td>260</td>\n",
       "      <td>C1563937</td>\n",
       "      <td>['ABCA1', 'PARP1', 'AGER', 'AGT', 'AHR', 'ALOX...</td>\n",
       "      <td>[26, 10365, 374, 396, 411, 536, 537, 534, 770,...</td>\n",
       "      <td>58</td>\n",
       "      <td>[26, 10365, 374, 396, 411, 536, 537, 534, 770,...</td>\n",
       "      <td>[770, 16132, 13830, 6794, 13835, 396, 13836, 8...</td>\n",
       "      <td>[5979, 1360, 6956, 15876, 2020, 3569, 13321, 9...</td>\n",
       "      <td>80</td>\n",
       "      <td>57</td>\n",
       "      <td>23</td>\n",
       "      <td>['ABCA1', 'PARP1', 'AGER', 'AGT', 'AHR', 'ALOX...</td>\n",
       "      <td>['APOA4', 'VEGFA', 'SOCS3', 'IFNG', 'SOD1', 'A...</td>\n",
       "      <td>['GRB2', 'BCL2L13', 'IL6ST', 'UBQLN1', 'CAV1',...</td>\n",
       "      <td>0.396552</td>\n",
       "    </tr>\n",
       "    <tr>\n",
       "      <th>193</th>\n",
       "      <td>281</td>\n",
       "      <td>C3714636</td>\n",
       "      <td>['ABCF1', 'PARP1', 'AGT', 'AHR', 'CASP1', 'CD4...</td>\n",
       "      <td>[63, 10365, 396, 411, 1991, 2337, 2261, 2267, ...</td>\n",
       "      <td>54</td>\n",
       "      <td>[63, 10365, 396, 411, 1991, 2337, 2261, 2267, ...</td>\n",
       "      <td>[6913, 6914, 4355, 3465, 6794, 396, 3468, 1524...</td>\n",
       "      <td>[12411, 3119, 5979, 2218, 15228, 11789, 6937, ...</td>\n",
       "      <td>72</td>\n",
       "      <td>53</td>\n",
       "      <td>19</td>\n",
       "      <td>['ABCF1', 'PARP1', 'AGT', 'AHR', 'CASP1', 'CD4...</td>\n",
       "      <td>['IL1R1', 'IL1R2', 'EGR1', 'CX3CL1', 'IFNG', '...</td>\n",
       "      <td>['RNF4', 'COPS5', 'GRB2', 'CCL5', 'TNFAIP6', '...</td>\n",
       "      <td>0.351852</td>\n",
       "    </tr>\n",
       "  </tbody>\n",
       "</table>\n",
       "</div>"
      ],
      "text/plain": [
       "     index   process                                       proteins_ids  \\\n",
       "5        8  C0003873  ['ADORA2A', 'GRK2', 'ACAN', 'AGER', 'AHR', 'AL...   \n",
       "6       10  C0004153  ['ABCA1', 'PARP1', 'AGER', 'AGT', 'AHR', 'ALOX...   \n",
       "48      62  C0020517  ['ABCF1', 'ALB', 'CASP1', 'CD40LG', 'CCR1', 'C...   \n",
       "51      66  C0021368  ['ASIC2', 'ASIC1', 'PARP1', 'AGER', 'AGT', 'AH...   \n",
       "82     109  C0032285  ['ABCF1', 'PARP1', 'AGT', 'AHR', 'CASP1', 'CD4...   \n",
       "83     110  C0032300  ['ABCF1', 'PARP1', 'AGT', 'AHR', 'CASP1', 'CD4...   \n",
       "138    192  C0345967  ['NAT2', 'PARP1', 'ANXA2', 'APOA1', 'BCL2', 'C...   \n",
       "158    237  C0887898  ['ABCF1', 'PARP1', 'AGT', 'AHR', 'CASP1', 'CD4...   \n",
       "175    258  C1527304  ['ABCF1', 'ALB', 'CASP1', 'CD40LG', 'CCR1', 'C...   \n",
       "177    260  C1563937  ['ABCA1', 'PARP1', 'AGER', 'AGT', 'AHR', 'ALOX...   \n",
       "193    281  C3714636  ['ABCF1', 'PARP1', 'AGT', 'AHR', 'CASP1', 'CD4...   \n",
       "\n",
       "                                         protein_index  n_proteins  \\\n",
       "5    [327, 6012, 121, 374, 411, 536, 699, 4977, 142...         169   \n",
       "6    [26, 10365, 374, 396, 411, 536, 537, 534, 770,...          58   \n",
       "48   [63, 484, 1991, 2337, 2261, 2267, 3321, 3523, ...          64   \n",
       "51   [1039, 1038, 10365, 374, 396, 411, 476, 598, 7...         122   \n",
       "82   [63, 10365, 396, 411, 1991, 2337, 2261, 2267, ...          54   \n",
       "83   [63, 10365, 396, 411, 1991, 2337, 2261, 2267, ...          54   \n",
       "138  [9369, 10365, 697, 768, 1354, 1818, 1897, 1525...         103   \n",
       "158  [63, 10365, 396, 411, 1991, 2337, 2261, 2267, ...          54   \n",
       "175  [63, 484, 1991, 2337, 2261, 2267, 3523, 4150, ...          63   \n",
       "177  [26, 10365, 374, 396, 411, 536, 537, 534, 770,...          58   \n",
       "193  [63, 10365, 396, 411, 1991, 2337, 2261, 2267, ...          54   \n",
       "\n",
       "                                        main_component  \\\n",
       "5    [327, 6012, 121, 374, 411, 536, 699, 4977, 142...   \n",
       "6    [26, 10365, 374, 396, 411, 536, 537, 534, 770,...   \n",
       "48   [63, 484, 1991, 2337, 2261, 2267, 3321, 3523, ...   \n",
       "51   [1038, 10365, 374, 396, 411, 476, 598, 768, 14...   \n",
       "82   [63, 10365, 396, 411, 1991, 2337, 2261, 2267, ...   \n",
       "83   [63, 10365, 396, 411, 1991, 2337, 2261, 2267, ...   \n",
       "138  [9369, 10365, 697, 768, 1354, 1818, 1897, 1525...   \n",
       "158  [63, 10365, 396, 411, 1991, 2337, 2261, 2267, ...   \n",
       "175  [63, 484, 1991, 2337, 2261, 2267, 3523, 4150, ...   \n",
       "177  [26, 10365, 374, 396, 411, 536, 537, 534, 770,...   \n",
       "193  [63, 10365, 396, 411, 1991, 2337, 2261, 2267, ...   \n",
       "\n",
       "                                   conservative_module  \\\n",
       "5    [13836, 536, 5661, 38, 15399, 8748, 15407, 824...   \n",
       "6    [770, 16132, 13830, 6794, 13835, 396, 13836, 8...   \n",
       "48   [6913, 6914, 3465, 2314, 6794, 3468, 15246, 15...   \n",
       "51   [14337, 10250, 13835, 1038, 8208, 1040, 5141, ...   \n",
       "82   [6913, 6914, 4355, 3465, 6794, 396, 3468, 1524...   \n",
       "83   [6913, 6914, 4355, 3465, 6794, 396, 3468, 1524...   \n",
       "138  [5130, 8205, 5139, 5151, 3113, 8748, 15408, 13...   \n",
       "158  [6913, 6914, 4355, 3465, 6794, 396, 3468, 1524...   \n",
       "175  [6913, 6914, 3465, 2314, 6794, 3468, 15246, 15...   \n",
       "177  [770, 16132, 13830, 6794, 13835, 396, 13836, 8...   \n",
       "193  [6913, 6914, 4355, 3465, 6794, 396, 3468, 1524...   \n",
       "\n",
       "                                           added_nodes  len_main_component  \\\n",
       "5    [5979, 4547, 800, 6299, 14738, 16476, 14561, 2...                 228   \n",
       "6    [5979, 1360, 6956, 15876, 2020, 3569, 13321, 9...                  80   \n",
       "48   [800, 3119, 7198, 8510, 6440, 11789, 15228, 69...                  88   \n",
       "51   [4547, 3715, 6700, 1211, 4351, 5979, 800, 2020...                 157   \n",
       "82   [12411, 3119, 5979, 2218, 15228, 11789, 6937, ...                  72   \n",
       "83   [12411, 3119, 5979, 2218, 15228, 11789, 6937, ...                  72   \n",
       "138  [15877, 1221, 9799, 5979, 800, 6956, 13603, 16...                 136   \n",
       "158  [12411, 3119, 5979, 2218, 15228, 11789, 6937, ...                  72   \n",
       "175  [800, 3119, 7198, 8510, 6440, 11789, 15228, 69...                  87   \n",
       "177  [5979, 1360, 6956, 15876, 2020, 3569, 13321, 9...                  80   \n",
       "193  [12411, 3119, 5979, 2218, 15228, 11789, 6937, ...                  72   \n",
       "\n",
       "     len_cm  len_added_nodes  \\\n",
       "5       169               59   \n",
       "6        57               23   \n",
       "48       63               25   \n",
       "51      121               37   \n",
       "82       53               19   \n",
       "83       53               19   \n",
       "138     101               35   \n",
       "158      53               19   \n",
       "175      62               25   \n",
       "177      57               23   \n",
       "193      53               19   \n",
       "\n",
       "                                    main_component_ids  \\\n",
       "5    ['ADORA2A', 'GRK2', 'ACAN', 'AGER', 'AHR', 'AL...   \n",
       "6    ['ABCA1', 'PARP1', 'AGER', 'AGT', 'AHR', 'ALOX...   \n",
       "48   ['ABCF1', 'ALB', 'CASP1', 'CD40LG', 'CCR1', 'C...   \n",
       "51   ['ASIC1', 'PARP1', 'AGER', 'AGT', 'AHR', 'AKT1...   \n",
       "82   ['ABCF1', 'PARP1', 'AGT', 'AHR', 'CASP1', 'CD4...   \n",
       "83   ['ABCF1', 'PARP1', 'AGT', 'AHR', 'CASP1', 'CD4...   \n",
       "138  ['NAT2', 'PARP1', 'ANXA2', 'APOA1', 'BCL2', 'C...   \n",
       "158  ['ABCF1', 'PARP1', 'AGT', 'AHR', 'CASP1', 'CD4...   \n",
       "175  ['ABCF1', 'ALB', 'CASP1', 'CD40LG', 'CCR1', 'C...   \n",
       "177  ['ABCA1', 'PARP1', 'AGER', 'AGT', 'AHR', 'ALOX...   \n",
       "193  ['ABCF1', 'PARP1', 'AGT', 'AHR', 'CASP1', 'CD4...   \n",
       "\n",
       "                               conservative_module_ids  \\\n",
       "5    ['SOD2', 'ALOX5', 'GIN1', 'ABCB1', 'TRAF1', 'M...   \n",
       "6    ['APOA4', 'VEGFA', 'SOCS3', 'IFNG', 'SOD1', 'A...   \n",
       "48   ['IL1R1', 'IL1R2', 'CX3CL1', 'CD274', 'IFNG', ...   \n",
       "51   ['SULT2B1', 'OXT', 'SOD1', 'ASIC1', 'LTB4R', '...   \n",
       "82   ['IL1R1', 'IL1R2', 'EGR1', 'CX3CL1', 'IFNG', '...   \n",
       "83   ['IL1R1', 'IL1R2', 'EGR1', 'CX3CL1', 'IFNG', '...   \n",
       "138  ['FGD6', 'LTA', 'FGF18', 'FGF9', 'COPG1', 'MIF...   \n",
       "158  ['IL1R1', 'IL1R2', 'EGR1', 'CX3CL1', 'IFNG', '...   \n",
       "175  ['IL1R1', 'IL1R2', 'CX3CL1', 'CD274', 'IFNG', ...   \n",
       "177  ['APOA4', 'VEGFA', 'SOCS3', 'IFNG', 'SOD1', 'A...   \n",
       "193  ['IL1R1', 'IL1R2', 'EGR1', 'CX3CL1', 'IFNG', '...   \n",
       "\n",
       "                                       added_nodes_ids  increase  \n",
       "5    ['GRB2', 'EP300', 'APP', 'HDAC2', 'TEX101', 'Y...  0.349112  \n",
       "6    ['GRB2', 'BCL2L13', 'IL6ST', 'UBQLN1', 'CAV1',...  0.396552  \n",
       "48   ['APP', 'COPS5', 'JAK1', 'MBP', 'HLA-A', 'QSOX...  0.390625  \n",
       "51   ['EP300', 'DDX19B', 'HTT', 'ATXN3', 'EGFR', 'G...  0.303279  \n",
       "82   ['RNF4', 'COPS5', 'GRB2', 'CCL5', 'TNFAIP6', '...  0.351852  \n",
       "83   ['RNF4', 'COPS5', 'GRB2', 'CCL5', 'TNFAIP6', '...  0.351852  \n",
       "138  ['UBQLN2', 'AURKA', 'NPM1', 'GRB2', 'APP', 'IL...  0.339806  \n",
       "158  ['RNF4', 'COPS5', 'GRB2', 'CCL5', 'TNFAIP6', '...  0.351852  \n",
       "175  ['APP', 'COPS5', 'JAK1', 'MBP', 'HLA-A', 'QSOX...  0.396825  \n",
       "177  ['GRB2', 'BCL2L13', 'IL6ST', 'UBQLN1', 'CAV1',...  0.396552  \n",
       "193  ['RNF4', 'COPS5', 'GRB2', 'CCL5', 'TNFAIP6', '...  0.351852  "
      ]
     },
     "execution_count": 8,
     "metadata": {},
     "output_type": "execute_result"
    }
   ],
   "source": [
    "disease_protein_indexes[disease_protein_indexes['process'].isin(selected_diseases)]"
   ]
  },
  {
   "cell_type": "code",
   "execution_count": 9,
   "metadata": {},
   "outputs": [],
   "source": [
    "disease_proteins = list(disgenet_labels_df[disgenet_labels_df['C0003873']==1]['C0003873'].index)\n",
    "new_proteins = list(disease_rwr_proba_fs[disease_rwr_proba_fs['process'] == 'C0003873']['new_proteins'].values[0])\n",
    "all_disease_proteins = disease_proteins+new_proteins"
   ]
  },
  {
   "cell_type": "code",
   "execution_count": 10,
   "metadata": {},
   "outputs": [
    {
     "data": {
      "text/plain": [
       "array([[ 1.10176156e-03, -5.13070108e-05, -1.82078453e-04, ...,\n",
       "         7.28087637e-18, -5.60721190e-18, -8.42484314e-19],\n",
       "       [-1.01932478e-03, -2.73599313e-04, -7.85591684e-05, ...,\n",
       "         2.02414487e-18,  1.07807959e-18, -1.88577458e-18],\n",
       "       [-1.03244665e-03, -2.98220097e-04, -7.34755761e-05, ...,\n",
       "         6.51902958e-19, -8.42823083e-19, -1.30961024e-19],\n",
       "       ...,\n",
       "       [-3.30305120e-04,  2.60285686e-03, -4.73720284e-04, ...,\n",
       "        -1.26318119e-17, -6.36728663e-19,  8.81731528e-19],\n",
       "       [-7.53054321e-06,  1.85478141e-04,  9.42804970e-05, ...,\n",
       "         1.10404766e-17, -3.07942622e-19, -1.08163213e-18],\n",
       "       [ 1.08731369e-03,  9.15592923e-04,  4.36993183e-04, ...,\n",
       "        -4.64993167e-19,  8.87706063e-18,  2.94937614e-18]])"
      ]
     },
     "execution_count": 10,
     "metadata": {},
     "output_type": "execute_result"
    }
   ],
   "source": [
    "from sklearn.decomposition import PCA\n",
    "pca = PCA()\n",
    "pca.fit_transform(disease_rwr_scores[disease_rwr_scores.index.isin(all_disease_proteins)][selected_diseases])\n"
   ]
  },
  {
   "cell_type": "code",
   "execution_count": 11,
   "metadata": {},
   "outputs": [],
   "source": [
    "def broken_stick(n_components):\n",
    "    brk_stk_values = []\n",
    "    for i in range(1,n_components+1):\n",
    "        sum_values = 0\n",
    "        for j in range(i,n_components+1):\n",
    "            sum_values += 1/j\n",
    "        brk_stk_values.append(sum_values/n_components)\n",
    "    return brk_stk_values"
   ]
  },
  {
   "cell_type": "code",
   "execution_count": 12,
   "metadata": {},
   "outputs": [
    {
     "data": {
      "image/png": "[encoded data removed]",
      "text/plain": [
       "<Figure size 1296x864 with 1 Axes>"
      ]
     },
     "metadata": {
      "needs_background": "light"
     },
     "output_type": "display_data"
    }
   ],
   "source": [
    "plt.rcParams[\"figure.figsize\"] = (18,12)\n",
    "\n",
    "fig, ax = plt.subplots()\n",
    "xi = np.arange(1, 12, step=1)\n",
    "sum_y = np.cumsum(pca.explained_variance_ratio_)\n",
    "ind_y = pca.explained_variance_ratio_\n",
    "\n",
    "plt.ylim(0.0,1.1)\n",
    "plt.plot(xi, sum_y, marker='o', linestyle='--', color='dodgerblue', label = 'Cumulative Variance')\n",
    "plt.plot(xi, broken_stick(11), linestyle='--', color='black', label = 'Broken-Stick Variance')\n",
    "plt.bar(xi, ind_y, color='orange', label = 'Component Variance')\n",
    "\n",
    "plt.xlabel('Number of Components', fontsize=16)\n",
    "plt.xticks(np.arange(1, 12, step=2))\n",
    "plt.ylabel('Variance (%)', fontsize=16)\n",
    "plt.title('The number of components needed to explain variance', fontsize=16)\n",
    "\n",
    "plt.axhline(y=0.95, color='r', linestyle='-')\n",
    "plt.axhline(y=0.9, color='r', linestyle='-')\n",
    "plt.axhline(y=0.8, color='r', linestyle='-')\n",
    "plt.text(0.5, 0.96, '95% cut-off threshold', color = 'r', fontsize=12)\n",
    "plt.text(0.5, 0.91, '90% cut-off threshold', color = 'r', fontsize=12)\n",
    "plt.text(0.5, 0.81, '80% cut-off threshold', color = 'r', fontsize=12)\n",
    "ax.legend(loc = 'upper center', prop={'size': 16})\n",
    "ax.grid(axis='x')\n",
    "ax.margins(0.01)\n",
    "plt.rc('xtick',labelsize=14)\n",
    "plt.rc('ytick',labelsize=14)\n",
    "plt.show()"
   ]
  },
  {
   "cell_type": "code",
   "execution_count": 13,
   "metadata": {},
   "outputs": [],
   "source": [
    "pca = PCA(n_components = 2)\n",
    "X_PCA = pca.fit_transform(disease_rwr_scores[disease_rwr_scores.index.isin(all_disease_proteins)][selected_diseases])\n",
    "X_PCA_df = pd.DataFrame(X_PCA)"
   ]
  },
  {
   "cell_type": "code",
   "execution_count": 14,
   "metadata": {},
   "outputs": [],
   "source": [
    "X_PCA_df['protein'] = all_disease_proteins"
   ]
  },
  {
   "cell_type": "code",
   "execution_count": 15,
   "metadata": {},
   "outputs": [
    {
     "data": {
      "text/plain": [
       "0.8788985292112524"
      ]
     },
     "execution_count": 15,
     "metadata": {},
     "output_type": "execute_result"
    }
   ],
   "source": [
    "sum(pca.explained_variance_ratio_)"
   ]
  },
  {
   "cell_type": "code",
   "execution_count": 16,
   "metadata": {},
   "outputs": [],
   "source": [
    "X_PCA_df['label'] = X_PCA_df.apply(lambda row: 'candidate' if row['protein'] in list(disease_rwr_proba_fs[disease_rwr_proba_fs['process'] == 'C0003873']['new_proteins'].values[0]) else 'known', axis=1)"
   ]
  },
  {
   "cell_type": "code",
   "execution_count": 37,
   "metadata": {},
   "outputs": [
    {
     "data": {
      "application/vnd.plotly.v1+json": {
       "config": {
        "plotlyServerURL": "https://plot.ly"
       },
       "data": [
        {
         "marker": {
          "color": "#59C3C3",
          "line": {
           "color": "#000000",
           "width": 2
          },
          "size": 20
         },
         "mode": "markers",
         "name": "Known",
         "text": [
          "A2M",
          "ABCB1",
          "ABCC2",
          "ABCC3",
          "ABCC4",
          "ABCC5",
          "ABCG2",
          "ACAN",
          "ACKR3",
          "ADAMTS2",
          "ADIPOQ",
          "ADORA2A",
          "AFF3",
          "AGER",
          "AHR",
          "ALOX5",
          "ANKRD55",
          "ANXA3",
          "APP",
          "ARID5B",
          "ATIC",
          "B3GNT2",
          "B3GNT9",
          "B4GALT1",
          "BAIAP2L1",
          "BCL2A1",
          "BCL2L11",
          "BDKRB2",
          "BGN",
          "BLK",
          "BMP2",
          "BMP4",
          "BMP6",
          "BTRC",
          "CALD1",
          "CAT",
          "CAV2",
          "CCKBR",
          "CCL21",
          "CCL8",
          "CCN1",
          "CCN2",
          "CCR6",
          "CD2",
          "CD244",
          "CD28",
          "CD3E",
          "CD40",
          "CD5",
          "CD83",
          "CDC5L",
          "CDK6",
          "CFTR",
          "CIITA",
          "CITED2",
          "CLEC12A",
          "COL2A1",
          "CP",
          "CRP",
          "CSF2",
          "CTLA4",
          "CTSD",
          "CXCL2",
          "CXCL6",
          "CXCL8",
          "CXCR4",
          "CYSRT1",
          "DDIT4",
          "DDX6",
          "DHFR",
          "DNASE1L3",
          "ENO1",
          "EP300",
          "ERP29",
          "F2",
          "FASLG",
          "FCGR2A",
          "FKBP5",
          "FOXP3",
          "FPGS",
          "GART",
          "GATA3",
          "GC",
          "GDF5",
          "GGH",
          "GIN1",
          "GOLGB1",
          "GPRC5A",
          "GRB2",
          "GRK2",
          "GRK6",
          "GSDME",
          "HCLS1",
          "HDAC2",
          "HLA-DPB1",
          "HLA-DQA2",
          "HLA-DRB1",
          "HNRNPC",
          "HOXD10",
          "HOXD13",
          "HSCB",
          "HSD11B1",
          "HSF2BP",
          "HSPB2",
          "IFNG",
          "IFNGR1",
          "IGFBP3",
          "IKZF3",
          "IL10",
          "IL12RB1",
          "IL18",
          "IL1B",
          "IL1RN",
          "IL2",
          "IL23A",
          "IL2RA",
          "IL2RB",
          "IL6",
          "IL6R",
          "IL6ST",
          "IRAK1",
          "IRF5",
          "IRF8",
          "ITGA6",
          "JMJD8",
          "KIF5A",
          "LCK",
          "LCN2",
          "LHFPL5",
          "LHX2",
          "LMNA",
          "LY96",
          "MAB21L2",
          "MAPK8IP2",
          "MARCKS",
          "MGARP",
          "MIF",
          "MLH1",
          "MMEL1",
          "MMP10",
          "MMP12",
          "MMP2",
          "MPO",
          "MTHFR",
          "NCF1",
          "NCF2",
          "NCSTN",
          "NDUFA4L2",
          "NDUFB6",
          "NFKBIE",
          "NFKBIL1",
          "NLGN3",
          "NPTX1",
          "NR4A3",
          "NUMA1",
          "OPTN",
          "PADI4",
          "PF4",
          "PIM1",
          "PLB1",
          "PLEK",
          "PON1",
          "PPM1B",
          "PRDM1",
          "PRKCQ",
          "PSG5",
          "PTGIS",
          "PTGS1",
          "PTGS2",
          "PTK2",
          "PTPN2",
          "PTPN22",
          "PTPRC",
          "PXK",
          "QSOX1",
          "QTRT1",
          "RAB8A",
          "RAP2A",
          "RASGRP1",
          "RBPJ",
          "RCAN1",
          "REL",
          "RGMB",
          "RUNX1",
          "RUNX2",
          "SERPINA3",
          "SERPINB4",
          "SH2D1B",
          "SIX3",
          "SLC22A4",
          "SLC25A12",
          "SLC9A3R1",
          "SMPD2",
          "SMS",
          "SMURF2",
          "SOD2",
          "SPNS1",
          "SPRED2",
          "ST6GALNAC5",
          "STAT1",
          "STAT4",
          "STAT5A",
          "STEEP1",
          "STS",
          "SYK",
          "TAGAP",
          "TBC1D22B",
          "TEX101",
          "TFPI2",
          "TLE3",
          "TLR2",
          "TM9SF4",
          "TMPO",
          "TNF",
          "TNFAIP2",
          "TNFAIP3",
          "TNFAIP6",
          "TNFRSF11A",
          "TNFRSF11B",
          "TNFRSF14",
          "TNFSF14",
          "TRAF1",
          "TRAF6",
          "TXNDC5",
          "TXNIP",
          "TYK2",
          "VEGFA",
          "YWHAG"
         ],
         "type": "scatter",
         "x": [
          0.00110176156036379,
          -0.0010193247842381857,
          -0.0010324466522559767,
          -0.0010758829463101123,
          -0.0010188068495432592,
          -0.001036163254164321,
          -0.0010537730067942334,
          -0.0010690078359015033,
          -0.000942006905700157,
          -0.0008029988285298576,
          -0.00011263489790780923,
          -0.0009308324233752653,
          -0.001059695845550672,
          -0.00026169398120210277,
          0.003279250681059649,
          -0.0002910263951971281,
          -0.000980115325985801,
          -0.001046991189921129,
          0.004344405954194303,
          -0.001031988037963209,
          -0.000995711067110881,
          -0.0009376475793391123,
          -0.0010722648228438303,
          -0.0009421408410919995,
          -0.0009324919323302311,
          -0.0010196518998574022,
          -0.0008117429137562963,
          -0.0007053636444644273,
          -0.0010491756222728017,
          -0.0007511019122942047,
          -0.0004564139845937552,
          -0.0006129468016737098,
          -0.0007076615808579933,
          0.000005667604851154572,
          -0.00017656371118809653,
          -0.0009813082882722238,
          -0.0009474500183355828,
          -0.0010466561201694302,
          -0.0009843341763278069,
          0.004159040976370121,
          0.006057438089724934,
          -0.0010517330247091041,
          -0.0009901435681733929,
          0.004027181823912567,
          -0.0010342805072521295,
          -0.0009592680759351189,
          -0.0010084118689455762,
          -0.0007462200116939494,
          0.0012587488043017808,
          -0.0010254412096016802,
          -0.0008281856147550975,
          0.0007448633098753289,
          -0.00031531501122533125,
          0.0006243925016689492,
          -0.0010094909275770812,
          -0.0010307171160185583,
          -0.0009698020617197877,
          -0.0007938783611873911,
          0.0068737280840439055,
          -0.0009780315623277845,
          0.000281032939534907,
          0.003471865844962906,
          -0.00035376816071786845,
          -0.0009440521438179944,
          0.0024388811880762667,
          0.0023418112517666918,
          0.0020910509038235946,
          0.005860592956149761,
          0.0003501759977681335,
          0.0013923450155193635,
          -0.0009900648816373997,
          -0.000672334699697717,
          -0.0010398891482766837,
          -0.0010691065964536326,
          -0.0006918771956120018,
          0.0013882321393681265,
          -0.000830174268133536,
          -0.000889768711268679,
          -0.00020943865258397714,
          -0.0008305533366390796,
          -0.0005239792992195677,
          -0.0008397885829073532,
          -0.001050618810209943,
          0.00037493565139599136,
          -0.0009914502096677335,
          -0.0008198182370433439,
          -0.0010027770532158083,
          -0.00059687044971329,
          -0.0009993131744043076,
          -0.0010682885679838578,
          -0.0009183067609822409,
          -0.0010282527035986135,
          0.008135207619481015,
          -0.000930106191335422,
          -0.0008715495440102232,
          -0.0010195733582801455,
          -0.001003796858154582,
          0.00023850512311075555,
          -0.00021349134164745718,
          -0.0009386354846556415,
          -0.0010721268617434564,
          0.0004819163975258787,
          -0.00042637296661561443,
          -0.0009729163165718704,
          -0.000985112585864913,
          0.0016608638311565354,
          -0.0010526644891041485,
          0.00003826191026895235,
          0.0011890111942003065,
          -0.0006651656130668314,
          0.003538393150760742,
          0.0044865918957106765,
          0.002728994660617788,
          -0.0008982881588215104,
          -0.0005498200902432625,
          -0.0009179101138324918,
          -0.000984475560706053,
          0.004083773385673866,
          0.004350498012567796,
          -0.0006337744674332643,
          0.006092312898953499,
          -0.0009717176461679457,
          0.0006261797077782081,
          0.005780638965249431,
          0.0011414954654600966,
          -0.0005141158254920209,
          0.0048470650507018214,
          -0.00027527207657562834,
          -0.0008996141047416142,
          -0.0010234536428930067,
          -0.000844498967121504,
          -0.0010146994057182008,
          -0.0009301470457745712,
          -0.0006606110599499521,
          -0.0005792747838546674,
          -0.000012050065621431103,
          -0.0009715368956251909,
          0.003952764924857381,
          -0.0009145293038977507,
          -0.0007154726777564692,
          -0.0003553808764793513,
          -0.0009808974664687739,
          0.00023821781395411351,
          0.004793166683144844,
          -0.0009858165964453855,
          -0.0007171458950569683,
          -0.00033447875099243705,
          -0.001074168704778286,
          -0.0009812621737350581,
          -0.0010757336860991278,
          0.00017217254220867906,
          -0.0008501823591692049,
          0.0002673315310661273,
          0.0014696100234850283,
          -0.00026405155934484687,
          -0.0009908639314416064,
          -0.0007563160764464708,
          -0.0010132381241485752,
          -0.0009210073443451424,
          0.0014989288205464332,
          -0.0010181235644172535,
          -0.0009572006139072031,
          -0.0007155669956845987,
          -0.0009292889028600783,
          -0.0009168535356784816,
          -0.0006965260065705574,
          -0.0000030825272155123434,
          -0.0010293638740690467,
          0.009298159874472103,
          -0.000952145945289214,
          -0.0009593243897058179,
          -0.0006565624623744358,
          -0.0005218345646718417,
          -0.0008095965088656318,
          -0.0009689806750485451,
          -0.0008724008049785385,
          -0.001067997758492071,
          -0.0010012156221506654,
          -0.0010279128803146337,
          -0.0003891004317221013,
          -0.0005931664173019834,
          -0.000840321252913957,
          -0.0010043490814939172,
          -0.000999170187275525,
          -0.0010187878207670144,
          0.008480904898467229,
          -0.0010132706574151153,
          -0.0007972541412088812,
          -0.0009423560766048592,
          -0.0010705631190467489,
          -0.0007020690428212209,
          -0.0010215580480677524,
          0.0002731920366705888,
          -0.0010416914924313168,
          -0.000864995804898549,
          -0.0009723933319893925,
          -0.0008566597796307527,
          0.0033500939441298574,
          -0.0009351655241746003,
          -0.0010578405248734119,
          -0.0010588649140431318,
          -0.0009764125316014454,
          -0.0006705171439387353,
          -0.0008746519997951688,
          -0.000991997169555132,
          -0.0006863832868926437,
          0.0007517299538491336,
          -0.0004820014175178639,
          -0.0007777798018765951,
          -0.0008559756953404577,
          -0.0010638013491175075,
          -0.0005020332677275673,
          -0.0010401898507864111,
          -0.000052638963069185516,
          -0.0010373160043115083,
          -0.0008832646095573009,
          -0.0004418406249944852,
          -0.0010761383726135857,
          -0.00020085841056542415,
          0.0006774520724051078,
          -0.0010718470102852194,
          -0.0009276140568634761,
          -0.0005499549630066341,
          -0.0009675828683687246,
          -0.0008145774063820921,
          0.0052152687933393884,
          -0.001069332464574887,
          -0.00045172221752463746
         ],
         "y": [
          -0.00005130701082018656,
          -0.0002735993129592162,
          -0.0002982200968503727,
          -0.00032359082183063166,
          -0.00028614478908906623,
          -0.00029824350976257114,
          -0.0003110260853299678,
          -0.0003206370430168243,
          -0.00027143390254783943,
          -0.00006884857290424907,
          0.002727738442201208,
          -0.0002749001904404331,
          -0.00030878897193922,
          0.002461603291197018,
          0.0014590551341804698,
          0.002628819958717001,
          -0.00027886907247031437,
          -0.00031197985785068897,
          0.002118362658413062,
          -0.00030102514654642773,
          -0.0002842266387540457,
          -0.0001683871121969153,
          -0.0003214769200321144,
          -0.0002627617954866368,
          -0.00021772551508101811,
          -0.0002794186327514674,
          -0.00021261725343429315,
          0.000048414348790036276,
          -0.0003121683765679966,
          -0.00009580640286058575,
          -0.00022157901407722787,
          -0.00035973388284451857,
          -0.0003818655793513486,
          -0.00031729393884561373,
          0.000050233574884576987,
          -0.00027498249526041417,
          -0.0002890208898450071,
          -0.00027859147145684716,
          -0.0002739148860562201,
          -0.0008198658272054396,
          -0.001682288474760963,
          -0.00031060476583060403,
          -0.00018975319429275536,
          -0.0015413933050419267,
          -0.0002962677724932406,
          -0.000265279852997407,
          -0.000298433655159023,
          0.00007152707209713564,
          -0.0007496030589503809,
          -0.00029815722705988957,
          -0.000254929302409945,
          0.000633212348904375,
          0.00017962296276435933,
          0.0006433208435732194,
          -0.00025908463007189145,
          -0.0002977389577233544,
          -0.00026617103298139273,
          0.00007227847942902364,
          -0.000011738897173041308,
          -0.00020536380327361006,
          0.002664673412236728,
          -0.0012320994104787503,
          -0.0003713296179376176,
          -0.0002500059462145786,
          0.0015450433097393707,
          -0.000521135384793724,
          -0.0008434343827020393,
          -0.0011454969211693012,
          -0.00008006651176226932,
          0.003081070750894806,
          -0.00028144710391876307,
          -0.00013109761276969658,
          -0.00030841242952491866,
          -0.00031690071725880693,
          -0.00008107118346616877,
          0.0012644814849516828,
          -0.00002879923481071951,
          0.00005103626433915565,
          0.002411312887039933,
          -0.00025016697886349267,
          -0.00007753764365939946,
          -0.00020641331173119537,
          -0.00031060774008219796,
          0.000484990374799789,
          -0.0002782433645945185,
          0.00009081517190020661,
          -0.00028554358688878234,
          -0.00033840245063030105,
          -0.0002951850961287206,
          -0.0003220854814233449,
          -0.00018029086074396883,
          -0.00030028471719510815,
          0.003803936989919215,
          -0.00024609062372472093,
          -0.0002841204335856151,
          -0.0003002789652646313,
          -0.0002836753718561462,
          0.00043870867882445655,
          0.00014041310036472644,
          -0.00026290204979847537,
          -0.0003229193696891006,
          -0.0004257147136411083,
          0.000026239133604635643,
          -0.0003207579218230898,
          -0.0002699201639239304,
          0.0012496912221097356,
          -0.0003117023775444091,
          0.00019151073757826042,
          0.000729706400894853,
          -0.00007996192231581678,
          0.0018066153759086134,
          0.0014537513639677198,
          0.0003826695681577041,
          -0.00007570300540616044,
          -0.000048083058332030416,
          -0.000008647437519898695,
          -0.0002468248270511318,
          -0.0015349932485980297,
          -0.0012720622762100852,
          -0.00007631332263703905,
          -0.0015430298923577673,
          -0.00020087658684076232,
          -0.0003723262382362569,
          -0.0017936445420130697,
          0.002749005071645163,
          0.00018185163734817702,
          0.0017048656744216954,
          -0.0002692824851821707,
          -0.00028606842325247295,
          -0.0003014223197653919,
          -0.0002569052731421093,
          -0.0002784301500507361,
          -0.000256482637731845,
          -0.000013135111278495957,
          0.00013485186404945144,
          0.00004334360830910212,
          -0.0002688559953557776,
          0.000700046767651897,
          -0.00025200054913366595,
          -0.0001350497704949228,
          0.000321445043505362,
          -0.0002923442105883234,
          0.00043184903675381526,
          0.0001230847914739476,
          -0.00027641853536719996,
          0.00022061944231856645,
          0.00008966763369718914,
          -0.00032305291952633235,
          -0.00017497200340517254,
          -0.0003235421141035142,
          0.00020089441876218884,
          0.00008480459052032029,
          -0.00043284266118654493,
          0.000987897671498643,
          0.0025879853342048974,
          -0.00020664242689868317,
          -0.00008914771764481299,
          -0.0002876311880626043,
          0.00010416839292893999,
          0.0010216101189239092,
          -0.0002928826051521609,
          -0.00028551930052616735,
          -0.00012055006818103321,
          -0.00022599120009622107,
          -0.0002526135462815147,
          -0.0001699336514420895,
          0.00016030138163605274,
          -0.0002989724690109649,
          -0.0019788219117716486,
          -0.0002478848763223261,
          -0.00024098378198854332,
          -0.00036436160329147646,
          0.002378622702428827,
          -0.0001706114443756427,
          -0.00027537989174257276,
          -0.0002963249564192482,
          -0.00031870233726745737,
          -0.00008035459926083148,
          -0.0002518281498429906,
          0.0024835042394150612,
          -0.00003645903016187344,
          -0.00019443892868005024,
          -0.000274329800590771,
          -0.00027821097480849736,
          -0.0003077432584661626,
          -0.0024379761991111483,
          -0.0002844993842934947,
          -0.00021598919368622663,
          -0.0002496552358476036,
          -0.0003202614159543298,
          -0.00013162434715761174,
          -0.00029704341054631855,
          0.00026654419763046995,
          -0.0003163104473467984,
          -0.00021580703273949933,
          -0.0002616481596473648,
          -0.00014184579587879972,
          -0.0013483402694598459,
          -0.00024762776929158626,
          -0.0003141602659720049,
          -0.00030824201791535596,
          -0.00025976006489124596,
          0.00005633926523372131,
          -0.00025435645446730587,
          -0.00026604274315425783,
          -0.00012025399064119243,
          0.0005671898059008342,
          0.0021850877996055884,
          -0.0003521560734723752,
          -0.00020652676689743554,
          -0.0003134240902347932,
          -0.00007201950694862082,
          -0.00029943707328152733,
          -0.0002751433086649602,
          -0.00030410275773322545,
          0.000010601281536763467,
          0.00017115460211716775,
          -0.00032410578509942806,
          0.0002623258307632073,
          0.0002641366601126969,
          -0.000321810350601922,
          -0.00022947733990094621,
          0.00006155839657722532,
          -0.00027781090707668473,
          -0.00018767271140234475,
          0.001580927803689298,
          -0.00032042542501772007,
          0.0001629227276186888
         ]
        },
        {
         "marker": {
          "color": "#FDA96D",
          "line": {
           "color": "#000000",
           "width": 2
          },
          "size": 20
         },
         "mode": "markers",
         "name": "Predicted",
         "text": [
          "BMPR1A",
          "COPS5",
          "CUL3",
          "FYN",
          "HDAC1",
          "HSP90AB1",
          "HTT",
          "MDFI",
          "MEOX2",
          "MYC",
          "NEK4",
          "SNW1",
          "TRAF2",
          "VHL"
         ],
         "type": "scatter",
         "x": [
          0.008716605390902207,
          -0.0009875808174704048,
          -0.0009332652222011287,
          -0.0009351498470269987,
          -0.0008530590425133261,
          0.00036610246987280786,
          0.0009565470743060823,
          0.0004204583645077699,
          -0.0009235495604824602,
          -0.0009435251076015949,
          -0.0004484377335794118,
          -0.0003303051198741053,
          -0.000007530543210509216,
          0.0010873136915217217
         ],
         "y": [
          -0.0020502233491409136,
          -0.00023117258208223016,
          -0.000014480788505899651,
          -0.0002521181897943574,
          -0.00023852385556194996,
          0.00021489886624461054,
          0.00033212241191362985,
          0.00011792877309603483,
          -0.00024213226867550344,
          -0.0002492564718481568,
          -0.00014488744644325382,
          0.002602856857701923,
          0.00018547814134991969,
          0.0009155929230720038
         ]
        }
       ],
       "layout": {
        "height": 1000,
        "legend": {
         "font": {
          "color": "black",
          "size": 40
         },
         "orientation": "h",
         "x": 0.99,
         "xanchor": "right",
         "y": 1.01,
         "yanchor": "bottom"
        },
        "margin": {
         "b": 20,
         "l": 20,
         "r": 20,
         "t": 25
        },
        "paper_bgcolor": "rgba(255,255,255,1)",
        "plot_bgcolor": "rgba(255,255,255,1)",
        "template": {
         "data": {
          "bar": [
           {
            "error_x": {
             "color": "#2a3f5f"
            },
            "error_y": {
             "color": "#2a3f5f"
            },
            "marker": {
             "line": {
              "color": "#E5ECF6",
              "width": 0.5
             },
             "pattern": {
              "fillmode": "overlay",
              "size": 10,
              "solidity": 0.2
             }
            },
            "type": "bar"
           }
          ],
          "barpolar": [
           {
            "marker": {
             "line": {
              "color": "#E5ECF6",
              "width": 0.5
             },
             "pattern": {
              "fillmode": "overlay",
              "size": 10,
              "solidity": 0.2
             }
            },
            "type": "barpolar"
           }
          ],
          "carpet": [
           {
            "aaxis": {
             "endlinecolor": "#2a3f5f",
             "gridcolor": "white",
             "linecolor": "white",
             "minorgridcolor": "white",
             "startlinecolor": "#2a3f5f"
            },
            "baxis": {
             "endlinecolor": "#2a3f5f",
             "gridcolor": "white",
             "linecolor": "white",
             "minorgridcolor": "white",
             "startlinecolor": "#2a3f5f"
            },
            "type": "carpet"
           }
          ],
          "choropleth": [
           {
            "colorbar": {
             "outlinewidth": 0,
             "ticks": ""
            },
            "type": "choropleth"
           }
          ],
          "contour": [
           {
            "colorbar": {
             "outlinewidth": 0,
             "ticks": ""
            },
            "colorscale": [
             [
              0,
              "#0d0887"
             ],
             [
              0.1111111111111111,
              "#46039f"
             ],
             [
              0.2222222222222222,
              "#7201a8"
             ],
             [
              0.3333333333333333,
              "#9c179e"
             ],
             [
              0.4444444444444444,
              "#bd3786"
             ],
             [
              0.5555555555555556,
              "#d8576b"
             ],
             [
              0.6666666666666666,
              "#ed7953"
             ],
             [
              0.7777777777777778,
              "#fb9f3a"
             ],
             [
              0.8888888888888888,
              "#fdca26"
             ],
             [
              1,
              "#f0f921"
             ]
            ],
            "type": "contour"
           }
          ],
          "contourcarpet": [
           {
            "colorbar": {
             "outlinewidth": 0,
             "ticks": ""
            },
            "type": "contourcarpet"
           }
          ],
          "heatmap": [
           {
            "colorbar": {
             "outlinewidth": 0,
             "ticks": ""
            },
            "colorscale": [
             [
              0,
              "#0d0887"
             ],
             [
              0.1111111111111111,
              "#46039f"
             ],
             [
              0.2222222222222222,
              "#7201a8"
             ],
             [
              0.3333333333333333,
              "#9c179e"
             ],
             [
              0.4444444444444444,
              "#bd3786"
             ],
             [
              0.5555555555555556,
              "#d8576b"
             ],
             [
              0.6666666666666666,
              "#ed7953"
             ],
             [
              0.7777777777777778,
              "#fb9f3a"
             ],
             [
              0.8888888888888888,
              "#fdca26"
             ],
             [
              1,
              "#f0f921"
             ]
            ],
            "type": "heatmap"
           }
          ],
          "heatmapgl": [
           {
            "colorbar": {
             "outlinewidth": 0,
             "ticks": ""
            },
            "colorscale": [
             [
              0,
              "#0d0887"
             ],
             [
              0.1111111111111111,
              "#46039f"
             ],
             [
              0.2222222222222222,
              "#7201a8"
             ],
             [
              0.3333333333333333,
              "#9c179e"
             ],
             [
              0.4444444444444444,
              "#bd3786"
             ],
             [
              0.5555555555555556,
              "#d8576b"
             ],
             [
              0.6666666666666666,
              "#ed7953"
             ],
             [
              0.7777777777777778,
              "#fb9f3a"
             ],
             [
              0.8888888888888888,
              "#fdca26"
             ],
             [
              1,
              "#f0f921"
             ]
            ],
            "type": "heatmapgl"
           }
          ],
          "histogram": [
           {
            "marker": {
             "pattern": {
              "fillmode": "overlay",
              "size": 10,
              "solidity": 0.2
             }
            },
            "type": "histogram"
           }
          ],
          "histogram2d": [
           {
            "colorbar": {
             "outlinewidth": 0,
             "ticks": ""
            },
            "colorscale": [
             [
              0,
              "#0d0887"
             ],
             [
              0.1111111111111111,
              "#46039f"
             ],
             [
              0.2222222222222222,
              "#7201a8"
             ],
             [
              0.3333333333333333,
              "#9c179e"
             ],
             [
              0.4444444444444444,
              "#bd3786"
             ],
             [
              0.5555555555555556,
              "#d8576b"
             ],
             [
              0.6666666666666666,
              "#ed7953"
             ],
             [
              0.7777777777777778,
              "#fb9f3a"
             ],
             [
              0.8888888888888888,
              "#fdca26"
             ],
             [
              1,
              "#f0f921"
             ]
            ],
            "type": "histogram2d"
           }
          ],
          "histogram2dcontour": [
           {
            "colorbar": {
             "outlinewidth": 0,
             "ticks": ""
            },
            "colorscale": [
             [
              0,
              "#0d0887"
             ],
             [
              0.1111111111111111,
              "#46039f"
             ],
             [
              0.2222222222222222,
              "#7201a8"
             ],
             [
              0.3333333333333333,
              "#9c179e"
             ],
             [
              0.4444444444444444,
              "#bd3786"
             ],
             [
              0.5555555555555556,
              "#d8576b"
             ],
             [
              0.6666666666666666,
              "#ed7953"
             ],
             [
              0.7777777777777778,
              "#fb9f3a"
             ],
             [
              0.8888888888888888,
              "#fdca26"
             ],
             [
              1,
              "#f0f921"
             ]
            ],
            "type": "histogram2dcontour"
           }
          ],
          "mesh3d": [
           {
            "colorbar": {
             "outlinewidth": 0,
             "ticks": ""
            },
            "type": "mesh3d"
           }
          ],
          "parcoords": [
           {
            "line": {
             "colorbar": {
              "outlinewidth": 0,
              "ticks": ""
             }
            },
            "type": "parcoords"
           }
          ],
          "pie": [
           {
            "automargin": true,
            "type": "pie"
           }
          ],
          "scatter": [
           {
            "fillpattern": {
             "fillmode": "overlay",
             "size": 10,
             "solidity": 0.2
            },
            "type": "scatter"
           }
          ],
          "scatter3d": [
           {
            "line": {
             "colorbar": {
              "outlinewidth": 0,
              "ticks": ""
             }
            },
            "marker": {
             "colorbar": {
              "outlinewidth": 0,
              "ticks": ""
             }
            },
            "type": "scatter3d"
           }
          ],
          "scattercarpet": [
           {
            "marker": {
             "colorbar": {
              "outlinewidth": 0,
              "ticks": ""
             }
            },
            "type": "scattercarpet"
           }
          ],
          "scattergeo": [
           {
            "marker": {
             "colorbar": {
              "outlinewidth": 0,
              "ticks": ""
             }
            },
            "type": "scattergeo"
           }
          ],
          "scattergl": [
           {
            "marker": {
             "colorbar": {
              "outlinewidth": 0,
              "ticks": ""
             }
            },
            "type": "scattergl"
           }
          ],
          "scattermapbox": [
           {
            "marker": {
             "colorbar": {
              "outlinewidth": 0,
              "ticks": ""
             }
            },
            "type": "scattermapbox"
           }
          ],
          "scatterpolar": [
           {
            "marker": {
             "colorbar": {
              "outlinewidth": 0,
              "ticks": ""
             }
            },
            "type": "scatterpolar"
           }
          ],
          "scatterpolargl": [
           {
            "marker": {
             "colorbar": {
              "outlinewidth": 0,
              "ticks": ""
             }
            },
            "type": "scatterpolargl"
           }
          ],
          "scatterternary": [
           {
            "marker": {
             "colorbar": {
              "outlinewidth": 0,
              "ticks": ""
             }
            },
            "type": "scatterternary"
           }
          ],
          "surface": [
           {
            "colorbar": {
             "outlinewidth": 0,
             "ticks": ""
            },
            "colorscale": [
             [
              0,
              "#0d0887"
             ],
             [
              0.1111111111111111,
              "#46039f"
             ],
             [
              0.2222222222222222,
              "#7201a8"
             ],
             [
              0.3333333333333333,
              "#9c179e"
             ],
             [
              0.4444444444444444,
              "#bd3786"
             ],
             [
              0.5555555555555556,
              "#d8576b"
             ],
             [
              0.6666666666666666,
              "#ed7953"
             ],
             [
              0.7777777777777778,
              "#fb9f3a"
             ],
             [
              0.8888888888888888,
              "#fdca26"
             ],
             [
              1,
              "#f0f921"
             ]
            ],
            "type": "surface"
           }
          ],
          "table": [
           {
            "cells": {
             "fill": {
              "color": "#EBF0F8"
             },
             "line": {
              "color": "white"
             }
            },
            "header": {
             "fill": {
              "color": "#C8D4E3"
             },
             "line": {
              "color": "white"
             }
            },
            "type": "table"
           }
          ]
         },
         "layout": {
          "annotationdefaults": {
           "arrowcolor": "#2a3f5f",
           "arrowhead": 0,
           "arrowwidth": 1
          },
          "autotypenumbers": "strict",
          "coloraxis": {
           "colorbar": {
            "outlinewidth": 0,
            "ticks": ""
           }
          },
          "colorscale": {
           "diverging": [
            [
             0,
             "#8e0152"
            ],
            [
             0.1,
             "#c51b7d"
            ],
            [
             0.2,
             "#de77ae"
            ],
            [
             0.3,
             "#f1b6da"
            ],
            [
             0.4,
             "#fde0ef"
            ],
            [
             0.5,
             "#f7f7f7"
            ],
            [
             0.6,
             "#e6f5d0"
            ],
            [
             0.7,
             "#b8e186"
            ],
            [
             0.8,
             "#7fbc41"
            ],
            [
             0.9,
             "#4d9221"
            ],
            [
             1,
             "#276419"
            ]
           ],
           "sequential": [
            [
             0,
             "#0d0887"
            ],
            [
             0.1111111111111111,
             "#46039f"
            ],
            [
             0.2222222222222222,
             "#7201a8"
            ],
            [
             0.3333333333333333,
             "#9c179e"
            ],
            [
             0.4444444444444444,
             "#bd3786"
            ],
            [
             0.5555555555555556,
             "#d8576b"
            ],
            [
             0.6666666666666666,
             "#ed7953"
            ],
            [
             0.7777777777777778,
             "#fb9f3a"
            ],
            [
             0.8888888888888888,
             "#fdca26"
            ],
            [
             1,
             "#f0f921"
            ]
           ],
           "sequentialminus": [
            [
             0,
             "#0d0887"
            ],
            [
             0.1111111111111111,
             "#46039f"
            ],
            [
             0.2222222222222222,
             "#7201a8"
            ],
            [
             0.3333333333333333,
             "#9c179e"
            ],
            [
             0.4444444444444444,
             "#bd3786"
            ],
            [
             0.5555555555555556,
             "#d8576b"
            ],
            [
             0.6666666666666666,
             "#ed7953"
            ],
            [
             0.7777777777777778,
             "#fb9f3a"
            ],
            [
             0.8888888888888888,
             "#fdca26"
            ],
            [
             1,
             "#f0f921"
            ]
           ]
          },
          "colorway": [
           "#636efa",
           "#EF553B",
           "#00cc96",
           "#ab63fa",
           "#FFA15A",
           "#19d3f3",
           "#FF6692",
           "#B6E880",
           "#FF97FF",
           "#FECB52"
          ],
          "font": {
           "color": "#2a3f5f"
          },
          "geo": {
           "bgcolor": "white",
           "lakecolor": "white",
           "landcolor": "#E5ECF6",
           "showlakes": true,
           "showland": true,
           "subunitcolor": "white"
          },
          "hoverlabel": {
           "align": "left"
          },
          "hovermode": "closest",
          "mapbox": {
           "style": "light"
          },
          "paper_bgcolor": "white",
          "plot_bgcolor": "#E5ECF6",
          "polar": {
           "angularaxis": {
            "gridcolor": "white",
            "linecolor": "white",
            "ticks": ""
           },
           "bgcolor": "#E5ECF6",
           "radialaxis": {
            "gridcolor": "white",
            "linecolor": "white",
            "ticks": ""
           }
          },
          "scene": {
           "xaxis": {
            "backgroundcolor": "#E5ECF6",
            "gridcolor": "white",
            "gridwidth": 2,
            "linecolor": "white",
            "showbackground": true,
            "ticks": "",
            "zerolinecolor": "white"
           },
           "yaxis": {
            "backgroundcolor": "#E5ECF6",
            "gridcolor": "white",
            "gridwidth": 2,
            "linecolor": "white",
            "showbackground": true,
            "ticks": "",
            "zerolinecolor": "white"
           },
           "zaxis": {
            "backgroundcolor": "#E5ECF6",
            "gridcolor": "white",
            "gridwidth": 2,
            "linecolor": "white",
            "showbackground": true,
            "ticks": "",
            "zerolinecolor": "white"
           }
          },
          "shapedefaults": {
           "line": {
            "color": "#2a3f5f"
           }
          },
          "ternary": {
           "aaxis": {
            "gridcolor": "white",
            "linecolor": "white",
            "ticks": ""
           },
           "baxis": {
            "gridcolor": "white",
            "linecolor": "white",
            "ticks": ""
           },
           "bgcolor": "#E5ECF6",
           "caxis": {
            "gridcolor": "white",
            "linecolor": "white",
            "ticks": ""
           }
          },
          "title": {
           "x": 0.05
          },
          "xaxis": {
           "automargin": true,
           "gridcolor": "white",
           "linecolor": "white",
           "ticks": "",
           "title": {
            "standoff": 15
           },
           "zerolinecolor": "white",
           "zerolinewidth": 2
          },
          "yaxis": {
           "automargin": true,
           "gridcolor": "white",
           "linecolor": "white",
           "ticks": "",
           "title": {
            "standoff": 15
           },
           "zerolinecolor": "white",
           "zerolinewidth": 2
          }
         }
        },
        "title": {
         "x": 0.5
        },
        "width": 1200,
        "xaxis": {
         "color": "black",
         "linecolor": "black",
         "linewidth": 3,
         "mirror": true,
         "nticks": 5,
         "range": [
          -0.00125,
          0.01
         ],
         "showline": true,
         "tickfont": {
          "size": 40
         },
         "title": {
          "font": {
           "size": 40
          },
          "text": "PC1"
         }
        },
        "yaxis": {
         "color": "black",
         "linecolor": "black",
         "linewidth": 3,
         "mirror": true,
         "nticks": 6,
         "range": [
          -0.00255,
          0.004
         ],
         "showline": true,
         "tickfont": {
          "size": 40
         },
         "title": {
          "font": {
           "size": 40
          },
          "text": "PC2"
         }
        }
       }
      }
     },
     "metadata": {},
     "output_type": "display_data"
    }
   ],
   "source": [
    "import plotly.graph_objects as go\n",
    "fig = go.Figure()\n",
    "fig.add_trace(go.Scatter(x=X_PCA_df[X_PCA_df['label']=='known'][0], y=X_PCA_df[X_PCA_df['label']=='known'][1], \n",
    "                        mode='markers', name='Known', \n",
    "                        marker=dict(color='#59C3C3', size=20, line=dict(width=2, color='#000000')), \n",
    "                        text = X_PCA_df[X_PCA_df['label']=='known']['protein']))\n",
    "fig.add_trace(go.Scatter(x=X_PCA_df[X_PCA_df['label']=='candidate'][0], y=X_PCA_df[X_PCA_df['label']=='candidate'][1], \n",
    "                        mode='markers', name='Predicted', \n",
    "                        marker=dict(color='#FDA96D', size=20, line=dict(width=2, color='#000000')), \n",
    "                        text = X_PCA_df[X_PCA_df['label']=='candidate']['protein']))\n",
    "fig.update_layout(\n",
    "        yaxis_title_text='PC2',\n",
    "        xaxis_title_text='PC1',\n",
    "        height=1000,\n",
    "        width=1200,\n",
    "        title_x=0.5,\n",
    "        legend=dict(font=dict(size=40, color='black'), yanchor=\"bottom\", y=1.01, xanchor=\"right\", x=0.99, orientation='h'),\n",
    "        xaxis = dict(tickfont = dict(size=40), titlefont=dict(size=40), showline=True, linewidth=3, linecolor='black', mirror=True, color='black', nticks=5, range=[-0.00125,0.01]),\n",
    "        yaxis = dict(tickfont = dict(size=40), titlefont=dict(size=40), showline=True, linewidth=3, linecolor='black', mirror=True, color='black', nticks=6, range=[-0.00255, 0.004]),\n",
    "        paper_bgcolor='rgba(255,255,255,1)',\n",
    "        plot_bgcolor='rgba(255,255,255,1)',\n",
    "        margin=dict(l=20, r=20, t=25, b=20))\n",
    "fig.show()"
   ]
  },
  {
   "cell_type": "code",
   "execution_count": 42,
   "metadata": {},
   "outputs": [
    {
     "data": {
      "application/vnd.plotly.v1+json": {
       "config": {
        "plotlyServerURL": "https://plot.ly"
       },
       "data": [
        {
         "hoverinfo": "y+name",
         "line": {
          "width": 3
         },
         "marker": {
          "color": "rgb(0,116,217)"
         },
         "mode": "lines",
         "name": "Col Cluster 0",
         "type": "scatter",
         "x": [
          31.875,
          31.875,
          74.375,
          74.375
         ],
         "xaxis": "x3",
         "y": [
          0.000903217204386488,
          0.0029536200547255376,
          0.0029536200547255376,
          0.0017943142112708083
         ],
         "yaxis": "y3"
        },
        {
         "hoverinfo": "y+name",
         "line": {
          "width": 3
         },
         "marker": {
          "color": "rgb(0,116,217)"
         },
         "mode": "lines",
         "name": "Col Cluster 1",
         "type": "scatter",
         "x": [
          5,
          5,
          22.5,
          22.5
         ],
         "xaxis": "x3",
         "y": [
          0,
          1.4140799054911546e-16,
          1.4140799054911546e-16,
          1.4121640691719916e-16
         ],
         "yaxis": "y3"
        },
        {
         "hoverinfo": "y+name",
         "line": {
          "width": 3
         },
         "marker": {
          "color": "rgb(0,116,217)"
         },
         "mode": "lines",
         "name": "Col Cluster 2",
         "type": "scatter",
         "x": [
          13.75,
          13.75,
          50,
          50
         ],
         "xaxis": "x3",
         "y": [
          1.4140799054911546e-16,
          0.000903217204386488,
          0.000903217204386488,
          0.00019203013645794877
         ],
         "yaxis": "y3"
        },
        {
         "hoverinfo": "y+name",
         "line": {
          "width": 3
         },
         "marker": {
          "color": "rgb(0,116,217)"
         },
         "mode": "lines",
         "name": "Col Cluster 3",
         "type": "scatter",
         "x": [
          15,
          15,
          30,
          30
         ],
         "xaxis": "x3",
         "y": [
          0,
          1.4121640691719916e-16,
          1.4121640691719916e-16,
          0
         ],
         "yaxis": "y3"
        },
        {
         "hoverinfo": "y+name",
         "line": {
          "width": 3
         },
         "marker": {
          "color": "rgb(0,116,217)"
         },
         "mode": "lines",
         "name": "Col Cluster 4",
         "type": "scatter",
         "x": [
          25,
          25,
          35,
          35
         ],
         "xaxis": "x3",
         "y": [
          0,
          0,
          0,
          0
         ],
         "yaxis": "y3"
        },
        {
         "hoverinfo": "y+name",
         "line": {
          "width": 3
         },
         "marker": {
          "color": "rgb(0,116,217)"
         },
         "mode": "lines",
         "name": "Col Cluster 5",
         "type": "scatter",
         "x": [
          45,
          45,
          55,
          55
         ],
         "xaxis": "x3",
         "y": [
          0,
          0.00019203013645794877,
          0.00019203013645794877,
          0
         ],
         "yaxis": "y3"
        },
        {
         "hoverinfo": "y+name",
         "line": {
          "width": 3
         },
         "marker": {
          "color": "rgb(0,116,217)"
         },
         "mode": "lines",
         "name": "Col Cluster 6",
         "type": "scatter",
         "x": [
          65,
          65,
          83.75,
          83.75
         ],
         "xaxis": "x3",
         "y": [
          0,
          0.0017943142112708083,
          0.0017943142112708083,
          0.0008197670421662266
         ],
         "yaxis": "y3"
        },
        {
         "hoverinfo": "y+name",
         "line": {
          "width": 3
         },
         "marker": {
          "color": "rgb(0,116,217)"
         },
         "mode": "lines",
         "name": "Col Cluster 7",
         "type": "scatter",
         "x": [
          75,
          75,
          92.5,
          92.5
         ],
         "xaxis": "x3",
         "y": [
          0,
          0.0008197670421662266,
          0.0008197670421662266,
          0.0005171714143015883
         ],
         "yaxis": "y3"
        },
        {
         "hoverinfo": "y+name",
         "line": {
          "width": 3
         },
         "marker": {
          "color": "rgb(0,116,217)"
         },
         "mode": "lines",
         "name": "Col Cluster 8",
         "type": "scatter",
         "x": [
          85,
          85,
          100,
          100
         ],
         "xaxis": "x3",
         "y": [
          0,
          0.0005171714143015883,
          0.0005171714143015883,
          1.7320437656856445e-16
         ],
         "yaxis": "y3"
        },
        {
         "hoverinfo": "y+name",
         "line": {
          "width": 3
         },
         "marker": {
          "color": "rgb(0,116,217)"
         },
         "mode": "lines",
         "name": "Col Cluster 9",
         "type": "scatter",
         "x": [
          95,
          95,
          105,
          105
         ],
         "xaxis": "x3",
         "y": [
          0,
          1.7320437656856445e-16,
          1.7320437656856445e-16,
          0
         ],
         "yaxis": "y3"
        },
        {
         "hoverinfo": "x+name",
         "line": {
          "width": 3
         },
         "marker": {
          "color": "rgb(0,116,217)"
         },
         "mode": "lines",
         "name": "Row Cluster 0",
         "type": "scatter",
         "x": [
          0,
          -0.00014858745909241308,
          -0.00014858745909241308,
          0
         ],
         "xaxis": "x9",
         "y": [
          35,
          35,
          45,
          45
         ],
         "yaxis": "y9"
        },
        {
         "hoverinfo": "x+name",
         "line": {
          "width": 3
         },
         "marker": {
          "color": "rgb(0,116,217)"
         },
         "mode": "lines",
         "name": "Row Cluster 1",
         "type": "scatter",
         "x": [
          0,
          -0.0021901694060779773,
          -0.0021901694060779773,
          0
         ],
         "xaxis": "x9",
         "y": [
          125,
          125,
          135,
          135
         ],
         "yaxis": "y9"
        },
        {
         "hoverinfo": "x+name",
         "line": {
          "width": 3
         },
         "marker": {
          "color": "rgb(0,116,217)"
         },
         "mode": "lines",
         "name": "Row Cluster 2",
         "type": "scatter",
         "x": [
          0,
          -0.004398237053046741,
          -0.004398237053046741,
          -0.0021901694060779773
         ],
         "xaxis": "x9",
         "y": [
          115,
          115,
          130,
          130
         ],
         "yaxis": "y9"
        },
        {
         "hoverinfo": "x+name",
         "line": {
          "width": 3
         },
         "marker": {
          "color": "rgb(0,116,217)"
         },
         "mode": "lines",
         "name": "Row Cluster 3",
         "type": "scatter",
         "x": [
          0,
          -0.00048177398916588436,
          -0.00048177398916588436,
          0
         ],
         "xaxis": "x9",
         "y": [
          95,
          95,
          105,
          105
         ],
         "yaxis": "y9"
        },
        {
         "hoverinfo": "x+name",
         "line": {
          "width": 3
         },
         "marker": {
          "color": "rgb(0,116,217)"
         },
         "mode": "lines",
         "name": "Row Cluster 4",
         "type": "scatter",
         "x": [
          0,
          -0.0005783524349627648,
          -0.0005783524349627648,
          -0.00048177398916588436
         ],
         "xaxis": "x9",
         "y": [
          85,
          85,
          100,
          100
         ],
         "yaxis": "y9"
        },
        {
         "hoverinfo": "x+name",
         "line": {
          "width": 3
         },
         "marker": {
          "color": "rgb(0,116,217)"
         },
         "mode": "lines",
         "name": "Row Cluster 5",
         "type": "scatter",
         "x": [
          -0.0003294860390694779,
          -0.0009795015117947357,
          -0.0009795015117947357,
          -0.0005783524349627648
         ],
         "xaxis": "x9",
         "y": [
          70,
          70,
          92.5,
          92.5
         ],
         "yaxis": "y9"
        },
        {
         "hoverinfo": "x+name",
         "line": {
          "width": 3
         },
         "marker": {
          "color": "rgb(0,116,217)"
         },
         "mode": "lines",
         "name": "Row Cluster 6",
         "type": "scatter",
         "x": [
          0,
          -0.0003294860390694779,
          -0.0003294860390694779,
          0
         ],
         "xaxis": "x9",
         "y": [
          65,
          65,
          75,
          75
         ],
         "yaxis": "y9"
        },
        {
         "hoverinfo": "x+name",
         "line": {
          "width": 3
         },
         "marker": {
          "color": "rgb(0,116,217)"
         },
         "mode": "lines",
         "name": "Row Cluster 7",
         "type": "scatter",
         "x": [
          0,
          -0.0020057340845956633,
          -0.0020057340845956633,
          -0.0009795015117947357
         ],
         "xaxis": "x9",
         "y": [
          55,
          55,
          81.25,
          81.25
         ],
         "yaxis": "y9"
        },
        {
         "hoverinfo": "x+name",
         "line": {
          "width": 3
         },
         "marker": {
          "color": "rgb(0,116,217)"
         },
         "mode": "lines",
         "name": "Row Cluster 8",
         "type": "scatter",
         "x": [
          -0.0031712826055199025,
          -0.006895290483158835,
          -0.006895290483158835,
          -0.004398237053046741
         ],
         "xaxis": "x9",
         "y": [
          41.25,
          41.25,
          122.5,
          122.5
         ],
         "yaxis": "y9"
        },
        {
         "hoverinfo": "x+name",
         "line": {
          "width": 3
         },
         "marker": {
          "color": "rgb(0,116,217)"
         },
         "mode": "lines",
         "name": "Row Cluster 9",
         "type": "scatter",
         "x": [
          0,
          -0.0002712664111531851,
          -0.0002712664111531851,
          -0.00014858745909241308
         ],
         "xaxis": "x9",
         "y": [
          25,
          25,
          40,
          40
         ],
         "yaxis": "y9"
        },
        {
         "hoverinfo": "x+name",
         "line": {
          "width": 3
         },
         "marker": {
          "color": "rgb(0,116,217)"
         },
         "mode": "lines",
         "name": "Row Cluster 10",
         "type": "scatter",
         "x": [
          0,
          -0.0005226353340854618,
          -0.0005226353340854618,
          -0.0002712664111531851
         ],
         "xaxis": "x9",
         "y": [
          15,
          15,
          32.5,
          32.5
         ],
         "yaxis": "y9"
        },
        {
         "hoverinfo": "x+name",
         "line": {
          "width": 3
         },
         "marker": {
          "color": "rgb(0,116,217)"
         },
         "mode": "lines",
         "name": "Row Cluster 11",
         "type": "scatter",
         "x": [
          -0.0009233616766635419,
          -0.0031712826055199025,
          -0.0031712826055199025,
          -0.0020057340845956633
         ],
         "xaxis": "x9",
         "y": [
          14.375,
          14.375,
          68.125,
          68.125
         ],
         "yaxis": "y9"
        },
        {
         "hoverinfo": "x+name",
         "line": {
          "width": 3
         },
         "marker": {
          "color": "rgb(0,116,217)"
         },
         "mode": "lines",
         "name": "Row Cluster 12",
         "type": "scatter",
         "x": [
          0,
          -0.0009233616766635419,
          -0.0009233616766635419,
          -0.0005226353340854618
         ],
         "xaxis": "x9",
         "y": [
          5,
          5,
          23.75,
          23.75
         ],
         "yaxis": "y9"
        },
        {
         "colorbar": {
          "xpad": 100
         },
         "colorscale": [
          [
           0,
           "#0d0887"
          ],
          [
           0.1111111111111111,
           "#46039f"
          ],
          [
           0.2222222222222222,
           "#7201a8"
          ],
          [
           0.3333333333333333,
           "#9c179e"
          ],
          [
           0.4444444444444444,
           "#bd3786"
          ],
          [
           0.5555555555555556,
           "#d8576b"
          ],
          [
           0.6666666666666666,
           "#ed7953"
          ],
          [
           0.7777777777777778,
           "#fb9f3a"
          ],
          [
           0.8888888888888888,
           "#fdca26"
          ],
          [
           1,
           "#f0f921"
          ]
         ],
         "type": "heatmap",
         "x": [
          5,
          15,
          25,
          35,
          45,
          55,
          65,
          75,
          85,
          95,
          105
         ],
         "xaxis": "x11",
         "y": [
          5,
          15,
          25,
          35,
          45,
          55,
          65,
          75,
          85,
          95,
          105,
          115,
          125,
          135
         ],
         "yaxis": "y11",
         "z": [
          [
           -0.0005278625333831488,
           -0.0005278625333831488,
           -0.0005278625333831488,
           -0.0005278625333831488,
           -0.0004806585941002488,
           -0.0004778480940632488,
           -0.0007606188228587488,
           -0.0003549317705976488,
           -0.0007607733584418489,
           -0.0008179469507204488,
           -0.0008179469507204488
          ],
          [
           -0.0005890283144573487,
           -0.0005890283144573487,
           -0.0005890283144573487,
           -0.0005890283144573487,
           -0.0005573413562577488,
           -0.0005561644084707488,
           -0.0003979462417192488,
           -0.0002442296857285488,
           -0.0005220953803317487,
           -0.0005777740453366488,
           -0.0005777740453366488
          ],
          [
           -0.0004843040841815488,
           -0.0004843040841815488,
           -0.0004843040841815488,
           -0.0004843040841815488,
           -0.00030824055694564877,
           -0.0004604165364338488,
           -0.0003728302995175488,
           -0.00024150784782124882,
           -0.00036774542087384884,
           -0.00031931897898014876,
           -0.0003193189789800488
          ],
          [
           -0.0004983357937855487,
           -0.0004983357937856488,
           -0.0004983357937856488,
           -0.0004983357937856488,
           -0.0005312599513856487,
           -0.0005279915117353488,
           -0.00038900033606834885,
           -0.00023796236999134885,
           -0.00036921696366764884,
           -0.0003673079469493488,
           -0.0003673079469493488
          ],
          [
           -0.0004977202070821488,
           -0.0004977202070821488,
           -0.0004977202070821488,
           -0.0004977202070821488,
           -0.0005156578370390488,
           -0.0005188220860769488,
           -0.00042911273611594884,
           -0.00014474032567974877,
           -0.0004746653706081488,
           -0.00035445313922824885,
           -0.0003544531392283488
          ],
          [
           0.00022560061968245114,
           0.00022560061968245114,
           0.00022560061968245114,
           0.00022560061968245114,
           0.0002359713252584511,
           0.0002676937262226512,
           0.00033130871584905114,
           0.0003853826175889513,
           0.0005094557247332512,
           0.0004787724402734512,
           0.0004787724402734512
          ],
          [
           -0.00033562770015974877,
           -0.00033562770015974877,
           -0.00033562770015974877,
           -0.00033562770015974877,
           -0.00029913519683514884,
           -0.00026889976740394883,
           -0.00026576922849094883,
           -0.0001354806066840488,
           -0.0001908711831771488,
           -0.00025284576438894875,
           -0.0002528457643890488
          ],
          [
           -0.00019681699395324875,
           -0.00019681699395324875,
           -0.00019681699395324875,
           -0.00019681699395324875,
           -0.00027911418067674875,
           -0.00026111771313574875,
           -0.00032608519407314877,
           -0.00015378622385174882,
           -0.0001925049624640488,
           -0.0003691432692979488,
           -0.0003691432692979488
          ],
          [
           -0.00003911064500954878,
           -0.00003911064500954878,
           -0.00003911064500964874,
           -0.00003911064500964874,
           -0.0001621712509540488,
           -0.00013555599371534882,
           -0.00019218337328564877,
           0.00033519836454205126,
           -0.00007205801092054881,
           0.0001534324218536513,
           0.0001534324218536513
          ],
          [
           -0.00016029552708714874,
           -0.00016029552708714874,
           -0.00016029552708714874,
           -0.00016029552708714874,
           -0.0002015658255868488,
           -0.0002026031680233488,
           -0.00003232086650564877,
           0.00008277747752725116,
           -0.000047192483338748844,
           -0.00014640967043854877,
           -0.00014640967043854877
          ],
          [
           -0.00011548839064264883,
           -0.00011548839064264883,
           -0.00011548839064264883,
           -0.00011548839064264883,
           -0.00006079917922754876,
           -0.000032605357510048804,
           0.0000400019193698512,
           0.00016791346897875113,
           0.00028851661262765114,
           0.000011991142237751241,
           0.000011991142237751241
          ],
          [
           0.0007123317776366512,
           0.0007123317776366512,
           0.0007123317776366512,
           0.0007123317776366512,
           0.00038838770630885116,
           0.00032333838505475127,
           0.002120057904359751,
           0.0006569115962809512,
           0.0005663895491644513,
           0.00042072963727995125,
           0.00042072963727995125
          ],
          [
           0.002313576623318651,
           0.002313576623318551,
           0.002313576623318651,
           0.002313576623318651,
           0.0018148728486652513,
           0.001885054570320151,
           0.00007712688641905118,
           0.0001888832207132511,
           0.00015919185142845122,
           0.0002529440935415513,
           0.0002529440935415513
          ],
          [
           0.001504976097255951,
           0.001504976097255951,
           0.001504976097255951,
           0.001504976097255951,
           0.0008737316429004513,
           0.0008457589294371511,
           0.0002704944296514513,
           0.00015767786845435124,
           0.0001580992179319511,
           -0.00004475929184774878,
           -0.00004475929184774878
          ]
         ]
        }
       ],
       "layout": {
        "height": 1000,
        "hovermode": "closest",
        "legend": {
         "x": 0.7,
         "y": 0.7
        },
        "paper_bgcolor": "#FFFFFF",
        "plot_bgcolor": "rgba(0,0,0,0)",
        "showlegend": false,
        "template": {
         "data": {
          "bar": [
           {
            "error_x": {
             "color": "#2a3f5f"
            },
            "error_y": {
             "color": "#2a3f5f"
            },
            "marker": {
             "line": {
              "color": "#E5ECF6",
              "width": 0.5
             },
             "pattern": {
              "fillmode": "overlay",
              "size": 10,
              "solidity": 0.2
             }
            },
            "type": "bar"
           }
          ],
          "barpolar": [
           {
            "marker": {
             "line": {
              "color": "#E5ECF6",
              "width": 0.5
             },
             "pattern": {
              "fillmode": "overlay",
              "size": 10,
              "solidity": 0.2
             }
            },
            "type": "barpolar"
           }
          ],
          "carpet": [
           {
            "aaxis": {
             "endlinecolor": "#2a3f5f",
             "gridcolor": "white",
             "linecolor": "white",
             "minorgridcolor": "white",
             "startlinecolor": "#2a3f5f"
            },
            "baxis": {
             "endlinecolor": "#2a3f5f",
             "gridcolor": "white",
             "linecolor": "white",
             "minorgridcolor": "white",
             "startlinecolor": "#2a3f5f"
            },
            "type": "carpet"
           }
          ],
          "choropleth": [
           {
            "colorbar": {
             "outlinewidth": 0,
             "ticks": ""
            },
            "type": "choropleth"
           }
          ],
          "contour": [
           {
            "colorbar": {
             "outlinewidth": 0,
             "ticks": ""
            },
            "colorscale": [
             [
              0,
              "#0d0887"
             ],
             [
              0.1111111111111111,
              "#46039f"
             ],
             [
              0.2222222222222222,
              "#7201a8"
             ],
             [
              0.3333333333333333,
              "#9c179e"
             ],
             [
              0.4444444444444444,
              "#bd3786"
             ],
             [
              0.5555555555555556,
              "#d8576b"
             ],
             [
              0.6666666666666666,
              "#ed7953"
             ],
             [
              0.7777777777777778,
              "#fb9f3a"
             ],
             [
              0.8888888888888888,
              "#fdca26"
             ],
             [
              1,
              "#f0f921"
             ]
            ],
            "type": "contour"
           }
          ],
          "contourcarpet": [
           {
            "colorbar": {
             "outlinewidth": 0,
             "ticks": ""
            },
            "type": "contourcarpet"
           }
          ],
          "heatmap": [
           {
            "colorbar": {
             "outlinewidth": 0,
             "ticks": ""
            },
            "colorscale": [
             [
              0,
              "#0d0887"
             ],
             [
              0.1111111111111111,
              "#46039f"
             ],
             [
              0.2222222222222222,
              "#7201a8"
             ],
             [
              0.3333333333333333,
              "#9c179e"
             ],
             [
              0.4444444444444444,
              "#bd3786"
             ],
             [
              0.5555555555555556,
              "#d8576b"
             ],
             [
              0.6666666666666666,
              "#ed7953"
             ],
             [
              0.7777777777777778,
              "#fb9f3a"
             ],
             [
              0.8888888888888888,
              "#fdca26"
             ],
             [
              1,
              "#f0f921"
             ]
            ],
            "type": "heatmap"
           }
          ],
          "heatmapgl": [
           {
            "colorbar": {
             "outlinewidth": 0,
             "ticks": ""
            },
            "colorscale": [
             [
              0,
              "#0d0887"
             ],
             [
              0.1111111111111111,
              "#46039f"
             ],
             [
              0.2222222222222222,
              "#7201a8"
             ],
             [
              0.3333333333333333,
              "#9c179e"
             ],
             [
              0.4444444444444444,
              "#bd3786"
             ],
             [
              0.5555555555555556,
              "#d8576b"
             ],
             [
              0.6666666666666666,
              "#ed7953"
             ],
             [
              0.7777777777777778,
              "#fb9f3a"
             ],
             [
              0.8888888888888888,
              "#fdca26"
             ],
             [
              1,
              "#f0f921"
             ]
            ],
            "type": "heatmapgl"
           }
          ],
          "histogram": [
           {
            "marker": {
             "pattern": {
              "fillmode": "overlay",
              "size": 10,
              "solidity": 0.2
             }
            },
            "type": "histogram"
           }
          ],
          "histogram2d": [
           {
            "colorbar": {
             "outlinewidth": 0,
             "ticks": ""
            },
            "colorscale": [
             [
              0,
              "#0d0887"
             ],
             [
              0.1111111111111111,
              "#46039f"
             ],
             [
              0.2222222222222222,
              "#7201a8"
             ],
             [
              0.3333333333333333,
              "#9c179e"
             ],
             [
              0.4444444444444444,
              "#bd3786"
             ],
             [
              0.5555555555555556,
              "#d8576b"
             ],
             [
              0.6666666666666666,
              "#ed7953"
             ],
             [
              0.7777777777777778,
              "#fb9f3a"
             ],
             [
              0.8888888888888888,
              "#fdca26"
             ],
             [
              1,
              "#f0f921"
             ]
            ],
            "type": "histogram2d"
           }
          ],
          "histogram2dcontour": [
           {
            "colorbar": {
             "outlinewidth": 0,
             "ticks": ""
            },
            "colorscale": [
             [
              0,
              "#0d0887"
             ],
             [
              0.1111111111111111,
              "#46039f"
             ],
             [
              0.2222222222222222,
              "#7201a8"
             ],
             [
              0.3333333333333333,
              "#9c179e"
             ],
             [
              0.4444444444444444,
              "#bd3786"
             ],
             [
              0.5555555555555556,
              "#d8576b"
             ],
             [
              0.6666666666666666,
              "#ed7953"
             ],
             [
              0.7777777777777778,
              "#fb9f3a"
             ],
             [
              0.8888888888888888,
              "#fdca26"
             ],
             [
              1,
              "#f0f921"
             ]
            ],
            "type": "histogram2dcontour"
           }
          ],
          "mesh3d": [
           {
            "colorbar": {
             "outlinewidth": 0,
             "ticks": ""
            },
            "type": "mesh3d"
           }
          ],
          "parcoords": [
           {
            "line": {
             "colorbar": {
              "outlinewidth": 0,
              "ticks": ""
             }
            },
            "type": "parcoords"
           }
          ],
          "pie": [
           {
            "automargin": true,
            "type": "pie"
           }
          ],
          "scatter": [
           {
            "fillpattern": {
             "fillmode": "overlay",
             "size": 10,
             "solidity": 0.2
            },
            "type": "scatter"
           }
          ],
          "scatter3d": [
           {
            "line": {
             "colorbar": {
              "outlinewidth": 0,
              "ticks": ""
             }
            },
            "marker": {
             "colorbar": {
              "outlinewidth": 0,
              "ticks": ""
             }
            },
            "type": "scatter3d"
           }
          ],
          "scattercarpet": [
           {
            "marker": {
             "colorbar": {
              "outlinewidth": 0,
              "ticks": ""
             }
            },
            "type": "scattercarpet"
           }
          ],
          "scattergeo": [
           {
            "marker": {
             "colorbar": {
              "outlinewidth": 0,
              "ticks": ""
             }
            },
            "type": "scattergeo"
           }
          ],
          "scattergl": [
           {
            "marker": {
             "colorbar": {
              "outlinewidth": 0,
              "ticks": ""
             }
            },
            "type": "scattergl"
           }
          ],
          "scattermapbox": [
           {
            "marker": {
             "colorbar": {
              "outlinewidth": 0,
              "ticks": ""
             }
            },
            "type": "scattermapbox"
           }
          ],
          "scatterpolar": [
           {
            "marker": {
             "colorbar": {
              "outlinewidth": 0,
              "ticks": ""
             }
            },
            "type": "scatterpolar"
           }
          ],
          "scatterpolargl": [
           {
            "marker": {
             "colorbar": {
              "outlinewidth": 0,
              "ticks": ""
             }
            },
            "type": "scatterpolargl"
           }
          ],
          "scatterternary": [
           {
            "marker": {
             "colorbar": {
              "outlinewidth": 0,
              "ticks": ""
             }
            },
            "type": "scatterternary"
           }
          ],
          "surface": [
           {
            "colorbar": {
             "outlinewidth": 0,
             "ticks": ""
            },
            "colorscale": [
             [
              0,
              "#0d0887"
             ],
             [
              0.1111111111111111,
              "#46039f"
             ],
             [
              0.2222222222222222,
              "#7201a8"
             ],
             [
              0.3333333333333333,
              "#9c179e"
             ],
             [
              0.4444444444444444,
              "#bd3786"
             ],
             [
              0.5555555555555556,
              "#d8576b"
             ],
             [
              0.6666666666666666,
              "#ed7953"
             ],
             [
              0.7777777777777778,
              "#fb9f3a"
             ],
             [
              0.8888888888888888,
              "#fdca26"
             ],
             [
              1,
              "#f0f921"
             ]
            ],
            "type": "surface"
           }
          ],
          "table": [
           {
            "cells": {
             "fill": {
              "color": "#EBF0F8"
             },
             "line": {
              "color": "white"
             }
            },
            "header": {
             "fill": {
              "color": "#C8D4E3"
             },
             "line": {
              "color": "white"
             }
            },
            "type": "table"
           }
          ]
         },
         "layout": {
          "annotationdefaults": {
           "arrowcolor": "#2a3f5f",
           "arrowhead": 0,
           "arrowwidth": 1
          },
          "autotypenumbers": "strict",
          "coloraxis": {
           "colorbar": {
            "outlinewidth": 0,
            "ticks": ""
           }
          },
          "colorscale": {
           "diverging": [
            [
             0,
             "#8e0152"
            ],
            [
             0.1,
             "#c51b7d"
            ],
            [
             0.2,
             "#de77ae"
            ],
            [
             0.3,
             "#f1b6da"
            ],
            [
             0.4,
             "#fde0ef"
            ],
            [
             0.5,
             "#f7f7f7"
            ],
            [
             0.6,
             "#e6f5d0"
            ],
            [
             0.7,
             "#b8e186"
            ],
            [
             0.8,
             "#7fbc41"
            ],
            [
             0.9,
             "#4d9221"
            ],
            [
             1,
             "#276419"
            ]
           ],
           "sequential": [
            [
             0,
             "#0d0887"
            ],
            [
             0.1111111111111111,
             "#46039f"
            ],
            [
             0.2222222222222222,
             "#7201a8"
            ],
            [
             0.3333333333333333,
             "#9c179e"
            ],
            [
             0.4444444444444444,
             "#bd3786"
            ],
            [
             0.5555555555555556,
             "#d8576b"
            ],
            [
             0.6666666666666666,
             "#ed7953"
            ],
            [
             0.7777777777777778,
             "#fb9f3a"
            ],
            [
             0.8888888888888888,
             "#fdca26"
            ],
            [
             1,
             "#f0f921"
            ]
           ],
           "sequentialminus": [
            [
             0,
             "#0d0887"
            ],
            [
             0.1111111111111111,
             "#46039f"
            ],
            [
             0.2222222222222222,
             "#7201a8"
            ],
            [
             0.3333333333333333,
             "#9c179e"
            ],
            [
             0.4444444444444444,
             "#bd3786"
            ],
            [
             0.5555555555555556,
             "#d8576b"
            ],
            [
             0.6666666666666666,
             "#ed7953"
            ],
            [
             0.7777777777777778,
             "#fb9f3a"
            ],
            [
             0.8888888888888888,
             "#fdca26"
            ],
            [
             1,
             "#f0f921"
            ]
           ]
          },
          "colorway": [
           "#636efa",
           "#EF553B",
           "#00cc96",
           "#ab63fa",
           "#FFA15A",
           "#19d3f3",
           "#FF6692",
           "#B6E880",
           "#FF97FF",
           "#FECB52"
          ],
          "font": {
           "color": "#2a3f5f"
          },
          "geo": {
           "bgcolor": "white",
           "lakecolor": "white",
           "landcolor": "#E5ECF6",
           "showlakes": true,
           "showland": true,
           "subunitcolor": "white"
          },
          "hoverlabel": {
           "align": "left"
          },
          "hovermode": "closest",
          "mapbox": {
           "style": "light"
          },
          "paper_bgcolor": "white",
          "plot_bgcolor": "#E5ECF6",
          "polar": {
           "angularaxis": {
            "gridcolor": "white",
            "linecolor": "white",
            "ticks": ""
           },
           "bgcolor": "#E5ECF6",
           "radialaxis": {
            "gridcolor": "white",
            "linecolor": "white",
            "ticks": ""
           }
          },
          "scene": {
           "xaxis": {
            "backgroundcolor": "#E5ECF6",
            "gridcolor": "white",
            "gridwidth": 2,
            "linecolor": "white",
            "showbackground": true,
            "ticks": "",
            "zerolinecolor": "white"
           },
           "yaxis": {
            "backgroundcolor": "#E5ECF6",
            "gridcolor": "white",
            "gridwidth": 2,
            "linecolor": "white",
            "showbackground": true,
            "ticks": "",
            "zerolinecolor": "white"
           },
           "zaxis": {
            "backgroundcolor": "#E5ECF6",
            "gridcolor": "white",
            "gridwidth": 2,
            "linecolor": "white",
            "showbackground": true,
            "ticks": "",
            "zerolinecolor": "white"
           }
          },
          "shapedefaults": {
           "line": {
            "color": "#2a3f5f"
           }
          },
          "ternary": {
           "aaxis": {
            "gridcolor": "white",
            "linecolor": "white",
            "ticks": ""
           },
           "baxis": {
            "gridcolor": "white",
            "linecolor": "white",
            "ticks": ""
           },
           "bgcolor": "#E5ECF6",
           "caxis": {
            "gridcolor": "white",
            "linecolor": "white",
            "ticks": ""
           }
          },
          "title": {
           "x": 0.05
          },
          "xaxis": {
           "automargin": true,
           "gridcolor": "white",
           "linecolor": "white",
           "ticks": "",
           "title": {
            "standoff": 15
           },
           "zerolinecolor": "white",
           "zerolinewidth": 2
          },
          "yaxis": {
           "automargin": true,
           "gridcolor": "white",
           "linecolor": "white",
           "ticks": "",
           "title": {
            "standoff": 15
           },
           "zerolinecolor": "white",
           "zerolinewidth": 2
          }
         }
        },
        "width": 1500,
        "xaxis": {
         "anchor": "y",
         "domain": [
          0,
          0.95
         ],
         "fixedrange": false,
         "mirror": false,
         "showgrid": false,
         "showline": false,
         "showticklabels": false,
         "type": "linear",
         "zeroline": false
        },
        "xaxis10": {
         "anchor": "y10",
         "domain": [
          0.19,
          0.19
         ],
         "fixedrange": false,
         "mirror": false,
         "showgrid": false,
         "showline": false,
         "showticklabels": false,
         "type": "linear",
         "zeroline": false
        },
        "xaxis11": {
         "anchor": "y11",
         "domain": [
          0.19,
          0.95
         ],
         "fixedrange": false,
         "mirror": false,
         "range": [
          0,
          110
         ],
         "showgrid": false,
         "showline": false,
         "showticklabels": true,
         "side": "bottom",
         "tickfont": {
          "size": 30
         },
         "tickmode": "array",
         "ticktext": [
          "C3714636",
          "C0032285",
          "C0887898",
          "C0032300",
          "C0020517",
          "C1527304",
          "C0021368",
          "C0003873",
          "C0345967",
          "C1563937",
          "C0004153"
         ],
         "tickvals": [
          5,
          15,
          25,
          35,
          45,
          55,
          65,
          75,
          85,
          95,
          105
         ],
         "type": "linear",
         "zeroline": false
        },
        "xaxis12": {
         "anchor": "y12",
         "domain": [
          0.95,
          1
         ],
         "fixedrange": false,
         "mirror": false,
         "range": [
          -5,
          1
         ],
         "showgrid": false,
         "showline": false,
         "showticklabels": false,
         "type": "linear",
         "zeroline": false
        },
        "xaxis13": {
         "anchor": "y13",
         "domain": [
          0,
          0.2
         ]
        },
        "xaxis14": {
         "anchor": "y14",
         "domain": [
          0.2,
          0.4
         ]
        },
        "xaxis15": {
         "anchor": "y15",
         "domain": [
          0.19,
          0.95
         ],
         "fixedrange": false,
         "mirror": false,
         "range": [
          5,
          105
         ],
         "scaleanchor": "x11",
         "scaleratio": 1,
         "showgrid": false,
         "showline": false,
         "showticklabels": false,
         "type": "linear",
         "zeroline": false
        },
        "xaxis16": {
         "anchor": "y16",
         "domain": [
          0.8,
          1
         ]
        },
        "xaxis2": {
         "anchor": "y2",
         "domain": [
          0.2,
          0.4
         ]
        },
        "xaxis3": {
         "anchor": "y9",
         "domain": [
          0.19,
          0.95
         ],
         "fixedrange": false,
         "mirror": false,
         "scaleanchor": "x11",
         "showgrid": false,
         "showline": false,
         "showticklabels": false,
         "type": "linear",
         "zeroline": false
        },
        "xaxis4": {
         "anchor": "y4",
         "domain": [
          0.8,
          1
         ]
        },
        "xaxis5": {
         "anchor": "y5",
         "domain": [
          0,
          0.95
         ],
         "fixedrange": false,
         "mirror": false,
         "showgrid": false,
         "showline": false,
         "showticklabels": false,
         "type": "linear",
         "zeroline": false
        },
        "xaxis6": {
         "anchor": "y6",
         "domain": [
          0.2,
          0.4
         ],
         "fixedrange": false,
         "mirror": false,
         "showgrid": false,
         "showline": false,
         "showticklabels": false,
         "type": "linear",
         "zeroline": false
        },
        "xaxis7": {
         "anchor": "y9",
         "domain": [
          0.19,
          0.95
         ],
         "fixedrange": false,
         "mirror": false,
         "showgrid": false,
         "showline": false,
         "showticklabels": false,
         "type": "linear",
         "zeroline": false
        },
        "xaxis8": {
         "anchor": "y8",
         "domain": [
          0.8,
          1
         ]
        },
        "xaxis9": {
         "anchor": "y9",
         "domain": [
          0,
          0.19
         ],
         "fixedrange": false,
         "mirror": false,
         "showgrid": false,
         "showline": false,
         "showticklabels": false,
         "type": "linear",
         "zeroline": false
        },
        "yaxis": {
         "anchor": "x",
         "domain": [
          0.81,
          1
         ],
         "fixedrange": false,
         "mirror": false,
         "showgrid": false,
         "showline": false,
         "showticklabels": false,
         "type": "linear",
         "zeroline": false
        },
        "yaxis10": {
         "anchor": "x10",
         "domain": [
          0,
          0.81
         ],
         "fixedrange": false,
         "mirror": false,
         "showgrid": false,
         "showline": false,
         "showticklabels": false,
         "type": "linear",
         "zeroline": false
        },
        "yaxis11": {
         "anchor": "x11",
         "domain": [
          0,
          0.81
         ],
         "fixedrange": false,
         "mirror": false,
         "showgrid": false,
         "showline": false,
         "showticklabels": true,
         "side": "right",
         "tickfont": {
          "size": 30
         },
         "tickmode": "array",
         "ticktext": [
          "BMPR1A",
          "VHL",
          "FYN",
          "HDAC1",
          "MDFI",
          "CUL3",
          "SNW1",
          "TRAF2",
          "NEK4",
          "HSP90AB1",
          "MYC",
          "HTT",
          "COPS5",
          "MEOX2"
         ],
         "tickvals": [
          5,
          15,
          25,
          35,
          45,
          55,
          65,
          75,
          85,
          95,
          105,
          115,
          125,
          135
         ],
         "type": "linear",
         "zeroline": false
        },
        "yaxis12": {
         "anchor": "x12",
         "domain": [
          0,
          0.76
         ],
         "fixedrange": false,
         "mirror": false,
         "range": [
          5,
          135
         ],
         "scaleanchor": "y11",
         "scaleratio": 1,
         "showgrid": false,
         "showline": false,
         "showticklabels": false,
         "type": "linear",
         "zeroline": false
        },
        "yaxis13": {
         "anchor": "x13",
         "domain": [
          0,
          0.2
         ]
        },
        "yaxis14": {
         "anchor": "x14",
         "domain": [
          0,
          0.2
         ]
        },
        "yaxis15": {
         "anchor": "x15",
         "domain": [
          0.76,
          0.81
         ],
         "fixedrange": false,
         "mirror": false,
         "range": [
          -0.5,
          0.5
         ],
         "showgrid": false,
         "showline": false,
         "showticklabels": false,
         "type": "linear",
         "zeroline": false
        },
        "yaxis16": {
         "anchor": "x16",
         "domain": [
          0,
          0.2
         ]
        },
        "yaxis2": {
         "anchor": "x2",
         "domain": [
          0.8,
          1
         ]
        },
        "yaxis3": {
         "anchor": "x3",
         "domain": [
          0.81,
          1
         ],
         "fixedrange": false,
         "mirror": false,
         "range": [
          0,
          0.0029536200547255376
         ],
         "showgrid": false,
         "showline": false,
         "showticklabels": false,
         "type": "linear",
         "zeroline": false
        },
        "yaxis4": {
         "anchor": "x4",
         "domain": [
          0.8,
          1
         ]
        },
        "yaxis5": {
         "anchor": "x5",
         "domain": [
          0.81,
          0.81
         ],
         "fixedrange": false,
         "mirror": false,
         "showgrid": false,
         "showline": false,
         "showticklabels": false,
         "type": "linear",
         "zeroline": false
        },
        "yaxis6": {
         "anchor": "x6",
         "domain": [
          0.81,
          0.81
         ],
         "fixedrange": false,
         "mirror": false,
         "showgrid": false,
         "showline": false,
         "showticklabels": false,
         "type": "linear",
         "zeroline": false
        },
        "yaxis7": {
         "anchor": "x7",
         "domain": [
          0.81,
          0.81
         ],
         "fixedrange": false,
         "mirror": false,
         "showgrid": false,
         "showline": false,
         "showticklabels": false,
         "type": "linear",
         "zeroline": false
        },
        "yaxis8": {
         "anchor": "x8",
         "domain": [
          0.6000000000000001,
          0.8
         ]
        },
        "yaxis9": {
         "anchor": "x9",
         "domain": [
          0,
          0.81
         ],
         "fixedrange": false,
         "mirror": false,
         "range": [
          5,
          135
         ],
         "scaleanchor": "y11",
         "showgrid": false,
         "showline": false,
         "showticklabels": false,
         "type": "linear",
         "zeroline": false
        }
       }
      }
     },
     "metadata": {},
     "output_type": "display_data"
    }
   ],
   "source": [
    "import dash_bio\n",
    "\n",
    "df = disease_rwr_scores[disease_rwr_scores.index.isin(new_proteins)][selected_diseases]\n",
    "dash_bio.Clustergram(\n",
    "    data=df,\n",
    "    column_labels=list(df.columns.values),\n",
    "    row_labels=list(df.index),\n",
    "    height=1000,\n",
    "    width=1500, color_map ='plasma', display_range=(0.00083, 0.002583),\n",
    "    display_ratio = [0.25, 0.25], paper_bg_color='#FFFFFF', line_width=3, link_method='complete', link_fun=None, annotation_font=dict(size=30), tick_font=dict(size=30)\n",
    ")"
   ]
  },
  {
   "cell_type": "code",
   "execution_count": 44,
   "metadata": {},
   "outputs": [],
   "source": [
    "from Bio import Entrez\n",
    "gene_pmid = {}\n",
    "for gene in new_proteins:\n",
    "    Entrez.email = \"alexfrcoelho@gmail.com\"\n",
    "    handle = Entrez.esearch(\n",
    "        db='pubmed',\n",
    "        term=f'({gene}) AND (rheumatoid AND arthritis)',\n",
    "        field='Title/Abstract',\n",
    "        RetMax=1000\n",
    "    )\n",
    "    record = Entrez.read(handle)\n",
    "    gene_pmid[gene] = record[\"IdList\"]\n",
    "    handle.close()"
   ]
  },
  {
   "cell_type": "code",
   "execution_count": 46,
   "metadata": {},
   "outputs": [
    {
     "data": {
      "application/vnd.plotly.v1+json": {
       "config": {
        "plotlyServerURL": "https://plot.ly"
       },
       "data": [
        {
         "marker": {
          "color": "#59C3C3"
         },
         "type": "bar",
         "x": [
          "BMPR1A",
          "COPS5",
          "CUL3",
          "FYN",
          "HDAC1",
          "HSP90AB1",
          "HTT",
          "MDFI",
          "MEOX2",
          "MYC",
          "NEK4",
          "SNW1",
          "TRAF2",
          "VHL"
         ],
         "y": [
          0,
          0,
          2,
          19,
          19,
          2,
          2,
          0,
          3,
          80,
          0,
          2,
          18,
          0
         ]
        }
       ],
       "layout": {
        "height": 1000,
        "margin": {
         "b": 20,
         "l": 20,
         "r": 20,
         "t": 25
        },
        "paper_bgcolor": "rgba(255,255,255,1)",
        "plot_bgcolor": "rgba(255,255,255,1)",
        "template": {
         "data": {
          "bar": [
           {
            "error_x": {
             "color": "#2a3f5f"
            },
            "error_y": {
             "color": "#2a3f5f"
            },
            "marker": {
             "line": {
              "color": "#E5ECF6",
              "width": 0.5
             },
             "pattern": {
              "fillmode": "overlay",
              "size": 10,
              "solidity": 0.2
             }
            },
            "type": "bar"
           }
          ],
          "barpolar": [
           {
            "marker": {
             "line": {
              "color": "#E5ECF6",
              "width": 0.5
             },
             "pattern": {
              "fillmode": "overlay",
              "size": 10,
              "solidity": 0.2
             }
            },
            "type": "barpolar"
           }
          ],
          "carpet": [
           {
            "aaxis": {
             "endlinecolor": "#2a3f5f",
             "gridcolor": "white",
             "linecolor": "white",
             "minorgridcolor": "white",
             "startlinecolor": "#2a3f5f"
            },
            "baxis": {
             "endlinecolor": "#2a3f5f",
             "gridcolor": "white",
             "linecolor": "white",
             "minorgridcolor": "white",
             "startlinecolor": "#2a3f5f"
            },
            "type": "carpet"
           }
          ],
          "choropleth": [
           {
            "colorbar": {
             "outlinewidth": 0,
             "ticks": ""
            },
            "type": "choropleth"
           }
          ],
          "contour": [
           {
            "colorbar": {
             "outlinewidth": 0,
             "ticks": ""
            },
            "colorscale": [
             [
              0,
              "#0d0887"
             ],
             [
              0.1111111111111111,
              "#46039f"
             ],
             [
              0.2222222222222222,
              "#7201a8"
             ],
             [
              0.3333333333333333,
              "#9c179e"
             ],
             [
              0.4444444444444444,
              "#bd3786"
             ],
             [
              0.5555555555555556,
              "#d8576b"
             ],
             [
              0.6666666666666666,
              "#ed7953"
             ],
             [
              0.7777777777777778,
              "#fb9f3a"
             ],
             [
              0.8888888888888888,
              "#fdca26"
             ],
             [
              1,
              "#f0f921"
             ]
            ],
            "type": "contour"
           }
          ],
          "contourcarpet": [
           {
            "colorbar": {
             "outlinewidth": 0,
             "ticks": ""
            },
            "type": "contourcarpet"
           }
          ],
          "heatmap": [
           {
            "colorbar": {
             "outlinewidth": 0,
             "ticks": ""
            },
            "colorscale": [
             [
              0,
              "#0d0887"
             ],
             [
              0.1111111111111111,
              "#46039f"
             ],
             [
              0.2222222222222222,
              "#7201a8"
             ],
             [
              0.3333333333333333,
              "#9c179e"
             ],
             [
              0.4444444444444444,
              "#bd3786"
             ],
             [
              0.5555555555555556,
              "#d8576b"
             ],
             [
              0.6666666666666666,
              "#ed7953"
             ],
             [
              0.7777777777777778,
              "#fb9f3a"
             ],
             [
              0.8888888888888888,
              "#fdca26"
             ],
             [
              1,
              "#f0f921"
             ]
            ],
            "type": "heatmap"
           }
          ],
          "heatmapgl": [
           {
            "colorbar": {
             "outlinewidth": 0,
             "ticks": ""
            },
            "colorscale": [
             [
              0,
              "#0d0887"
             ],
             [
              0.1111111111111111,
              "#46039f"
             ],
             [
              0.2222222222222222,
              "#7201a8"
             ],
             [
              0.3333333333333333,
              "#9c179e"
             ],
             [
              0.4444444444444444,
              "#bd3786"
             ],
             [
              0.5555555555555556,
              "#d8576b"
             ],
             [
              0.6666666666666666,
              "#ed7953"
             ],
             [
              0.7777777777777778,
              "#fb9f3a"
             ],
             [
              0.8888888888888888,
              "#fdca26"
             ],
             [
              1,
              "#f0f921"
             ]
            ],
            "type": "heatmapgl"
           }
          ],
          "histogram": [
           {
            "marker": {
             "pattern": {
              "fillmode": "overlay",
              "size": 10,
              "solidity": 0.2
             }
            },
            "type": "histogram"
           }
          ],
          "histogram2d": [
           {
            "colorbar": {
             "outlinewidth": 0,
             "ticks": ""
            },
            "colorscale": [
             [
              0,
              "#0d0887"
             ],
             [
              0.1111111111111111,
              "#46039f"
             ],
             [
              0.2222222222222222,
              "#7201a8"
             ],
             [
              0.3333333333333333,
              "#9c179e"
             ],
             [
              0.4444444444444444,
              "#bd3786"
             ],
             [
              0.5555555555555556,
              "#d8576b"
             ],
             [
              0.6666666666666666,
              "#ed7953"
             ],
             [
              0.7777777777777778,
              "#fb9f3a"
             ],
             [
              0.8888888888888888,
              "#fdca26"
             ],
             [
              1,
              "#f0f921"
             ]
            ],
            "type": "histogram2d"
           }
          ],
          "histogram2dcontour": [
           {
            "colorbar": {
             "outlinewidth": 0,
             "ticks": ""
            },
            "colorscale": [
             [
              0,
              "#0d0887"
             ],
             [
              0.1111111111111111,
              "#46039f"
             ],
             [
              0.2222222222222222,
              "#7201a8"
             ],
             [
              0.3333333333333333,
              "#9c179e"
             ],
             [
              0.4444444444444444,
              "#bd3786"
             ],
             [
              0.5555555555555556,
              "#d8576b"
             ],
             [
              0.6666666666666666,
              "#ed7953"
             ],
             [
              0.7777777777777778,
              "#fb9f3a"
             ],
             [
              0.8888888888888888,
              "#fdca26"
             ],
             [
              1,
              "#f0f921"
             ]
            ],
            "type": "histogram2dcontour"
           }
          ],
          "mesh3d": [
           {
            "colorbar": {
             "outlinewidth": 0,
             "ticks": ""
            },
            "type": "mesh3d"
           }
          ],
          "parcoords": [
           {
            "line": {
             "colorbar": {
              "outlinewidth": 0,
              "ticks": ""
             }
            },
            "type": "parcoords"
           }
          ],
          "pie": [
           {
            "automargin": true,
            "type": "pie"
           }
          ],
          "scatter": [
           {
            "fillpattern": {
             "fillmode": "overlay",
             "size": 10,
             "solidity": 0.2
            },
            "type": "scatter"
           }
          ],
          "scatter3d": [
           {
            "line": {
             "colorbar": {
              "outlinewidth": 0,
              "ticks": ""
             }
            },
            "marker": {
             "colorbar": {
              "outlinewidth": 0,
              "ticks": ""
             }
            },
            "type": "scatter3d"
           }
          ],
          "scattercarpet": [
           {
            "marker": {
             "colorbar": {
              "outlinewidth": 0,
              "ticks": ""
             }
            },
            "type": "scattercarpet"
           }
          ],
          "scattergeo": [
           {
            "marker": {
             "colorbar": {
              "outlinewidth": 0,
              "ticks": ""
             }
            },
            "type": "scattergeo"
           }
          ],
          "scattergl": [
           {
            "marker": {
             "colorbar": {
              "outlinewidth": 0,
              "ticks": ""
             }
            },
            "type": "scattergl"
           }
          ],
          "scattermapbox": [
           {
            "marker": {
             "colorbar": {
              "outlinewidth": 0,
              "ticks": ""
             }
            },
            "type": "scattermapbox"
           }
          ],
          "scatterpolar": [
           {
            "marker": {
             "colorbar": {
              "outlinewidth": 0,
              "ticks": ""
             }
            },
            "type": "scatterpolar"
           }
          ],
          "scatterpolargl": [
           {
            "marker": {
             "colorbar": {
              "outlinewidth": 0,
              "ticks": ""
             }
            },
            "type": "scatterpolargl"
           }
          ],
          "scatterternary": [
           {
            "marker": {
             "colorbar": {
              "outlinewidth": 0,
              "ticks": ""
             }
            },
            "type": "scatterternary"
           }
          ],
          "surface": [
           {
            "colorbar": {
             "outlinewidth": 0,
             "ticks": ""
            },
            "colorscale": [
             [
              0,
              "#0d0887"
             ],
             [
              0.1111111111111111,
              "#46039f"
             ],
             [
              0.2222222222222222,
              "#7201a8"
             ],
             [
              0.3333333333333333,
              "#9c179e"
             ],
             [
              0.4444444444444444,
              "#bd3786"
             ],
             [
              0.5555555555555556,
              "#d8576b"
             ],
             [
              0.6666666666666666,
              "#ed7953"
             ],
             [
              0.7777777777777778,
              "#fb9f3a"
             ],
             [
              0.8888888888888888,
              "#fdca26"
             ],
             [
              1,
              "#f0f921"
             ]
            ],
            "type": "surface"
           }
          ],
          "table": [
           {
            "cells": {
             "fill": {
              "color": "#EBF0F8"
             },
             "line": {
              "color": "white"
             }
            },
            "header": {
             "fill": {
              "color": "#C8D4E3"
             },
             "line": {
              "color": "white"
             }
            },
            "type": "table"
           }
          ]
         },
         "layout": {
          "annotationdefaults": {
           "arrowcolor": "#2a3f5f",
           "arrowhead": 0,
           "arrowwidth": 1
          },
          "autotypenumbers": "strict",
          "coloraxis": {
           "colorbar": {
            "outlinewidth": 0,
            "ticks": ""
           }
          },
          "colorscale": {
           "diverging": [
            [
             0,
             "#8e0152"
            ],
            [
             0.1,
             "#c51b7d"
            ],
            [
             0.2,
             "#de77ae"
            ],
            [
             0.3,
             "#f1b6da"
            ],
            [
             0.4,
             "#fde0ef"
            ],
            [
             0.5,
             "#f7f7f7"
            ],
            [
             0.6,
             "#e6f5d0"
            ],
            [
             0.7,
             "#b8e186"
            ],
            [
             0.8,
             "#7fbc41"
            ],
            [
             0.9,
             "#4d9221"
            ],
            [
             1,
             "#276419"
            ]
           ],
           "sequential": [
            [
             0,
             "#0d0887"
            ],
            [
             0.1111111111111111,
             "#46039f"
            ],
            [
             0.2222222222222222,
             "#7201a8"
            ],
            [
             0.3333333333333333,
             "#9c179e"
            ],
            [
             0.4444444444444444,
             "#bd3786"
            ],
            [
             0.5555555555555556,
             "#d8576b"
            ],
            [
             0.6666666666666666,
             "#ed7953"
            ],
            [
             0.7777777777777778,
             "#fb9f3a"
            ],
            [
             0.8888888888888888,
             "#fdca26"
            ],
            [
             1,
             "#f0f921"
            ]
           ],
           "sequentialminus": [
            [
             0,
             "#0d0887"
            ],
            [
             0.1111111111111111,
             "#46039f"
            ],
            [
             0.2222222222222222,
             "#7201a8"
            ],
            [
             0.3333333333333333,
             "#9c179e"
            ],
            [
             0.4444444444444444,
             "#bd3786"
            ],
            [
             0.5555555555555556,
             "#d8576b"
            ],
            [
             0.6666666666666666,
             "#ed7953"
            ],
            [
             0.7777777777777778,
             "#fb9f3a"
            ],
            [
             0.8888888888888888,
             "#fdca26"
            ],
            [
             1,
             "#f0f921"
            ]
           ]
          },
          "colorway": [
           "#636efa",
           "#EF553B",
           "#00cc96",
           "#ab63fa",
           "#FFA15A",
           "#19d3f3",
           "#FF6692",
           "#B6E880",
           "#FF97FF",
           "#FECB52"
          ],
          "font": {
           "color": "#2a3f5f"
          },
          "geo": {
           "bgcolor": "white",
           "lakecolor": "white",
           "landcolor": "#E5ECF6",
           "showlakes": true,
           "showland": true,
           "subunitcolor": "white"
          },
          "hoverlabel": {
           "align": "left"
          },
          "hovermode": "closest",
          "mapbox": {
           "style": "light"
          },
          "paper_bgcolor": "white",
          "plot_bgcolor": "#E5ECF6",
          "polar": {
           "angularaxis": {
            "gridcolor": "white",
            "linecolor": "white",
            "ticks": ""
           },
           "bgcolor": "#E5ECF6",
           "radialaxis": {
            "gridcolor": "white",
            "linecolor": "white",
            "ticks": ""
           }
          },
          "scene": {
           "xaxis": {
            "backgroundcolor": "#E5ECF6",
            "gridcolor": "white",
            "gridwidth": 2,
            "linecolor": "white",
            "showbackground": true,
            "ticks": "",
            "zerolinecolor": "white"
           },
           "yaxis": {
            "backgroundcolor": "#E5ECF6",
            "gridcolor": "white",
            "gridwidth": 2,
            "linecolor": "white",
            "showbackground": true,
            "ticks": "",
            "zerolinecolor": "white"
           },
           "zaxis": {
            "backgroundcolor": "#E5ECF6",
            "gridcolor": "white",
            "gridwidth": 2,
            "linecolor": "white",
            "showbackground": true,
            "ticks": "",
            "zerolinecolor": "white"
           }
          },
          "shapedefaults": {
           "line": {
            "color": "#2a3f5f"
           }
          },
          "ternary": {
           "aaxis": {
            "gridcolor": "white",
            "linecolor": "white",
            "ticks": ""
           },
           "baxis": {
            "gridcolor": "white",
            "linecolor": "white",
            "ticks": ""
           },
           "bgcolor": "#E5ECF6",
           "caxis": {
            "gridcolor": "white",
            "linecolor": "white",
            "ticks": ""
           }
          },
          "title": {
           "x": 0.05
          },
          "xaxis": {
           "automargin": true,
           "gridcolor": "white",
           "linecolor": "white",
           "ticks": "",
           "title": {
            "standoff": 15
           },
           "zerolinecolor": "white",
           "zerolinewidth": 2
          },
          "yaxis": {
           "automargin": true,
           "gridcolor": "white",
           "linecolor": "white",
           "ticks": "",
           "title": {
            "standoff": 15
           },
           "zerolinecolor": "white",
           "zerolinewidth": 2
          }
         }
        },
        "title": {
         "x": 0.5
        },
        "width": 2000,
        "xaxis": {
         "color": "black",
         "linecolor": "black",
         "linewidth": 3,
         "mirror": true,
         "showline": true,
         "tickfont": {
          "size": 50
         }
        },
        "yaxis": {
         "color": "black",
         "linecolor": "black",
         "linewidth": 3,
         "mirror": true,
         "showline": true,
         "tickfont": {
          "size": 50
         },
         "title": {
          "font": {
           "size": 50
          },
          "standoff": 30,
          "text": "Nº Papers"
         }
        }
       }
      }
     },
     "metadata": {},
     "output_type": "display_data"
    }
   ],
   "source": [
    "import plotly.graph_objects as go\n",
    "\n",
    "fig = go.Figure([go.Bar(x = pd.DataFrame.from_dict(gene_pmid, orient='index').count(axis=1).index, y = pd.DataFrame.from_dict(gene_pmid, orient='index').count(axis=1).values, marker_color='#59C3C3')])\n",
    "fig.update_layout(\n",
    "        yaxis_title_text='Nº Papers',\n",
    "        height=1000,\n",
    "        width=2000,\n",
    "        title_x=0.5,\n",
    "        xaxis = dict(tickfont = dict(size=50), showline=True, linewidth=3, linecolor='black', mirror=True, color='black'),\n",
    "        yaxis = dict(tickfont = dict(size=50), titlefont=dict(size=50), title_standoff = 30, showline=True, linewidth=3, linecolor='black', mirror=True, color='black'),\n",
    "        paper_bgcolor='rgba(255,255,255,1)',\n",
    "        plot_bgcolor='rgba(255,255,255,1)',\n",
    "        margin=dict(l=20, r=20, t=25, b=20))\n",
    "fig.show()"
   ]
  }
 ],
 "metadata": {
  "kernelspec": {
   "display_name": "Python 3.8.8 ('base')",
   "language": "python",
   "name": "python3"
  },
  "language_info": {
   "codemirror_mode": {
    "name": "ipython",
    "version": 3
   },
   "file_extension": ".py",
   "mimetype": "text/x-python",
   "name": "python",
   "nbconvert_exporter": "python",
   "pygments_lexer": "ipython3",
   "version": "3.8.8"
  },
  "orig_nbformat": 4,
  "vscode": {
   "interpreter": {
    "hash": "42555cd0c5f1594a81e40866f5733b2cbf65026c937bf0149d49f47f234897c3"
   }
  }
 },
 "nbformat": 4,
 "nbformat_minor": 2
}
