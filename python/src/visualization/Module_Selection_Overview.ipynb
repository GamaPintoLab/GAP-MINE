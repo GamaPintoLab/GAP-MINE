{
 "cells": [
  {
   "cell_type": "code",
   "execution_count": 29,
   "metadata": {},
   "outputs": [],
   "source": [
    "import pandas as pd\n",
    "import numpy as np"
   ]
  },
  {
   "cell_type": "code",
   "execution_count": 50,
   "metadata": {},
   "outputs": [],
   "source": [
    "process_n_hypergeometric = pd.read_csv('../../models/GAP-MINE/process/n_fs/hypergeometric.txt', header=None)\n",
    "process_n_closeness = pd.read_csv('../../models/GAP-MINE/process/n_fs/closeness.txt', header=None)\n",
    "process_n_betweenness = pd.read_csv('../../models/GAP-MINE/process/n_fs/betweenness.txt', header=None)\n",
    "process_n_fraction_betweenness = pd.read_csv('../../models/GAP-MINE/process/n_fs/fraction_betweenness.txt', header=None)\n",
    "process_n_rwr = pd.read_csv('../../models/GAP-MINE/process/n_fs/rwr.txt', header=None)\n",
    "\n",
    "disease_n_rwr = pd.read_csv('../../models/GAP-MINE/disease/n_fs/disease_rwr.txt', header=None)\n",
    "\n",
    "disease_conservative_n_rwr = pd.read_csv('../../models/GAP-MINE/disease/n_fs/disease_rwr_conservative.txt', header=None)\n",
    "\n",
    "process_vip_hypergeometric = pd.read_csv('../../data/processed/fs/reactome_hyper_fs_apid_huri.csv')\n",
    "process_vip_closeness = pd.read_csv('../../data/processed/fs/reactome_closeness_fs_apid_huri.csv')\n",
    "process_vip_betweenness = pd.read_csv('../../data/processed/fs/reactome_betweenness_fs_apid_huri.csv')\n",
    "process_vip_fraction_betweenness = pd.read_csv('../../data/processed/fs/reactome_fraction_betweenness_fs_apid_huri.csv')\n",
    "process_vip_rwr = pd.read_csv('../../data/processed/fs/reactome_rwr_fs_apid_huri.csv')\n",
    "\n",
    "disease_vip_rwr = pd.read_csv('../../data/processed/fs/disease/disease_rwr_fs_apid_huri.csv')\n",
    "\n",
    "disease_conservative_vip_rwr = pd.read_csv('../../data/processed/fs/disease/disease_rwr_fs_conservative_apid_huri.csv')\n",
    "\n",
    "process_n_hypergeometric.index = process_vip_hypergeometric.columns\n",
    "process_n_closeness.index = process_vip_closeness.columns\n",
    "process_n_betweenness.index = process_vip_betweenness.columns\n",
    "process_n_fraction_betweenness.index = process_vip_fraction_betweenness.columns\n",
    "process_n_rwr.index = process_vip_rwr.columns\n",
    "\n",
    "disease_n_rwr.index = disease_vip_rwr.columns\n",
    "disease_conservative_n_rwr.index = disease_conservative_vip_rwr.columns"
   ]
  },
  {
   "cell_type": "code",
   "execution_count": 51,
   "metadata": {},
   "outputs": [],
   "source": [
    "def selected_modules_count(vips, n_fs):\n",
    "    outliers_chosen = 0\n",
    "    middle_chosen = 0\n",
    "    top_11_chosen = 0\n",
    "    for column in vips.columns:\n",
    "        threshold = vips[column].quantile(0.75) + 1.5*(vips[column].quantile(0.75)-vips[column].quantile(0.25))\n",
    "        n_outliers = len(vips[vips[column]>threshold])\n",
    "        middle = int((n_outliers-11)/2)+11\n",
    "        n_selected = n_fs.loc[column,0]\n",
    "        if n_selected == n_outliers:\n",
    "            outliers_chosen+=1\n",
    "        elif n_selected == middle:\n",
    "            middle_chosen+=1\n",
    "        elif n_selected == 11:\n",
    "            top_11_chosen+=1\n",
    "    return top_11_chosen, middle_chosen, outliers_chosen  "
   ]
  },
  {
   "cell_type": "code",
   "execution_count": 41,
   "metadata": {},
   "outputs": [],
   "source": [
    "process_rwr_11, process_rwr_middle, process_rwr_outliers = selected_modules_count(process_vip_rwr, process_n_rwr)\n",
    "disease_rwr_11, disease_rwr_middle, disease_rwr_outliers = selected_modules_count(disease_vip_rwr, disease_n_rwr)\n",
    "disease_conservative_rwr_11, disease_conservative_rwr_middle, disease_conservative_rwr_outliers = selected_modules_count(disease_conservative_vip_rwr, disease_conservative_n_rwr)"
   ]
  },
  {
   "cell_type": "code",
   "execution_count": 52,
   "metadata": {},
   "outputs": [],
   "source": [
    "process_hypergeometric_11, process_hypergeometric_middle, process_hypergeometric_outliers = selected_modules_count(process_vip_hypergeometric, process_n_hypergeometric)\n",
    "process_closeness_11, process_closeness_middle, process_closeness_outliers = selected_modules_count(process_vip_closeness, process_n_closeness)\n",
    "process_betweenness_11, process_betweenness_middle, process_betweenness_outliers = selected_modules_count(process_vip_betweenness, process_n_betweenness)\n",
    "process_fraction_betweenness_11, process_fraction_betweenness_middle, process_fraction_betweenness_outliers = selected_modules_count(process_vip_fraction_betweenness, process_n_fraction_betweenness)\n"
   ]
  },
  {
   "cell_type": "code",
   "execution_count": 43,
   "metadata": {},
   "outputs": [
    {
     "name": "stdout",
     "output_type": "stream",
     "text": [
      "0.3543123543123543 0.2703962703962704 0.3752913752913753\n",
      "0.22167487684729065 0.30049261083743845 0.47783251231527096\n",
      "0.19933554817275748 0.21262458471760798 0.5880398671096345\n"
     ]
    }
   ],
   "source": [
    "print(process_rwr_11/429, process_rwr_middle/429, process_rwr_outliers/429)\n",
    "print(disease_rwr_11/203, disease_rwr_middle/203, disease_rwr_outliers/203)\n",
    "print(disease_conservative_rwr_11/301, disease_conservative_rwr_middle/301, disease_conservative_rwr_outliers/301)"
   ]
  }
 ],
 "metadata": {
  "kernelspec": {
   "display_name": "Python 3.8.8 ('base')",
   "language": "python",
   "name": "python3"
  },
  "language_info": {
   "codemirror_mode": {
    "name": "ipython",
    "version": 3
   },
   "file_extension": ".py",
   "mimetype": "text/x-python",
   "name": "python",
   "nbconvert_exporter": "python",
   "pygments_lexer": "ipython3",
   "version": "3.8.8"
  },
  "orig_nbformat": 4,
  "vscode": {
   "interpreter": {
    "hash": "42555cd0c5f1594a81e40866f5733b2cbf65026c937bf0149d49f47f234897c3"
   }
  }
 },
 "nbformat": 4,
 "nbformat_minor": 2
}
