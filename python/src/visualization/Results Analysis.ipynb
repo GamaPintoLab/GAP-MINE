{
 "cells": [
  {
   "cell_type": "markdown",
   "metadata": {},
   "source": [
    "# 0. Imports and Data Load"
   ]
  },
  {
   "cell_type": "code",
   "execution_count": 1,
   "metadata": {},
   "outputs": [],
   "source": [
    "import plotly.graph_objects as go\n",
    "import pandas as pd\n",
    "from plot_functions import paper_boxplot_comparison, paper_boxplot_comparison_single_metric, paper_boxplot_method_comparison\n",
    "import numpy as np"
   ]
  },
  {
   "cell_type": "markdown",
   "metadata": {},
   "source": [
    "#### Threshold"
   ]
  },
  {
   "cell_type": "code",
   "execution_count": 2,
   "metadata": {},
   "outputs": [],
   "source": [
    "process_hypergeometric_threshold = pd.read_csv('../../models/threshold_classifier/process/process_hypergeometric_simple.csv')\n",
    "process_closeness_threshold = pd.read_csv('../../models/threshold_classifier/process/process_closeness_simple.csv')\n",
    "process_betweenness_threshold = pd.read_csv('../../models/threshold_classifier/process/process_betweenness_simple.csv')\n",
    "process_rwr_threshold = pd.read_csv('../../models/threshold_classifier/process/process_rwr_simple.csv')\n",
    "process_fraction_betweenness_threshold = pd.read_csv('../../models/threshold_classifier/process/process_fraction_betweenness_simple.csv')"
   ]
  },
  {
   "cell_type": "code",
   "execution_count": 3,
   "metadata": {},
   "outputs": [],
   "source": [
    "disease_hypergeometric_threshold = pd.read_csv('../../models/threshold_classifier/disease/disease_hypergeometric_simple.csv')\n",
    "disease_closeness_threshold = pd.read_csv('../../models/threshold_classifier/disease/disease_closeness_simple.csv')\n",
    "disease_betweenness_threshold = pd.read_csv('../../models/threshold_classifier/disease/disease_betweenness_simple.csv')\n",
    "disease_rwr_threshold = pd.read_csv('../../models/threshold_classifier/disease/disease_rwr_simple.csv')\n",
    "disease_fraction_betweenness_threshold = pd.read_csv('../../models/threshold_classifier/disease/disease_fraction_betweenness_simple.csv')\n",
    "\n",
    "disease_hypergeometric_threshold_conservative = pd.read_csv('../../models/threshold_classifier/disease/disease_hypergeometric_simple_conservative.csv')\n",
    "disease_closeness_threshold_conservative = pd.read_csv('../../models/threshold_classifier/disease/disease_closeness_simple_conservative.csv')\n",
    "disease_betweenness_threshold_conservative = pd.read_csv('../../models/threshold_classifier/disease/disease_betweenness_simple_conservative.csv')\n",
    "disease_rwr_threshold_conservative = pd.read_csv('../../models/threshold_classifier/disease/disease_rwr_simple_conservative.csv')\n",
    "disease_fraction_betweenness_threshold_conservative = pd.read_csv('../../models/threshold_classifier/disease/disease_fraction_betweenness_simple_conservative.csv')"
   ]
  },
  {
   "cell_type": "code",
   "execution_count": 4,
   "metadata": {},
   "outputs": [],
   "source": [
    "process_geneplexus = pd.read_csv('../../models/threshold_classifier/process/geneplexus.csv')\n",
    "disease_geneplexus = pd.read_csv('../../models/threshold_classifier/disease/geneplexus.csv')\n",
    "disease_geneplexus_conservative = pd.read_csv('../../models/threshold_classifier/disease/geneplexus_conservative.csv')\n",
    "process_geneplexus.columns = ['auprc_random', 'precision@k_random']\n",
    "disease_geneplexus.columns = ['auprc_random', 'precision@k_random']\n",
    "disease_geneplexus_conservative.columns = ['auprc_random', 'precision@k_random']\n",
    "\n",
    "process_raw = pd.read_csv('../../models/threshold_classifier/process/process_raw_simple.csv')\n",
    "disease_raw = pd.read_csv('../../models/threshold_classifier/disease/disease_raw_simple_new.csv')\n",
    "disease_raw_conservative = pd.read_csv('../../models/threshold_classifier/disease/disease_raw_simple_conservative_new.csv')\n",
    "\n",
    "process_genepanda = pd.read_csv('../../models/threshold_classifier/process/process_genepanda_simple.csv')\n",
    "disease_genepanda = pd.read_csv('../../models/threshold_classifier/disease/disease_genepanda_simple_new.csv')\n",
    "disease_genepanda_conservative = pd.read_csv('../../models/threshold_classifier/disease/disease_genepanda_simple_conservative_new.csv')\n",
    "\n",
    "process_maxlink = pd.read_csv('../../models/threshold_classifier/process/process_maxlink_simple.csv')\n",
    "disease_maxlink = pd.read_csv('../../models/threshold_classifier/disease/disease_maxlink_simple_new.csv')\n",
    "disease_maxlink_conservative = pd.read_csv('../../models/threshold_classifier/disease/disease_maxlink_simple_conservative_new.csv')\n"
   ]
  },
  {
   "cell_type": "code",
   "execution_count": 5,
   "metadata": {},
   "outputs": [],
   "source": [
    "process_rwr_string = pd.read_csv('../../models/GAP-MINE/STRING/probability/process_rwr_lgr_proba.csv')\n",
    "disease_rwr_string  = pd.read_csv('../../models/GAP-MINE/STRING/probability/disease_rwr_lgr_proba.csv')\n",
    "disease_rwr_conservative_string  = pd.read_csv('../../models/GAP-MINE/STRING/probability/disease_conservative_rwr_lgr_proba.csv')\n",
    "\n",
    "process_geneplexus_string = pd.read_csv('../../models/threshold_classifier/STRING/geneplexus.csv')\n",
    "disease_geneplexus_string  = pd.read_csv('../../models/threshold_classifier/STRING/disease_geneplexus.csv')\n",
    "disease_geneplexus_conservative_string  = pd.read_csv('../../models/threshold_classifier/STRING/disease_conservative_geneplexus.csv')\n",
    "process_geneplexus_string.columns = ['auprc_random', 'precision@k_random']\n",
    "disease_geneplexus_string.columns = ['auprc_random', 'precision@k_random']\n",
    "disease_geneplexus_conservative_string.columns = ['auprc_random', 'precision@k_random']\n",
    "\n",
    "process_raw_string  = pd.read_csv('../../models/threshold_classifier/STRING/process_raw_simple.csv')\n",
    "disease_raw_string  = pd.read_csv('../../models/threshold_classifier/STRING/disease_raw_simple.csv')\n",
    "disease_raw_conservative_string  = pd.read_csv('../../models/threshold_classifier/STRING/disease_conservative_raw_simple.csv')\n",
    "\n",
    "process_genepanda_string  = pd.read_csv('../../models/threshold_classifier/STRING/process_genepanda_simple.csv')\n",
    "disease_genepanda_string  = pd.read_csv('../../models/threshold_classifier/STRING/disease_genepanda_simple.csv')\n",
    "disease_genepanda_conservative_string  = pd.read_csv('../../models/threshold_classifier/STRING/disease_conservative_genepanda_simple.csv')\n",
    "\n",
    "process_maxlink_string  = pd.read_csv('../../models/threshold_classifier/STRING/process_maxlink_simple.csv')\n",
    "disease_maxlink_string  = pd.read_csv('../../models/threshold_classifier/STRING/disease_maxlink_simple.csv')\n",
    "disease_maxlink_conservative_string  = pd.read_csv('../../models/threshold_classifier/STRING/disease_conservative_maxlink_simple.csv')"
   ]
  },
  {
   "cell_type": "markdown",
   "metadata": {},
   "source": [
    "#### GAP-MINE"
   ]
  },
  {
   "cell_type": "code",
   "execution_count": 6,
   "metadata": {},
   "outputs": [],
   "source": [
    "process_hypergeometric_proba_fs = pd.read_csv('../../models/GAP-MINE/process/probability/hypergeometric_lgr_proba.csv')\n",
    "process_closeness_proba_fs = pd.read_csv('../../models/GAP-MINE/process/probability/closeness_lgr_proba.csv')\n",
    "process_betweenness_proba_fs = pd.read_csv('../../models/GAP-MINE/process/probability/betweenness_lgr_proba.csv')\n",
    "process_fraction_betweenness_proba_fs = pd.read_csv('../../models/GAP-MINE/process/probability/fraction_betweenness_lgr.csv')\n",
    "process_rwr_proba_fs = pd.read_csv('../../models/GAP-MINE/process/probability/rwr_lgr_proba_new.csv')"
   ]
  },
  {
   "cell_type": "code",
   "execution_count": 7,
   "metadata": {},
   "outputs": [],
   "source": [
    "disease_hypergeometric_proba_fs = pd.read_csv('../../models/GAP-MINE/disease/probability/disease_hypergeometric_lgr_proba.csv')\n",
    "disease_closeness_proba_fs = pd.read_csv('../../models/GAP-MINE/disease/probability/disease_closeness_lgr_proba.csv')\n",
    "disease_betweenness_proba_fs = pd.read_csv('../../models/GAP-MINE/disease/probability/disease_betweenness_lgr_proba.csv')\n",
    "disease_fraction_betweenness_proba_fs = pd.read_csv('../../models/GAP-MINE/disease/probability/disease_fraction_betweenness_lgr.csv')\n",
    "disease_rwr_proba_fs = pd.read_csv('../../models/GAP-MINE/disease/probability/disease_rwr_lgr_proba_new.csv')\n",
    "\n",
    "disease_hypergeometric_proba_fs_conservative = pd.read_csv('../../models/GAP-MINE/disease/probability/disease_hypergeometric_lgr_proba_conservative.csv')\n",
    "disease_closeness_proba_fs_conservative = pd.read_csv('../../models/GAP-MINE/disease/probability/disease_closeness_lgr_proba_conservative.csv')\n",
    "disease_betweenness_proba_fs_conservative = pd.read_csv('../../models/GAP-MINE/disease/probability/disease_betweenness_lgr_proba_conservative.csv')\n",
    "disease_fraction_betweenness_proba_fs_conservative = pd.read_csv('../../models/GAP-MINE/disease/probability/disease_fraction_betweenness_lgr_conservative.csv')\n",
    "disease_rwr_proba_fs_conservative = pd.read_csv('../../models/GAP-MINE/disease/probability/disease_rwr_lgr_proba_conservative_new.csv')"
   ]
  },
  {
   "cell_type": "code",
   "execution_count": 56,
   "metadata": {},
   "outputs": [],
   "source": [
    "def win_percentage(df1, df2, target_column = 'precision@k_random'):\n",
    "    x = df1[target_column]-df2[target_column]\n",
    "    df_len = len(df1)\n",
    "    better1 = len(x[x>0])\n",
    "    better2 = len(x[x<0])\n",
    "    draw = len(x[x==0])\n",
    "    best_result = round((better1/df_len)*100, 2)\n",
    "    worse_result = round((better2/df_len)*100, 2)\n",
    "    draw_result = round((draw/df_len)*100, 2)\n",
    "    return best_result, worse_result, draw_result"
   ]
  },
  {
   "cell_type": "code",
   "execution_count": 61,
   "metadata": {},
   "outputs": [],
   "source": [
    "dfs = {'APIDHuRI': {'Process': {'RWR vs. Raw APIDHuRI': (process_rwr_proba_fs, process_raw),\n",
    "                                'RWR vs. MaxLink APIDHuRI': (process_rwr_proba_fs, process_maxlink),\n",
    "                                'RWR vs. GenePANDA APIDHuRI': (process_rwr_proba_fs, process_genepanda),\n",
    "                                'RWR vs. GenePlexus APIDHuRI': (process_rwr_proba_fs, process_geneplexus)},\n",
    "                    'Disease SCA': {'RWR vs. Raw APIDHuRI': (disease_rwr_proba_fs, disease_raw),\n",
    "                                'RWR vs. MaxLink APIDHuRI': (disease_rwr_proba_fs, disease_maxlink),\n",
    "                                'RWR vs. GenePANDA APIDHuRI': (disease_rwr_proba_fs, disease_genepanda),\n",
    "                                'RWR vs. GenePlexus APIDHuRI': (disease_rwr_proba_fs, disease_geneplexus)},\n",
    "                    'Disease Conservative': {'RWR vs. Raw APIDHuRI': (disease_rwr_proba_fs_conservative, disease_raw_conservative),\n",
    "                                'RWR vs. MaxLink APIDHuRI': (disease_rwr_proba_fs_conservative, disease_maxlink_conservative),\n",
    "                                'RWR vs. GenePANDA APIDHuRI': (disease_rwr_proba_fs_conservative, disease_genepanda_conservative),\n",
    "                                'RWR vs. GenePlexus APIDHuRI': (disease_rwr_proba_fs_conservative, disease_geneplexus_conservative)}},                       \n",
    "        'STRING': {'Process': {'RWR vs. Raw STRING': (process_rwr_string, process_raw_string),\n",
    "                                'RWR vs. MaxLink APIDHuRI': (process_rwr_string, process_maxlink_string),\n",
    "                                'RWR vs. GenePANDA APIDHuRI': (process_rwr_string, process_genepanda_string),\n",
    "                                'RWR vs. GenePlexus APIDHuRI': (process_rwr_string, process_geneplexus_string)},\n",
    "                    'Disease SCA': {'RWR vs. Raw APIDHuRI': (disease_rwr_string, disease_raw_string),\n",
    "                                'RWR vs. MaxLink APIDHuRI': (disease_rwr_string, disease_maxlink_string),\n",
    "                                'RWR vs. GenePANDA APIDHuRI': (disease_rwr_string, disease_genepanda_string),\n",
    "                                'RWR vs. GenePlexus APIDHuRI': (disease_rwr_string, disease_geneplexus_string)},\n",
    "                    'Disease Conservative': {'RWR vs. Raw APIDHuRI': (disease_rwr_conservative_string, disease_raw_conservative_string),\n",
    "                                'RWR vs. MaxLink APIDHuRI': (disease_rwr_conservative_string, disease_maxlink_conservative_string),\n",
    "                                'RWR vs. GenePANDA APIDHuRI': (disease_rwr_conservative_string, disease_genepanda_conservative_string),\n",
    "                                'RWR vs. GenePlexus APIDHuRI': (disease_rwr_conservative_string, disease_geneplexus_conservative_string)}}}\n",
    "results_dict = {'Network':[], 'Module':[], 'Classifier':[], 'Metric':[], 'RWR Best':[], 'Other Best':[], 'Draw':[]}\n",
    "for network, modules in dfs.items():\n",
    "    for module, classifiers in modules.items():\n",
    "        for classifier, df in classifiers.items():\n",
    "            for metric in ['precision@k_random', 'auprc_random']:\n",
    "                results_dict['Network'].append(network)\n",
    "                results_dict['Module'].append(module)\n",
    "                results_dict['Classifier'].append(classifier)\n",
    "                results_dict['Metric'].append(metric)\n",
    "                best, worse, draw = win_percentage(df[0], df[1], metric)\n",
    "                results_dict['RWR Best'].append(best)\n",
    "                results_dict['Other Best'].append(worse)\n",
    "                results_dict['Draw'].append(draw)"
   ]
  },
  {
   "cell_type": "code",
   "execution_count": 65,
   "metadata": {},
   "outputs": [],
   "source": [
    "results_df = pd.DataFrame(results_dict)\n",
    "results_df.to_csv(\"../../reports/State Of The Art Comparisons.csv\", index=False)"
   ]
  }
 ],
 "metadata": {
  "interpreter": {
   "hash": "42555cd0c5f1594a81e40866f5733b2cbf65026c937bf0149d49f47f234897c3"
  },
  "kernelspec": {
   "display_name": "Python 3.8.8 ('base')",
   "language": "python",
   "name": "python3"
  },
  "language_info": {
   "codemirror_mode": {
    "name": "ipython",
    "version": 3
   },
   "file_extension": ".py",
   "mimetype": "text/x-python",
   "name": "python",
   "nbconvert_exporter": "python",
   "pygments_lexer": "ipython3",
   "version": "3.8.8"
  },
  "orig_nbformat": 4
 },
 "nbformat": 4,
 "nbformat_minor": 2
}
