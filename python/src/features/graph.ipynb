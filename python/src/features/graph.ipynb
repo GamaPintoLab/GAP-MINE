{
 "cells": [
  {
   "cell_type": "markdown",
   "id": "a131f491",
   "metadata": {},
   "source": [
    "# Creating Graph with igraph "
   ]
  },
  {
   "cell_type": "markdown",
   "id": "bde70ab7",
   "metadata": {},
   "source": [
    "## 0. Imports"
   ]
  },
  {
   "cell_type": "code",
   "execution_count": 1,
   "id": "006b9b41",
   "metadata": {},
   "outputs": [],
   "source": [
    "import pandas as pd\n",
    "from igraph import Graph\n",
    "import disease_process_proteins\n",
    "import importlib\n",
    "import numpy as np\n",
    "import statistics"
   ]
  },
  {
   "cell_type": "markdown",
   "id": "11007e63",
   "metadata": {},
   "source": [
    "## 1. Graph Creation"
   ]
  },
  {
   "cell_type": "markdown",
   "id": "80135b0c",
   "metadata": {},
   "source": [
    "### 1.1. APID & HuRI Graph"
   ]
  },
  {
   "cell_type": "code",
   "execution_count": 3,
   "id": "757d5d58",
   "metadata": {},
   "outputs": [
    {
     "data": {
      "text/html": [
       "<div>\n",
       "<style scoped>\n",
       "    .dataframe tbody tr th:only-of-type {\n",
       "        vertical-align: middle;\n",
       "    }\n",
       "\n",
       "    .dataframe tbody tr th {\n",
       "        vertical-align: top;\n",
       "    }\n",
       "\n",
       "    .dataframe thead th {\n",
       "        text-align: right;\n",
       "    }\n",
       "</style>\n",
       "<table border=\"1\" class=\"dataframe\">\n",
       "  <thead>\n",
       "    <tr style=\"text-align: right;\">\n",
       "      <th></th>\n",
       "      <th>HGNC_A</th>\n",
       "      <th>HGNC_B</th>\n",
       "      <th>apid</th>\n",
       "      <th>dorothea</th>\n",
       "      <th>huri</th>\n",
       "      <th>omnipath</th>\n",
       "      <th>is_directed</th>\n",
       "    </tr>\n",
       "  </thead>\n",
       "  <tbody>\n",
       "    <tr>\n",
       "      <th>0</th>\n",
       "      <td>SCRIB</td>\n",
       "      <td>ARHGEF7</td>\n",
       "      <td>True</td>\n",
       "      <td>False</td>\n",
       "      <td>False</td>\n",
       "      <td>False</td>\n",
       "      <td>False</td>\n",
       "    </tr>\n",
       "    <tr>\n",
       "      <th>1</th>\n",
       "      <td>SCRIB</td>\n",
       "      <td>NET1</td>\n",
       "      <td>True</td>\n",
       "      <td>False</td>\n",
       "      <td>False</td>\n",
       "      <td>False</td>\n",
       "      <td>False</td>\n",
       "    </tr>\n",
       "    <tr>\n",
       "      <th>2</th>\n",
       "      <td>KCNA5</td>\n",
       "      <td>SCRIB</td>\n",
       "      <td>True</td>\n",
       "      <td>False</td>\n",
       "      <td>False</td>\n",
       "      <td>False</td>\n",
       "      <td>False</td>\n",
       "    </tr>\n",
       "    <tr>\n",
       "      <th>3</th>\n",
       "      <td>VWCE</td>\n",
       "      <td>SCRIB</td>\n",
       "      <td>True</td>\n",
       "      <td>False</td>\n",
       "      <td>False</td>\n",
       "      <td>False</td>\n",
       "      <td>False</td>\n",
       "    </tr>\n",
       "    <tr>\n",
       "      <th>4</th>\n",
       "      <td>DNM1L</td>\n",
       "      <td>SCRIB</td>\n",
       "      <td>True</td>\n",
       "      <td>False</td>\n",
       "      <td>False</td>\n",
       "      <td>False</td>\n",
       "      <td>False</td>\n",
       "    </tr>\n",
       "  </tbody>\n",
       "</table>\n",
       "</div>"
      ],
      "text/plain": [
       "  HGNC_A   HGNC_B  apid  dorothea   huri  omnipath  is_directed\n",
       "0  SCRIB  ARHGEF7  True     False  False     False        False\n",
       "1  SCRIB     NET1  True     False  False     False        False\n",
       "2  KCNA5    SCRIB  True     False  False     False        False\n",
       "3   VWCE    SCRIB  True     False  False     False        False\n",
       "4  DNM1L    SCRIB  True     False  False     False        False"
      ]
     },
     "execution_count": 3,
     "metadata": {},
     "output_type": "execute_result"
    }
   ],
   "source": [
    "apidhuri_interactions = pd.read_csv(\"../../data/processed/ppis/apid_huri_ppis.csv\", sep=',', header=0)\n",
    "apidhuri_interactions.head()\n"
   ]
  },
  {
   "cell_type": "code",
   "execution_count": 4,
   "id": "72e9a2cc",
   "metadata": {},
   "outputs": [],
   "source": [
    "big_graph_apid_huri = Graph.DataFrame(apidhuri_interactions, directed=False)\n",
    "g_simple_apid_huri = big_graph_apid_huri.simplify()"
   ]
  },
  {
   "cell_type": "code",
   "execution_count": 7,
   "id": "9ea085c7",
   "metadata": {},
   "outputs": [],
   "source": [
    "if not g_simple_apid_huri.is_connected():\n",
    "    cluster = g_simple_apid_huri.clusters()\n",
    "    g_simple_apid_huri = g_simple_apid_huri.induced_subgraph(cluster[0])\n",
    "g_simple_apid_huri.write_gml(\"../../data/processed/graph_apid_huri\")"
   ]
  },
  {
   "cell_type": "code",
   "execution_count": 5,
   "id": "7584f6d8",
   "metadata": {},
   "outputs": [
    {
     "data": {
      "text/html": [
       "<div>\n",
       "<style scoped>\n",
       "    .dataframe tbody tr th:only-of-type {\n",
       "        vertical-align: middle;\n",
       "    }\n",
       "\n",
       "    .dataframe tbody tr th {\n",
       "        vertical-align: top;\n",
       "    }\n",
       "\n",
       "    .dataframe thead th {\n",
       "        text-align: right;\n",
       "    }\n",
       "</style>\n",
       "<table border=\"1\" class=\"dataframe\">\n",
       "  <thead>\n",
       "    <tr style=\"text-align: right;\">\n",
       "      <th></th>\n",
       "      <th>protein_id</th>\n",
       "    </tr>\n",
       "  </thead>\n",
       "  <tbody>\n",
       "    <tr>\n",
       "      <th>0</th>\n",
       "      <td>A1BG</td>\n",
       "    </tr>\n",
       "    <tr>\n",
       "      <th>1</th>\n",
       "      <td>A1CF</td>\n",
       "    </tr>\n",
       "    <tr>\n",
       "      <th>2</th>\n",
       "      <td>A2M</td>\n",
       "    </tr>\n",
       "    <tr>\n",
       "      <th>3</th>\n",
       "      <td>A2ML1</td>\n",
       "    </tr>\n",
       "    <tr>\n",
       "      <th>4</th>\n",
       "      <td>A4GALT</td>\n",
       "    </tr>\n",
       "  </tbody>\n",
       "</table>\n",
       "</div>"
      ],
      "text/plain": [
       "  protein_id\n",
       "0       A1BG\n",
       "1       A1CF\n",
       "2        A2M\n",
       "3      A2ML1\n",
       "4     A4GALT"
      ]
     },
     "execution_count": 5,
     "metadata": {},
     "output_type": "execute_result"
    }
   ],
   "source": [
    "protein_ids_apid_huri_df = pd.DataFrame(g_simple_apid_huri.vs['name'], columns=['protein_id'])\n",
    "protein_ids_apid_huri_df.to_csv('../../data/processed/protein_ids_apid_huri.csv', index=False)\n",
    "protein_ids_apid_huri_df.head()"
   ]
  },
  {
   "cell_type": "code",
   "execution_count": 9,
   "id": "e5b6e99f",
   "metadata": {},
   "outputs": [],
   "source": [
    "adj_matrix_apid_huri = g_simple_apid_huri.get_adjacency()\n",
    "adj_matrix_apid_huri = np.array(adj_matrix_apid_huri.data)\n",
    "np.save('../../data/processed/adjacency_matrix_apid_huri.npy', adj_matrix_apid_huri, allow_pickle=True, fix_imports=True)"
   ]
  },
  {
   "cell_type": "markdown",
   "id": "efa368b2",
   "metadata": {},
   "source": [
    "## 2. Data Load"
   ]
  },
  {
   "cell_type": "code",
   "execution_count": null,
   "id": "01e2f543",
   "metadata": {
    "scrolled": true
   },
   "outputs": [],
   "source": [
    "disgenet = pd.read_csv(\"../../data/interim/disgenet.csv\", sep=',', header=0)\n",
    "print(disgenet.shape)"
   ]
  },
  {
   "cell_type": "code",
   "execution_count": null,
   "id": "fef6b832",
   "metadata": {
    "scrolled": true
   },
   "outputs": [],
   "source": [
    "disgenet = disgenet[disgenet['geneSymbol'].isin(protein_ids_apid_huri_df['protein_id'])]\n",
    "print(disgenet.shape)\n",
    "disgenet.head()"
   ]
  },
  {
   "cell_type": "code",
   "execution_count": null,
   "id": "82da6ba5",
   "metadata": {},
   "outputs": [],
   "source": [
    "reactome = pd.read_csv(\"../../data/interim/ReactomeReactions.csv\", sep=',', header=0)\n",
    "print(reactome.shape)"
   ]
  },
  {
   "cell_type": "code",
   "execution_count": null,
   "id": "28df972c",
   "metadata": {},
   "outputs": [],
   "source": [
    "reactome = reactome[reactome['HGNC ID'].isin(protein_ids_apid_huri_df['protein_id'])]\n",
    "print(reactome.shape)\n",
    "reactome.head()"
   ]
  },
  {
   "cell_type": "markdown",
   "id": "319964e7",
   "metadata": {},
   "source": [
    "### 2.1. Network Process/Disease Proteins"
   ]
  },
  {
   "cell_type": "code",
   "execution_count": null,
   "id": "ca4f510c",
   "metadata": {},
   "outputs": [],
   "source": [
    "disgenet = disgenet[disgenet['geneSymbol'].isin(protein_ids_apid_huri_df['protein_id'])]\n",
    "print(disgenet.shape)\n",
    "disgenet.head()"
   ]
  },
  {
   "cell_type": "code",
   "execution_count": null,
   "id": "6bf94f84",
   "metadata": {},
   "outputs": [],
   "source": [
    "reactome = reactome[reactome['HGNC ID'].isin(protein_ids_apid_huri_df['protein_id'])]\n",
    "print(reactome.shape)\n",
    "reactome.head()"
   ]
  },
  {
   "cell_type": "code",
   "execution_count": null,
   "id": "ddf41125",
   "metadata": {},
   "outputs": [],
   "source": [
    "importlib.reload(disease_process_proteins)\n",
    "disgenet_proteins_indexes_apid_huri_df = disease_process_proteins.get_protein_index(disgenet, 'disgenet', g_simple_apid_huri)"
   ]
  },
  {
   "cell_type": "code",
   "execution_count": null,
   "id": "020418a0",
   "metadata": {},
   "outputs": [],
   "source": [
    "disgenet_proteins_indexes_apid_huri_df['n_proteins']  = disgenet_proteins_indexes_apid_huri_df['protein_index'].apply(lambda x: len(x))\n",
    "disgenet_proteins_indexes_apid_huri_df = disgenet_proteins_indexes_apid_huri_df[(disgenet_proteins_indexes_apid_huri_df['n_proteins'] <= 300) & (disgenet_proteins_indexes_apid_huri_df['n_proteins'] >= 50)]\n",
    "disgenet_proteins_indexes_apid_huri_df.to_csv('../../data/processed/disgenet_proteins_indexes_apid_huri.csv', index=False)\n",
    "disgenet_proteins_indexes_apid_huri_df.head()"
   ]
  },
  {
   "cell_type": "code",
   "execution_count": null,
   "id": "a6833c48",
   "metadata": {},
   "outputs": [],
   "source": [
    "importlib.reload(disease_process_proteins)\n",
    "reactome_proteins_indexes_apid_huri_df = disease_process_proteins.get_protein_index(reactome, 'reactome', g_simple_apid_huri)"
   ]
  },
  {
   "cell_type": "code",
   "execution_count": null,
   "id": "44a49754",
   "metadata": {},
   "outputs": [],
   "source": [
    "reactome_proteins_indexes_apid_huri_df['n_proteins']  = reactome_proteins_indexes_apid_huri_df['protein_index'].apply(lambda x: len(x))\n",
    "reactome_proteins_indexes_apid_huri_df = reactome_proteins_indexes_apid_huri_df[(reactome_proteins_indexes_apid_huri_df['n_proteins'] <= 300) & (reactome_proteins_indexes_apid_huri_df['n_proteins'] >= 50)]\n",
    "reactome_proteins_indexes_apid_huri_df.to_csv('../../data/processed/reactome_proteins_indexes_apid_huri.csv', index=False)\n",
    "reactome_proteins_indexes_apid_huri_df.head()"
   ]
  },
  {
   "cell_type": "markdown",
   "id": "9ef4c01d",
   "metadata": {},
   "source": [
    "## 3. Graph Random Increase/Reduction"
   ]
  },
  {
   "cell_type": "code",
   "execution_count": 2,
   "id": "48f8ad15",
   "metadata": {},
   "outputs": [],
   "source": [
    "ppi_interactions_apid_huri = pd.read_csv(\"../../data/processed/ppis/apid_huri_ppis.csv\", sep=',', header=0)"
   ]
  },
  {
   "cell_type": "code",
   "execution_count": null,
   "id": "005e8447",
   "metadata": {},
   "outputs": [],
   "source": [
    "importlib.reload(disease_process_proteins)\n",
    "ppi_80_apid_huri = disease_process_proteins.random_reduction(ppi_interactions_apid_huri, 0.8, 10)\n",
    "np.save('../../data/processed/ppis/ppis_red80_apid_huri.npy', ppi_80_apid_huri, allow_pickle=True, fix_imports=True)"
   ]
  },
  {
   "cell_type": "code",
   "execution_count": 30,
   "id": "6e8cbfd5",
   "metadata": {},
   "outputs": [],
   "source": [
    "importlib.reload(disease_process_proteins)\n",
    "ppi_80_red = disease_process_proteins.random_reduction_protein(ppi_interactions_apid_huri, 0.8, 10)"
   ]
  },
  {
   "cell_type": "code",
   "execution_count": 31,
   "id": "dc19dd19",
   "metadata": {},
   "outputs": [],
   "source": [
    "np.save('../../data/processed/ppis/ppis_red_protein80_apid_huri.npy', ppi_80_red, allow_pickle=True, fix_imports=True)"
   ]
  }
 ],
 "metadata": {
  "interpreter": {
   "hash": "42555cd0c5f1594a81e40866f5733b2cbf65026c937bf0149d49f47f234897c3"
  },
  "kernelspec": {
   "display_name": "Python 3.8.8 ('base')",
   "language": "python",
   "name": "python3"
  },
  "language_info": {
   "codemirror_mode": {
    "name": "ipython",
    "version": 3
   },
   "file_extension": ".py",
   "mimetype": "text/x-python",
   "name": "python",
   "nbconvert_exporter": "python",
   "pygments_lexer": "ipython3",
   "version": "3.8.8 (default, Apr 13 2021, 15:08:03) [MSC v.1916 64 bit (AMD64)]"
  }
 },
 "nbformat": 4,
 "nbformat_minor": 5
}
