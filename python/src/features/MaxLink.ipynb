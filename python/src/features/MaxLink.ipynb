{
 "cells": [
  {
   "cell_type": "code",
   "execution_count": 1,
   "metadata": {},
   "outputs": [],
   "source": [
    "import pandas as pd\n",
    "from igraph import Graph\n",
    "import disease_process_proteins\n",
    "import metrics_functions\n",
    "import importlib\n",
    "import numpy as np\n",
    "from ast import literal_eval\n",
    "from tqdm.notebook import tqdm\n",
    "from scipy.stats import hypergeom\n",
    "from metrics_functions import MaxLink"
   ]
  },
  {
   "cell_type": "code",
   "execution_count": 25,
   "metadata": {},
   "outputs": [],
   "source": [
    "graph = Graph.Read_GML(\"../../data/processed/graph_apid_huri\")"
   ]
  },
  {
   "cell_type": "code",
   "execution_count": 23,
   "metadata": {},
   "outputs": [],
   "source": [
    "adj_matrix_apid_huri = np.load(\"../../data/processed/adjacency_matrix_apid_huri.npy\")"
   ]
  },
  {
   "cell_type": "code",
   "execution_count": 4,
   "metadata": {},
   "outputs": [],
   "source": [
    "reactome_proteins_indexes_df = pd.read_csv(\"../../data/processed/reactome_proteins_indexes_apid_huri.csv\", sep=',', header=0)\n",
    "disgenet_proteins_indexes_df = pd.read_csv(\"../../data/processed/disgenet_prot_index_main_comp.csv\", sep=',', header=0)\n",
    "disgenet_prot_index_main_comp = disgenet_proteins_indexes_df[disgenet_proteins_indexes_df['increase']<0.4]"
   ]
  },
  {
   "cell_type": "code",
   "execution_count": 5,
   "metadata": {},
   "outputs": [],
   "source": [
    "reactome_labels_df = pd.read_csv(\"../../data/processed/reactome_labels_apid_huri.csv\", sep=',', names=reactome_proteins_indexes_df['process'].values)\n",
    "reactome_labels_df['protein_id'] = graph.vs['name']\n",
    "reactome_labels_df.set_index('protein_id', inplace=True)\n",
    "\n",
    "disgenet_labels_df = pd.read_csv(\"../../data/processed/disgenet_filtered_labels_apid_huri.csv\", sep=',', names=disgenet_prot_index_main_comp['process'].values)\n",
    "disgenet_labels_df['protein_id'] = graph.vs['name']\n",
    "disgenet_labels_df.set_index('protein_id', inplace=True)\n",
    "\n",
    "disgenet_labels_conservative_df = pd.read_csv('../../data/processed/disgenet_conservative_labels_apid_huri.csv', names=disgenet_proteins_indexes_df['process'].values)\n",
    "disgenet_labels_conservative_df['protein_id'] = graph.vs['name']\n",
    "disgenet_labels_conservative_df.set_index('protein_id', inplace=True)"
   ]
  },
  {
   "cell_type": "code",
   "execution_count": 7,
   "metadata": {},
   "outputs": [
    {
     "data": {
      "application/vnd.jupyter.widget-view+json": {
       "model_id": "979289c502454556b6a8844abcc43e1b",
       "version_major": 2,
       "version_minor": 0
      },
      "text/plain": [
       "  0%|          | 0/429 [00:00<?, ?it/s]"
      ]
     },
     "metadata": {},
     "output_type": "display_data"
    }
   ],
   "source": [
    "process_maxlink = MaxLink(reactome_labels_df, adj_matrix_apid_huri)\n",
    "process_maxlink.index = graph.vs['name']\n",
    "process_maxlink.to_csv('../../data/processed/metrics/process_maxlink.csv')"
   ]
  },
  {
   "cell_type": "code",
   "execution_count": 34,
   "metadata": {},
   "outputs": [
    {
     "data": {
      "application/vnd.jupyter.widget-view+json": {
       "model_id": "3a949d5dc2d54918ae7ac8fd41e4b5f1",
       "version_major": 2,
       "version_minor": 0
      },
      "text/plain": [
       "  0%|          | 0/203 [00:00<?, ?it/s]"
      ]
     },
     "metadata": {},
     "output_type": "display_data"
    }
   ],
   "source": [
    "disease_maxlink = MaxLink(disgenet_labels_df, adj_matrix_apid_huri)\n",
    "disease_maxlink.index = graph.vs['name']\n",
    "disease_maxlink.to_csv('../../data/processed/metrics/disease_maxlink.csv')"
   ]
  },
  {
   "cell_type": "code",
   "execution_count": 8,
   "metadata": {},
   "outputs": [
    {
     "data": {
      "application/vnd.jupyter.widget-view+json": {
       "model_id": "7fb497bd5e274b818bb399d305162ef9",
       "version_major": 2,
       "version_minor": 0
      },
      "text/plain": [
       "  0%|          | 0/301 [00:00<?, ?it/s]"
      ]
     },
     "metadata": {},
     "output_type": "display_data"
    }
   ],
   "source": [
    "disease_conservative_maxlink = MaxLink(disgenet_labels_conservative_df, adj_matrix_apid_huri)\n",
    "disease_conservative_maxlink.index = graph.vs['name']\n",
    "disease_conservative_maxlink.to_csv('../../data/processed/metrics/disease_conservative_maxlink.csv')"
   ]
  },
  {
   "cell_type": "markdown",
   "metadata": {},
   "source": [
    "# False Positives"
   ]
  },
  {
   "cell_type": "code",
   "execution_count": 15,
   "metadata": {},
   "outputs": [],
   "source": [
    "reactome_proteins_indexes_fp = pd.read_csv('../../data/processed/reactome_protein_indexes_fp.csv')\n",
    "disgenet_proteins_indexes_conservative_fp = pd.read_csv('../../data/processed/disgenet_protein_indexes_conservative_fp.csv')\n",
    "disgenet_proteins_indexes_sca_fp = pd.read_csv('../../data/processed/disgenet_protein_indexes_fp.csv')"
   ]
  },
  {
   "cell_type": "code",
   "execution_count": 16,
   "metadata": {},
   "outputs": [],
   "source": [
    "reactome_proteins_indexes_fp['fp_proteins'] = reactome_proteins_indexes_fp['fp_proteins'].apply(literal_eval)\n",
    "disgenet_proteins_indexes_conservative_fp['fp_proteins'] = disgenet_proteins_indexes_conservative_fp['fp_proteins'].apply(literal_eval)\n",
    "disgenet_proteins_indexes_sca_fp['fp_proteins'] = disgenet_proteins_indexes_sca_fp['fp_proteins'].apply(literal_eval)\n",
    "\n",
    "reactome_proteins_indexes_fp['fp_proteins_index'] = reactome_proteins_indexes_fp['fp_proteins_index'].apply(literal_eval)\n",
    "disgenet_proteins_indexes_conservative_fp['fp_proteins_index'] = disgenet_proteins_indexes_conservative_fp['fp_proteins_index'].apply(literal_eval)\n",
    "disgenet_proteins_indexes_sca_fp['fp_proteins_index'] = disgenet_proteins_indexes_sca_fp['fp_proteins_index'].apply(literal_eval)"
   ]
  },
  {
   "cell_type": "code",
   "execution_count": 17,
   "metadata": {},
   "outputs": [],
   "source": [
    "reactome_proteins_indexes_fp.drop(columns=['proteins_ids', 'protein_index'], inplace=True)\n",
    "reactome_proteins_indexes_fp = reactome_proteins_indexes_fp[['process', 'fp_proteins', 'fp_proteins_index']]\n",
    "reactome_proteins_indexes_fp.columns = ['process', 'proteins_ids', 'protein_index']\n",
    "reactome_proteins_indexes_fp['n_proteins'] = reactome_proteins_indexes_fp['proteins_ids'].apply(lambda row: len(row))"
   ]
  },
  {
   "cell_type": "code",
   "execution_count": 18,
   "metadata": {},
   "outputs": [],
   "source": [
    "disgenet_proteins_indexes_conservative_fp.drop(columns=['proteins_ids', 'protein_index'], inplace=True)\n",
    "disgenet_proteins_indexes_conservative_fp = disgenet_proteins_indexes_conservative_fp[['process', 'fp_proteins', 'fp_proteins_index']]\n",
    "disgenet_proteins_indexes_conservative_fp.columns = ['process', 'proteins_ids', 'protein_index']\n",
    "disgenet_proteins_indexes_conservative_fp['n_proteins'] = disgenet_proteins_indexes_conservative_fp['proteins_ids'].apply(lambda row: len(row))\n",
    "\n",
    "disgenet_proteins_indexes_sca_fp.drop(columns=['proteins_ids', 'protein_index'], inplace=True)\n",
    "disgenet_proteins_indexes_sca_fp = disgenet_proteins_indexes_sca_fp[['process', 'fp_proteins', 'fp_proteins_index']]\n",
    "disgenet_proteins_indexes_sca_fp.columns = ['process', 'proteins_ids', 'protein_index']\n",
    "disgenet_proteins_indexes_sca_fp['n_proteins'] = disgenet_proteins_indexes_sca_fp['proteins_ids'].apply(lambda row: len(row))"
   ]
  },
  {
   "cell_type": "code",
   "execution_count": 20,
   "metadata": {},
   "outputs": [],
   "source": [
    "reactome_labels_fp_df = pd.read_csv(\"../../data/processed/reactome_labels_fp.csv\", sep=',', names=reactome_proteins_indexes_fp['process'].values)\n",
    "disgenet_labels_fp_df = pd.read_csv(\"../../data/processed/disgenet_labels_fp.csv\", sep=',', names=disgenet_proteins_indexes_sca_fp['process'].values)\n",
    "disgenet_conservative_labels_fp_df = pd.read_csv(\"../../data/processed/disgenet_conservative_labels_fp.csv\", sep=',', names=disgenet_proteins_indexes_conservative_fp['process'].values)"
   ]
  },
  {
   "cell_type": "code",
   "execution_count": 26,
   "metadata": {},
   "outputs": [
    {
     "data": {
      "application/vnd.jupyter.widget-view+json": {
       "model_id": "b96d2941769843c4b9182544f2e12fac",
       "version_major": 2,
       "version_minor": 0
      },
      "text/plain": [
       "  0%|          | 0/429 [00:00<?, ?it/s]"
      ]
     },
     "metadata": {},
     "output_type": "display_data"
    }
   ],
   "source": [
    "process_maxlink_fp = MaxLink(reactome_labels_fp_df, adj_matrix_apid_huri)\n",
    "process_maxlink_fp.index = graph.vs['name']\n",
    "process_maxlink_fp.to_csv('../../data/processed/metrics/process_maxlink_fp.csv')"
   ]
  },
  {
   "cell_type": "code",
   "execution_count": 27,
   "metadata": {},
   "outputs": [
    {
     "data": {
      "application/vnd.jupyter.widget-view+json": {
       "model_id": "fed28400975642e3a7d77feb0b6186a6",
       "version_major": 2,
       "version_minor": 0
      },
      "text/plain": [
       "  0%|          | 0/203 [00:00<?, ?it/s]"
      ]
     },
     "metadata": {},
     "output_type": "display_data"
    }
   ],
   "source": [
    "disease_maxlink_fp = MaxLink(disgenet_labels_fp_df, adj_matrix_apid_huri)\n",
    "disease_maxlink_fp.index = graph.vs['name']\n",
    "disease_maxlink_fp.to_csv('../../data/processed/metrics/disease_maxlink_fp.csv')"
   ]
  },
  {
   "cell_type": "code",
   "execution_count": 28,
   "metadata": {},
   "outputs": [
    {
     "data": {
      "application/vnd.jupyter.widget-view+json": {
       "model_id": "c7ee88a814e44f7c92c7b11cf0618e02",
       "version_major": 2,
       "version_minor": 0
      },
      "text/plain": [
       "  0%|          | 0/301 [00:00<?, ?it/s]"
      ]
     },
     "metadata": {},
     "output_type": "display_data"
    }
   ],
   "source": [
    "disease_conservative_maxlink_fp = MaxLink(disgenet_conservative_labels_fp_df, adj_matrix_apid_huri)\n",
    "disease_conservative_maxlink_fp.index = graph.vs['name']\n",
    "disease_conservative_maxlink_fp.to_csv('../../data/processed/metrics/disease_conservative_maxlink_fp.csv')"
   ]
  }
 ],
 "metadata": {
  "kernelspec": {
   "display_name": "Python 3.8.8 ('base')",
   "language": "python",
   "name": "python3"
  },
  "language_info": {
   "codemirror_mode": {
    "name": "ipython",
    "version": 3
   },
   "file_extension": ".py",
   "mimetype": "text/x-python",
   "name": "python",
   "nbconvert_exporter": "python",
   "pygments_lexer": "ipython3",
   "version": "3.8.8 (default, Apr 13 2021, 15:08:03) [MSC v.1916 64 bit (AMD64)]"
  },
  "orig_nbformat": 4,
  "vscode": {
   "interpreter": {
    "hash": "42555cd0c5f1594a81e40866f5733b2cbf65026c937bf0149d49f47f234897c3"
   }
  }
 },
 "nbformat": 4,
 "nbformat_minor": 2
}
