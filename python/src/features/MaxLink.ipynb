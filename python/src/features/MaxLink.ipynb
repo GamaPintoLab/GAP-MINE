{
 "cells": [
  {
   "cell_type": "code",
   "execution_count": 1,
   "metadata": {},
   "outputs": [],
   "source": [
    "import pandas as pd\n",
    "from igraph import Graph\n",
    "import disease_process_proteins\n",
    "import metrics_functions\n",
    "import importlib\n",
    "import numpy as np\n",
    "from ast import literal_eval\n",
    "from tqdm.notebook import tqdm\n",
    "from scipy.stats import hypergeom"
   ]
  },
  {
   "cell_type": "code",
   "execution_count": 2,
   "metadata": {},
   "outputs": [],
   "source": [
    "graph = Graph.Read_GML(\"../../data/processed/graph_apid_huri\")"
   ]
  },
  {
   "cell_type": "code",
   "execution_count": 3,
   "metadata": {},
   "outputs": [],
   "source": [
    "adj_matrix_apid_huri = np.load(\"../../data/processed/adjacency_matrix_apid_huri.npy\")"
   ]
  },
  {
   "cell_type": "code",
   "execution_count": 4,
   "metadata": {},
   "outputs": [],
   "source": [
    "reactome_proteins_indexes_df = pd.read_csv(\"../../data/processed/reactome_proteins_indexes_apid_huri.csv\", sep=',', header=0)\n",
    "disgenet_proteins_indexes_df = pd.read_csv(\"../../data/processed/disgenet_prot_index_main_comp.csv\", sep=',', header=0)\n",
    "disgenet_prot_index_main_comp = disgenet_proteins_indexes_df[disgenet_proteins_indexes_df['increase']<0.4]"
   ]
  },
  {
   "cell_type": "code",
   "execution_count": 5,
   "metadata": {},
   "outputs": [],
   "source": [
    "reactome_labels_df = pd.read_csv(\"../../data/processed/reactome_labels_apid_huri.csv\", sep=',', names=reactome_proteins_indexes_df['process'].values)\n",
    "reactome_labels_df['protein_id'] = graph.vs['name']\n",
    "reactome_labels_df.set_index('protein_id', inplace=True)\n",
    "\n",
    "disgenet_labels_df = pd.read_csv(\"../../data/processed/disgenet_filtered_labels_apid_huri.csv\", sep=',', names=disgenet_prot_index_main_comp['process'].values)\n",
    "disgenet_labels_df['protein_id'] = graph.vs['name']\n",
    "disgenet_labels_df.set_index('protein_id', inplace=True)\n",
    "\n",
    "disgenet_labels_conservative_df = pd.read_csv('../../data/processed/disgenet_conservative_labels_apid_huri.csv', names=disgenet_proteins_indexes_df['process'].values)\n",
    "disgenet_labels_conservative_df['protein_id'] = graph.vs['name']\n",
    "disgenet_labels_conservative_df.set_index('protein_id', inplace=True)"
   ]
  },
  {
   "cell_type": "code",
   "execution_count": 6,
   "metadata": {},
   "outputs": [],
   "source": [
    "def MaxLink(labels, adj):\n",
    "    proteins = labels.index\n",
    "    labels.reset_index(inplace=True, drop=True)\n",
    "    maxlink = {}\n",
    "    for module_name in tqdm(labels.columns):\n",
    "        maxlink[module_name] = []\n",
    "        module = labels[labels[module_name]==1].index.values\n",
    "        protein_degree_module = np.sum(adj[:,module], axis=1)\n",
    "        protein_degree = np.sum(adj, axis=1)\n",
    "        for i in range(len(protein_degree)):\n",
    "            connectivity = hypergeom.pmf(protein_degree_module[i], adj.shape[0], len(module), protein_degree[i])\n",
    "            if connectivity >= 0.5:\n",
    "                maxlink[module_name].append(0)\n",
    "            else:\n",
    "                maxlink[module_name].append(protein_degree_module[i])\n",
    "    maxlink_df = pd.DataFrame.from_dict(maxlink)\n",
    "    return maxlink_df\n",
    "\n"
   ]
  },
  {
   "cell_type": "code",
   "execution_count": 7,
   "metadata": {},
   "outputs": [
    {
     "data": {
      "application/vnd.jupyter.widget-view+json": {
       "model_id": "979289c502454556b6a8844abcc43e1b",
       "version_major": 2,
       "version_minor": 0
      },
      "text/plain": [
       "  0%|          | 0/429 [00:00<?, ?it/s]"
      ]
     },
     "metadata": {},
     "output_type": "display_data"
    }
   ],
   "source": [
    "process_maxlink = MaxLink(reactome_labels_df, adj_matrix_apid_huri)\n",
    "process_maxlink.index = graph.vs['name']\n",
    "process_maxlink.to_csv('../../data/processed/metrics/process_maxlink.csv')"
   ]
  },
  {
   "cell_type": "code",
   "execution_count": 34,
   "metadata": {},
   "outputs": [
    {
     "data": {
      "application/vnd.jupyter.widget-view+json": {
       "model_id": "3a949d5dc2d54918ae7ac8fd41e4b5f1",
       "version_major": 2,
       "version_minor": 0
      },
      "text/plain": [
       "  0%|          | 0/203 [00:00<?, ?it/s]"
      ]
     },
     "metadata": {},
     "output_type": "display_data"
    }
   ],
   "source": [
    "disease_maxlink = MaxLink(disgenet_labels_df, adj_matrix_apid_huri)\n",
    "disease_maxlink.index = graph.vs['name']\n",
    "disease_maxlink.to_csv('../../data/processed/metrics/disease_maxlink.csv')"
   ]
  },
  {
   "cell_type": "code",
   "execution_count": 8,
   "metadata": {},
   "outputs": [
    {
     "data": {
      "application/vnd.jupyter.widget-view+json": {
       "model_id": "7fb497bd5e274b818bb399d305162ef9",
       "version_major": 2,
       "version_minor": 0
      },
      "text/plain": [
       "  0%|          | 0/301 [00:00<?, ?it/s]"
      ]
     },
     "metadata": {},
     "output_type": "display_data"
    }
   ],
   "source": [
    "disease_conservative_maxlink = MaxLink(disgenet_labels_conservative_df, adj_matrix_apid_huri)\n",
    "disease_conservative_maxlink.index = graph.vs['name']\n",
    "disease_conservative_maxlink.to_csv('../../data/processed/metrics/disease_conservative_maxlink.csv')"
   ]
  }
 ],
 "metadata": {
  "kernelspec": {
   "display_name": "Python 3.8.8 ('base')",
   "language": "python",
   "name": "python3"
  },
  "language_info": {
   "codemirror_mode": {
    "name": "ipython",
    "version": 3
   },
   "file_extension": ".py",
   "mimetype": "text/x-python",
   "name": "python",
   "nbconvert_exporter": "python",
   "pygments_lexer": "ipython3",
   "version": "3.8.8"
  },
  "orig_nbformat": 4,
  "vscode": {
   "interpreter": {
    "hash": "42555cd0c5f1594a81e40866f5733b2cbf65026c937bf0149d49f47f234897c3"
   }
  }
 },
 "nbformat": 4,
 "nbformat_minor": 2
}
