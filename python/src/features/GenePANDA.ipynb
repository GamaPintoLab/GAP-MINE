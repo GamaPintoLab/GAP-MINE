{
 "cells": [
  {
   "cell_type": "code",
   "execution_count": 1,
   "metadata": {},
   "outputs": [],
   "source": [
    "import pandas as pd\n",
    "from igraph import Graph\n",
    "import disease_process_proteins\n",
    "import metrics_functions\n",
    "import importlib\n",
    "import numpy as np\n",
    "from ast import literal_eval\n",
    "from tqdm.notebook import tqdm"
   ]
  },
  {
   "cell_type": "code",
   "execution_count": 2,
   "metadata": {},
   "outputs": [],
   "source": [
    "graph = Graph.Read_GML(\"../../data/processed/graph_apid_huri\")"
   ]
  },
  {
   "cell_type": "code",
   "execution_count": 4,
   "metadata": {},
   "outputs": [],
   "source": [
    "reactome_proteins_indexes_df = pd.read_csv(\"../../data/processed/reactome_proteins_indexes_apid_huri.csv\", sep=',', header=0)\n",
    "disgenet_proteins_indexes_df = pd.read_csv(\"../../data/processed/disgenet_prot_index_main_comp.csv\", sep=',', header=0)\n",
    "disgenet_prot_index_main_comp = disgenet_proteins_indexes_df[disgenet_proteins_indexes_df['increase']<0.4]"
   ]
  },
  {
   "cell_type": "code",
   "execution_count": 5,
   "metadata": {},
   "outputs": [],
   "source": [
    "reactome_labels_df = pd.read_csv(\"../../data/processed/reactome_labels_apid_huri.csv\", sep=',', names=reactome_proteins_indexes_df['process'].values)\n",
    "reactome_labels_df['protein_id'] = graph.vs['name']\n",
    "reactome_labels_df.set_index('protein_id', inplace=True)\n",
    "\n",
    "disgenet_labels_df = pd.read_csv(\"../../data/processed/disgenet_filtered_labels_apid_huri.csv\", sep=',', names=disgenet_prot_index_main_comp['process'].values)\n",
    "disgenet_labels_df['protein_id'] = graph.vs['name']\n",
    "disgenet_labels_df.set_index('protein_id', inplace=True)\n",
    "\n",
    "disgenet_labels_conservative_df = pd.read_csv('../../data/processed/disgenet_conservative_labels_apid_huri.csv', names=disgenet_proteins_indexes_df['process'].values)\n",
    "disgenet_labels_conservative_df['protein_id'] = graph.vs['name']\n",
    "disgenet_labels_conservative_df.set_index('protein_id', inplace=True)"
   ]
  },
  {
   "cell_type": "code",
   "execution_count": 6,
   "metadata": {},
   "outputs": [],
   "source": [
    "sp = np.array(graph.shortest_paths())"
   ]
  },
  {
   "cell_type": "code",
   "execution_count": 7,
   "metadata": {},
   "outputs": [],
   "source": [
    "def genePANDA(graph, labels, sp):\n",
    "    proteins = graph.vs['name']\n",
    "    average_distance = np.sum(sp, axis=1)/len(graph.vs['name'])\n",
    "    average_distance_sqrt = np.sqrt(np.dot(average_distance[:,None],average_distance[None,:]))\n",
    "    raw_distance = np.divide(sp, average_distance_sqrt)\n",
    "    labels.reset_index(drop=True, inplace=True)\n",
    "    genePANDA_proba = {}\n",
    "    for module_name in tqdm(labels.columns):\n",
    "        module = labels[labels[module_name]==1].index.values\n",
    "        module_distance = raw_distance[:,module]\n",
    "        weights = (np.sum(raw_distance, axis=1)/len(graph.vs['name'])) - (np.sum(module_distance, axis=1)/len(module))\n",
    "        weights_labels_df = pd.DataFrame(labels[module_name])\n",
    "        weights_labels_df['weights'] = weights\n",
    "        weights_labels_df.sort_values(by='weights', inplace=True, ascending=False)\n",
    "        weights_labels_df.reset_index(inplace=True)\n",
    "        weights_labels_df.columns = ['true_index', 'label', 'weight']\n",
    "        weights_labels_df.reset_index(inplace=True)\n",
    "        weights_labels_df.set_index('true_index', inplace=True)\n",
    "        weights_labels_df['P'] = weights_labels_df.apply(lambda row: row['index']+1, axis=1)\n",
    "        weights_labels_df['TP'] = np.cumsum(weights_labels_df['label'])\n",
    "        weights_labels_df['probability'] = weights_labels_df['TP']/weights_labels_df['P']\n",
    "        weights_labels_df.sort_index(inplace=True)\n",
    "        genePANDA_proba[module_name] = weights_labels_df['probability'].values\n",
    "    genePANDA_df = pd.DataFrame.from_dict(genePANDA_proba, orient='columns')    \n",
    "    genePANDA_df.index = graph.vs['name']\n",
    "    return genePANDA_df"
   ]
  },
  {
   "cell_type": "code",
   "execution_count": 8,
   "metadata": {},
   "outputs": [
    {
     "data": {
      "application/vnd.jupyter.widget-view+json": {
       "model_id": "5c62461cd3c442fcae5917a45e7625e5",
       "version_major": 2,
       "version_minor": 0
      },
      "text/plain": [
       "  0%|          | 0/429 [00:00<?, ?it/s]"
      ]
     },
     "metadata": {},
     "output_type": "display_data"
    }
   ],
   "source": [
    "process_genePANDA = genePANDA(graph, reactome_labels_df, sp)\n",
    "process_genePANDA.to_csv('../../data/processed/metrics/process_genepanda.csv')"
   ]
  },
  {
   "cell_type": "code",
   "execution_count": 12,
   "metadata": {},
   "outputs": [
    {
     "data": {
      "application/vnd.jupyter.widget-view+json": {
       "model_id": "b51d5b71f1674bdd8ad1f1c8e6a63e39",
       "version_major": 2,
       "version_minor": 0
      },
      "text/plain": [
       "  0%|          | 0/203 [00:00<?, ?it/s]"
      ]
     },
     "metadata": {},
     "output_type": "display_data"
    }
   ],
   "source": [
    "disease_genePANDA = genePANDA(graph, disgenet_labels_df, sp)\n",
    "disease_genePANDA.to_csv('../../data/processed/metrics/disease_genepanda.csv')"
   ]
  },
  {
   "cell_type": "code",
   "execution_count": 11,
   "metadata": {},
   "outputs": [
    {
     "data": {
      "application/vnd.jupyter.widget-view+json": {
       "model_id": "561e6978c843434696b4d26561e8cf85",
       "version_major": 2,
       "version_minor": 0
      },
      "text/plain": [
       "  0%|          | 0/301 [00:00<?, ?it/s]"
      ]
     },
     "metadata": {},
     "output_type": "display_data"
    }
   ],
   "source": [
    "disease_conservative_genePANDA = genePANDA(graph, disgenet_labels_conservative_df, sp)\n",
    "disease_conservative_genePANDA.to_csv('../../data/processed/metrics/disease_genepanda_conservative.csv')"
   ]
  }
 ],
 "metadata": {
  "kernelspec": {
   "display_name": "Python 3.8.8 ('base')",
   "language": "python",
   "name": "python3"
  },
  "language_info": {
   "codemirror_mode": {
    "name": "ipython",
    "version": 3
   },
   "file_extension": ".py",
   "mimetype": "text/x-python",
   "name": "python",
   "nbconvert_exporter": "python",
   "pygments_lexer": "ipython3",
   "version": "3.8.8"
  },
  "orig_nbformat": 4,
  "vscode": {
   "interpreter": {
    "hash": "42555cd0c5f1594a81e40866f5733b2cbf65026c937bf0149d49f47f234897c3"
   }
  }
 },
 "nbformat": 4,
 "nbformat_minor": 2
}
