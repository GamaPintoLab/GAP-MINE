{
 "cells": [
  {
   "cell_type": "code",
   "execution_count": 35,
   "metadata": {},
   "outputs": [],
   "source": [
    "import pandas as pd\n",
    "import numpy as np\n",
    "from igraph import Graph\n",
    "import sys\n",
    "sys.path.insert(0, '../features')\n",
    "from disease_process_proteins import get_protein_index\n",
    "from steiner_tree import sca\n",
    "from tqdm.notebook import tqdm"
   ]
  },
  {
   "attachments": {},
   "cell_type": "markdown",
   "metadata": {},
   "source": [
    "# STRING PPI Conversion"
   ]
  },
  {
   "cell_type": "code",
   "execution_count": 64,
   "metadata": {},
   "outputs": [],
   "source": [
    "string_ppi = pd.read_csv('../../data/raw/9606.protein.links.v11.5.txt', sep=' ')\n",
    "string_aliases = pd.read_csv('../../data/raw/9606.protein.aliases.v11.5.txt', sep='\\t')\n",
    "conversion_df = pd.read_csv('../../data/interim/HGNC symbols.txt')"
   ]
  },
  {
   "cell_type": "code",
   "execution_count": 65,
   "metadata": {},
   "outputs": [
    {
     "data": {
      "text/html": [
       "<div>\n",
       "<style scoped>\n",
       "    .dataframe tbody tr th:only-of-type {\n",
       "        vertical-align: middle;\n",
       "    }\n",
       "\n",
       "    .dataframe tbody tr th {\n",
       "        vertical-align: top;\n",
       "    }\n",
       "\n",
       "    .dataframe thead th {\n",
       "        text-align: right;\n",
       "    }\n",
       "</style>\n",
       "<table border=\"1\" class=\"dataframe\">\n",
       "  <thead>\n",
       "    <tr style=\"text-align: right;\">\n",
       "      <th></th>\n",
       "      <th>protein1</th>\n",
       "      <th>protein2</th>\n",
       "      <th>combined_score</th>\n",
       "    </tr>\n",
       "  </thead>\n",
       "  <tbody>\n",
       "    <tr>\n",
       "      <th>0</th>\n",
       "      <td>9606.ENSP00000000233</td>\n",
       "      <td>9606.ENSP00000379496</td>\n",
       "      <td>155</td>\n",
       "    </tr>\n",
       "    <tr>\n",
       "      <th>1</th>\n",
       "      <td>9606.ENSP00000000233</td>\n",
       "      <td>9606.ENSP00000314067</td>\n",
       "      <td>197</td>\n",
       "    </tr>\n",
       "    <tr>\n",
       "      <th>2</th>\n",
       "      <td>9606.ENSP00000000233</td>\n",
       "      <td>9606.ENSP00000263116</td>\n",
       "      <td>222</td>\n",
       "    </tr>\n",
       "    <tr>\n",
       "      <th>3</th>\n",
       "      <td>9606.ENSP00000000233</td>\n",
       "      <td>9606.ENSP00000361263</td>\n",
       "      <td>181</td>\n",
       "    </tr>\n",
       "    <tr>\n",
       "      <th>4</th>\n",
       "      <td>9606.ENSP00000000233</td>\n",
       "      <td>9606.ENSP00000409666</td>\n",
       "      <td>270</td>\n",
       "    </tr>\n",
       "  </tbody>\n",
       "</table>\n",
       "</div>"
      ],
      "text/plain": [
       "               protein1              protein2  combined_score\n",
       "0  9606.ENSP00000000233  9606.ENSP00000379496             155\n",
       "1  9606.ENSP00000000233  9606.ENSP00000314067             197\n",
       "2  9606.ENSP00000000233  9606.ENSP00000263116             222\n",
       "3  9606.ENSP00000000233  9606.ENSP00000361263             181\n",
       "4  9606.ENSP00000000233  9606.ENSP00000409666             270"
      ]
     },
     "execution_count": 65,
     "metadata": {},
     "output_type": "execute_result"
    }
   ],
   "source": [
    "string_ppi.head()"
   ]
  },
  {
   "cell_type": "code",
   "execution_count": 66,
   "metadata": {},
   "outputs": [
    {
     "data": {
      "text/html": [
       "<div>\n",
       "<style scoped>\n",
       "    .dataframe tbody tr th:only-of-type {\n",
       "        vertical-align: middle;\n",
       "    }\n",
       "\n",
       "    .dataframe tbody tr th {\n",
       "        vertical-align: top;\n",
       "    }\n",
       "\n",
       "    .dataframe thead th {\n",
       "        text-align: right;\n",
       "    }\n",
       "</style>\n",
       "<table border=\"1\" class=\"dataframe\">\n",
       "  <thead>\n",
       "    <tr style=\"text-align: right;\">\n",
       "      <th></th>\n",
       "      <th>#string_protein_id</th>\n",
       "      <th>alias</th>\n",
       "      <th>source</th>\n",
       "    </tr>\n",
       "  </thead>\n",
       "  <tbody>\n",
       "    <tr>\n",
       "      <th>32</th>\n",
       "      <td>9606.ENSP00000000233</td>\n",
       "      <td>ARF5</td>\n",
       "      <td>Ensembl_HGNC</td>\n",
       "    </tr>\n",
       "    <tr>\n",
       "      <th>244</th>\n",
       "      <td>9606.ENSP00000000412</td>\n",
       "      <td>M6PR</td>\n",
       "      <td>Ensembl_HGNC</td>\n",
       "    </tr>\n",
       "    <tr>\n",
       "      <th>516</th>\n",
       "      <td>9606.ENSP00000001008</td>\n",
       "      <td>FKBP4</td>\n",
       "      <td>Ensembl_HGNC</td>\n",
       "    </tr>\n",
       "    <tr>\n",
       "      <th>712</th>\n",
       "      <td>9606.ENSP00000001146</td>\n",
       "      <td>CYP26B1</td>\n",
       "      <td>Ensembl_HGNC</td>\n",
       "    </tr>\n",
       "    <tr>\n",
       "      <th>976</th>\n",
       "      <td>9606.ENSP00000002125</td>\n",
       "      <td>NDUFAF7</td>\n",
       "      <td>Ensembl_HGNC</td>\n",
       "    </tr>\n",
       "  </tbody>\n",
       "</table>\n",
       "</div>"
      ],
      "text/plain": [
       "       #string_protein_id    alias        source\n",
       "32   9606.ENSP00000000233     ARF5  Ensembl_HGNC\n",
       "244  9606.ENSP00000000412     M6PR  Ensembl_HGNC\n",
       "516  9606.ENSP00000001008    FKBP4  Ensembl_HGNC\n",
       "712  9606.ENSP00000001146  CYP26B1  Ensembl_HGNC\n",
       "976  9606.ENSP00000002125  NDUFAF7  Ensembl_HGNC"
      ]
     },
     "execution_count": 66,
     "metadata": {},
     "output_type": "execute_result"
    }
   ],
   "source": [
    "string_aliases[string_aliases['source']=='Ensembl_HGNC'].head() \n",
    "# Provides with conversion from ENSP to HGNC GeneName"
   ]
  },
  {
   "cell_type": "code",
   "execution_count": 70,
   "metadata": {},
   "outputs": [],
   "source": [
    "string_aliases_hgnc = string_aliases[string_aliases['source']=='Ensembl_HGNC']\n",
    "# Ensures full coverage of identifiers"
   ]
  },
  {
   "cell_type": "code",
   "execution_count": 71,
   "metadata": {},
   "outputs": [],
   "source": [
    "filtered_alias = string_aliases_hgnc.drop_duplicates(subset=['#string_protein_id', 'alias'])"
   ]
  },
  {
   "cell_type": "code",
   "execution_count": 73,
   "metadata": {},
   "outputs": [
    {
     "data": {
      "text/html": [
       "<div>\n",
       "<style scoped>\n",
       "    .dataframe tbody tr th:only-of-type {\n",
       "        vertical-align: middle;\n",
       "    }\n",
       "\n",
       "    .dataframe tbody tr th {\n",
       "        vertical-align: top;\n",
       "    }\n",
       "\n",
       "    .dataframe thead th {\n",
       "        text-align: right;\n",
       "    }\n",
       "</style>\n",
       "<table border=\"1\" class=\"dataframe\">\n",
       "  <thead>\n",
       "    <tr style=\"text-align: right;\">\n",
       "      <th></th>\n",
       "      <th>#string_protein_id</th>\n",
       "      <th>alias</th>\n",
       "      <th>source</th>\n",
       "    </tr>\n",
       "  </thead>\n",
       "  <tbody>\n",
       "    <tr>\n",
       "      <th>3917207</th>\n",
       "      <td>9606.ENSP00000451768</td>\n",
       "      <td>KIAA0408</td>\n",
       "      <td>Ensembl_HGNC</td>\n",
       "    </tr>\n",
       "    <tr>\n",
       "      <th>3917264</th>\n",
       "      <td>9606.ENSP00000451768</td>\n",
       "      <td>SOGA3</td>\n",
       "      <td>Ensembl_HGNC</td>\n",
       "    </tr>\n",
       "    <tr>\n",
       "      <th>4027534</th>\n",
       "      <td>9606.ENSP00000469970</td>\n",
       "      <td>OPN1MW</td>\n",
       "      <td>Ensembl_HGNC</td>\n",
       "    </tr>\n",
       "    <tr>\n",
       "      <th>4027544</th>\n",
       "      <td>9606.ENSP00000469970</td>\n",
       "      <td>OPN1MW2</td>\n",
       "      <td>Ensembl_HGNC</td>\n",
       "    </tr>\n",
       "    <tr>\n",
       "      <th>4035263</th>\n",
       "      <td>9606.ENSP00000471017</td>\n",
       "      <td>MAGEA9</td>\n",
       "      <td>Ensembl_HGNC</td>\n",
       "    </tr>\n",
       "    <tr>\n",
       "      <th>4035282</th>\n",
       "      <td>9606.ENSP00000471017</td>\n",
       "      <td>MAGEA9B</td>\n",
       "      <td>Ensembl_HGNC</td>\n",
       "    </tr>\n",
       "    <tr>\n",
       "      <th>4045792</th>\n",
       "      <td>9606.ENSP00000472749</td>\n",
       "      <td>TMSB15A</td>\n",
       "      <td>Ensembl_HGNC</td>\n",
       "    </tr>\n",
       "    <tr>\n",
       "      <th>4045796</th>\n",
       "      <td>9606.ENSP00000472749</td>\n",
       "      <td>TMSB15B</td>\n",
       "      <td>Ensembl_HGNC</td>\n",
       "    </tr>\n",
       "    <tr>\n",
       "      <th>4061631</th>\n",
       "      <td>9606.ENSP00000475814</td>\n",
       "      <td>HIST2H2AA3</td>\n",
       "      <td>Ensembl_HGNC</td>\n",
       "    </tr>\n",
       "    <tr>\n",
       "      <th>4061634</th>\n",
       "      <td>9606.ENSP00000475814</td>\n",
       "      <td>HIST2H2AA4</td>\n",
       "      <td>Ensembl_HGNC</td>\n",
       "    </tr>\n",
       "    <tr>\n",
       "      <th>4089436</th>\n",
       "      <td>9606.ENSP00000478426</td>\n",
       "      <td>TBC1D3</td>\n",
       "      <td>Ensembl_HGNC</td>\n",
       "    </tr>\n",
       "    <tr>\n",
       "      <th>4089447</th>\n",
       "      <td>9606.ENSP00000478426</td>\n",
       "      <td>TBC1D3C</td>\n",
       "      <td>Ensembl_HGNC</td>\n",
       "    </tr>\n",
       "    <tr>\n",
       "      <th>4140442</th>\n",
       "      <td>9606.ENSP00000481184</td>\n",
       "      <td>CT45A3</td>\n",
       "      <td>Ensembl_HGNC</td>\n",
       "    </tr>\n",
       "    <tr>\n",
       "      <th>4140445</th>\n",
       "      <td>9606.ENSP00000481184</td>\n",
       "      <td>CT45A4</td>\n",
       "      <td>Ensembl_HGNC</td>\n",
       "    </tr>\n",
       "    <tr>\n",
       "      <th>4140449</th>\n",
       "      <td>9606.ENSP00000481184</td>\n",
       "      <td>CT45A6</td>\n",
       "      <td>Ensembl_HGNC</td>\n",
       "    </tr>\n",
       "    <tr>\n",
       "      <th>4147819</th>\n",
       "      <td>9606.ENSP00000481824</td>\n",
       "      <td>C1QTNF5</td>\n",
       "      <td>Ensembl_HGNC</td>\n",
       "    </tr>\n",
       "    <tr>\n",
       "      <th>4147864</th>\n",
       "      <td>9606.ENSP00000481824</td>\n",
       "      <td>MFRP</td>\n",
       "      <td>Ensembl_HGNC</td>\n",
       "    </tr>\n",
       "  </tbody>\n",
       "</table>\n",
       "</div>"
      ],
      "text/plain": [
       "           #string_protein_id       alias        source\n",
       "3917207  9606.ENSP00000451768    KIAA0408  Ensembl_HGNC\n",
       "3917264  9606.ENSP00000451768       SOGA3  Ensembl_HGNC\n",
       "4027534  9606.ENSP00000469970      OPN1MW  Ensembl_HGNC\n",
       "4027544  9606.ENSP00000469970     OPN1MW2  Ensembl_HGNC\n",
       "4035263  9606.ENSP00000471017      MAGEA9  Ensembl_HGNC\n",
       "4035282  9606.ENSP00000471017     MAGEA9B  Ensembl_HGNC\n",
       "4045792  9606.ENSP00000472749     TMSB15A  Ensembl_HGNC\n",
       "4045796  9606.ENSP00000472749     TMSB15B  Ensembl_HGNC\n",
       "4061631  9606.ENSP00000475814  HIST2H2AA3  Ensembl_HGNC\n",
       "4061634  9606.ENSP00000475814  HIST2H2AA4  Ensembl_HGNC\n",
       "4089436  9606.ENSP00000478426      TBC1D3  Ensembl_HGNC\n",
       "4089447  9606.ENSP00000478426     TBC1D3C  Ensembl_HGNC\n",
       "4140442  9606.ENSP00000481184      CT45A3  Ensembl_HGNC\n",
       "4140445  9606.ENSP00000481184      CT45A4  Ensembl_HGNC\n",
       "4140449  9606.ENSP00000481184      CT45A6  Ensembl_HGNC\n",
       "4147819  9606.ENSP00000481824     C1QTNF5  Ensembl_HGNC\n",
       "4147864  9606.ENSP00000481824        MFRP  Ensembl_HGNC"
      ]
     },
     "execution_count": 73,
     "metadata": {},
     "output_type": "execute_result"
    }
   ],
   "source": [
    "pd.concat(g for _, g in filtered_alias.groupby(\"#string_protein_id\") if len(g) > 1) # String IDs with more than one HGNC Alias - manual curation with information from pharos.nih.gov/targets/."
   ]
  },
  {
   "cell_type": "code",
   "execution_count": 78,
   "metadata": {},
   "outputs": [],
   "source": [
    "aliases = filtered_alias[~filtered_alias['alias'].isin(['KIAA0408', 'OPN1MW2', 'MAGEA9B', 'TMSB15B', 'HIST2H2AA4', 'TBC1D3', 'CT45A4', 'CT45A6', 'C1QTNF5'])][['#string_protein_id', 'alias']]"
   ]
  },
  {
   "cell_type": "code",
   "execution_count": 86,
   "metadata": {},
   "outputs": [],
   "source": [
    "aliases.set_index('#string_protein_id', inplace=True, drop=True)"
   ]
  },
  {
   "cell_type": "code",
   "execution_count": 89,
   "metadata": {},
   "outputs": [],
   "source": [
    "aliases_dict = aliases.to_dict(orient='dict')['alias']"
   ]
  },
  {
   "cell_type": "code",
   "execution_count": 95,
   "metadata": {},
   "outputs": [],
   "source": [
    "string_ppi['gene1'] = string_ppi['protein1'].apply(lambda row: aliases_dict[row] if row in aliases_dict.keys() else np.nan)\n",
    "string_ppi['gene2'] = string_ppi['protein2'].apply(lambda row: aliases_dict[row] if row in aliases_dict.keys() else np.nan)"
   ]
  },
  {
   "cell_type": "code",
   "execution_count": 107,
   "metadata": {},
   "outputs": [],
   "source": [
    "hgnc_string_ppi = string_ppi[['gene1', 'gene2', 'combined_score']].dropna(subset=['gene1', 'gene2'])"
   ]
  },
  {
   "cell_type": "code",
   "execution_count": 108,
   "metadata": {},
   "outputs": [],
   "source": [
    "hgnc_string_ppi['weight'] = hgnc_string_ppi['combined_score']/1000"
   ]
  },
  {
   "cell_type": "code",
   "execution_count": 120,
   "metadata": {},
   "outputs": [],
   "source": [
    "hgnc_string_ppi.to_csv('../../data/processed/ppis/string.csv', index=False)"
   ]
  },
  {
   "cell_type": "code",
   "execution_count": 36,
   "metadata": {},
   "outputs": [],
   "source": [
    "hgnc_string_ppi = pd.read_csv('../../data/processed/ppis/string.csv')"
   ]
  },
  {
   "attachments": {},
   "cell_type": "markdown",
   "metadata": {},
   "source": [
    "# STRING Graph Creation"
   ]
  },
  {
   "cell_type": "code",
   "execution_count": null,
   "metadata": {},
   "outputs": [
    {
     "data": {
      "text/plain": [
       "True"
      ]
     },
     "execution_count": 20,
     "metadata": {},
     "output_type": "execute_result"
    }
   ],
   "source": [
    "graph.is_connected()"
   ]
  },
  {
   "cell_type": "code",
   "execution_count": 26,
   "metadata": {},
   "outputs": [],
   "source": [
    "graph = graph.simplify(combine_edges=dict(weight=\"max\"))"
   ]
  },
  {
   "cell_type": "code",
   "execution_count": 31,
   "metadata": {},
   "outputs": [
    {
     "name": "stdout",
     "output_type": "stream",
     "text": [
      "Graph has 19035 nodes connected by 5849499 edges.\n"
     ]
    }
   ],
   "source": [
    "print('Graph has {} nodes connected by {} edges.'.format(graph.vcount(), graph.ecount()))"
   ]
  },
  {
   "cell_type": "code",
   "execution_count": 32,
   "metadata": {},
   "outputs": [],
   "source": [
    "graph.write_gml(\"../../data/processed/graph_string_weighted\")"
   ]
  },
  {
   "cell_type": "code",
   "execution_count": 121,
   "metadata": {},
   "outputs": [],
   "source": [
    "graph.write_gml(\"../../data/processed/graph_string\")"
   ]
  },
  {
   "cell_type": "code",
   "execution_count": 38,
   "metadata": {},
   "outputs": [],
   "source": [
    "adj_matrix = graph.get_adjacency()\n",
    "adj_matrix = np.array(adj_matrix.data)\n",
    "np.save('../../data/processed/string_adjacency_matrix.npy', adj_matrix, allow_pickle=True, fix_imports=True)"
   ]
  },
  {
   "cell_type": "code",
   "execution_count": 2,
   "metadata": {},
   "outputs": [],
   "source": [
    "graph = Graph.Read_GML(\"../../data/processed/graph_string\")"
   ]
  },
  {
   "cell_type": "code",
   "execution_count": 3,
   "metadata": {},
   "outputs": [],
   "source": [
    "adj_matrix = np.load(\"../../data/processed/string_adjacency_matrix.npy\")"
   ]
  },
  {
   "attachments": {},
   "cell_type": "markdown",
   "metadata": {},
   "source": [
    "# STRING Process and Disease Modules"
   ]
  },
  {
   "cell_type": "code",
   "execution_count": 4,
   "metadata": {},
   "outputs": [],
   "source": [
    "reactome = pd.read_csv('../../data/interim/ReactomeReactions.csv')\n",
    "disgenet = pd.read_csv('../../data/interim/disgenet.csv')"
   ]
  },
  {
   "cell_type": "code",
   "execution_count": 5,
   "metadata": {},
   "outputs": [],
   "source": [
    "filtered_reactome = reactome[reactome['HGNC ID'].isin(graph.vs['name'])]\n",
    "filtered_disgenet = disgenet[disgenet['geneSymbol'].isin(graph.vs['name'])]\n",
    "#filtered_disgenet = filtered_disgenet[filtered_disgenet['diseaseType']=='disease']"
   ]
  },
  {
   "cell_type": "code",
   "execution_count": 6,
   "metadata": {},
   "outputs": [],
   "source": [
    "reactome_modules = get_protein_index(filtered_reactome, 'reactome', graph)\n",
    "reactome_modules['module_size'] = reactome_modules['protein_index'].apply(lambda row: len(row))\n",
    "reactome_modules = reactome_modules[(reactome_modules['module_size']>=50)&(reactome_modules['module_size']<=300)].reset_index(drop=True)"
   ]
  },
  {
   "cell_type": "code",
   "execution_count": 7,
   "metadata": {},
   "outputs": [],
   "source": [
    "disgenet_modules = get_protein_index(filtered_disgenet, 'disgenet', graph)\n",
    "disgenet_modules['len'] = disgenet_modules['protein_index'].apply(lambda row: len(row))\n",
    "disgenet_modules = disgenet_modules[(disgenet_modules['len']>=50)&(disgenet_modules['len']<=300)].reset_index(drop=True)"
   ]
  },
  {
   "attachments": {},
   "cell_type": "markdown",
   "metadata": {},
   "source": [
    "## SCA & Conservative Modules"
   ]
  },
  {
   "cell_type": "code",
   "execution_count": 8,
   "metadata": {},
   "outputs": [
    {
     "data": {
      "text/html": [
       "<div>\n",
       "<style scoped>\n",
       "    .dataframe tbody tr th:only-of-type {\n",
       "        vertical-align: middle;\n",
       "    }\n",
       "\n",
       "    .dataframe tbody tr th {\n",
       "        vertical-align: top;\n",
       "    }\n",
       "\n",
       "    .dataframe thead th {\n",
       "        text-align: right;\n",
       "    }\n",
       "</style>\n",
       "<table border=\"1\" class=\"dataframe\">\n",
       "  <thead>\n",
       "    <tr style=\"text-align: right;\">\n",
       "      <th></th>\n",
       "      <th>process</th>\n",
       "      <th>proteins_ids</th>\n",
       "      <th>protein_index</th>\n",
       "      <th>len</th>\n",
       "    </tr>\n",
       "  </thead>\n",
       "  <tbody>\n",
       "    <tr>\n",
       "      <th>0</th>\n",
       "      <td>C0000786</td>\n",
       "      <td>[AGTR1, AHR, APOE, ARNT, CEACAM1, CD7, CD8A, C...</td>\n",
       "      <td>[418, 431, 844, 1027, 2906, 2747, 2759, 2745, ...</td>\n",
       "      <td>107</td>\n",
       "    </tr>\n",
       "    <tr>\n",
       "      <th>1</th>\n",
       "      <td>C0000822</td>\n",
       "      <td>[AGTR1, AHR, APOE, ARNT, CEACAM1, CD7, CD8A, C...</td>\n",
       "      <td>[418, 431, 844, 1027, 2906, 2747, 2759, 2745, ...</td>\n",
       "      <td>107</td>\n",
       "    </tr>\n",
       "    <tr>\n",
       "      <th>2</th>\n",
       "      <td>C0001418</td>\n",
       "      <td>[ABL1, ALOX5, ALOX12B, APC, BIRC5, APOA1, APOE...</td>\n",
       "      <td>[101, 559, 556, 800, 1511, 821, 844, 1318, 262...</td>\n",
       "      <td>114</td>\n",
       "    </tr>\n",
       "    <tr>\n",
       "      <th>3</th>\n",
       "      <td>C0001787</td>\n",
       "      <td>[ACTG1, ADCY5, ANXA2, ATIC, CA2, CALCR, COL1A1...</td>\n",
       "      <td>[203, 306, 748, 1177, 2199, 2266, 3466, 3467, ...</td>\n",
       "      <td>61</td>\n",
       "    </tr>\n",
       "    <tr>\n",
       "      <th>4</th>\n",
       "      <td>C0001973</td>\n",
       "      <td>[NAT1, ABO, ADCY5, ADCY7, ADH1A, ADH1B, ADH1C,...</td>\n",
       "      <td>[10339, 106, 306, 308, 317, 318, 319, 320, 321...</td>\n",
       "      <td>260</td>\n",
       "    </tr>\n",
       "    <tr>\n",
       "      <th>...</th>\n",
       "      <td>...</td>\n",
       "      <td>...</td>\n",
       "      <td>...</td>\n",
       "      <td>...</td>\n",
       "    </tr>\n",
       "    <tr>\n",
       "      <th>296</th>\n",
       "      <td>C4552766</td>\n",
       "      <td>[AGTR1, AHR, APOE, ARNT, CEACAM1, CD7, CD8A, C...</td>\n",
       "      <td>[418, 431, 844, 1027, 2906, 2747, 2759, 2745, ...</td>\n",
       "      <td>107</td>\n",
       "    </tr>\n",
       "    <tr>\n",
       "      <th>297</th>\n",
       "      <td>C4704862</td>\n",
       "      <td>[ADCY7, ALOX12, AQP9, AREG, RERE, BTG1, C8B, C...</td>\n",
       "      <td>[308, 555, 876, 885, 13601, 1650, 2138, 2268, ...</td>\n",
       "      <td>125</td>\n",
       "    </tr>\n",
       "    <tr>\n",
       "      <th>298</th>\n",
       "      <td>C4707243</td>\n",
       "      <td>[ACTA2, ACVRL1, JAG1, BGN, CBS, COL1A1, COL1A2...</td>\n",
       "      <td>[199, 234, 7971, 1491, 2408, 3466, 3467, 3478,...</td>\n",
       "      <td>53</td>\n",
       "    </tr>\n",
       "    <tr>\n",
       "      <th>299</th>\n",
       "      <td>C4721453</td>\n",
       "      <td>[ABCA1, ALOX12, ATF3, CACNA1B, CASP9, CDKN2A, ...</td>\n",
       "      <td>[31, 555, 1151, 2224, 2375, 2878, 9183, 3738, ...</td>\n",
       "      <td>54</td>\n",
       "    </tr>\n",
       "    <tr>\n",
       "      <th>300</th>\n",
       "      <td>C4721507</td>\n",
       "      <td>[ABCA3, ACTA2, PARP1, AGT, AREG, BMP7, CALCA, ...</td>\n",
       "      <td>[36, 199, 11719, 416, 885, 1544, 2262, 2382, 2...</td>\n",
       "      <td>69</td>\n",
       "    </tr>\n",
       "  </tbody>\n",
       "</table>\n",
       "<p>301 rows × 4 columns</p>\n",
       "</div>"
      ],
      "text/plain": [
       "      process                                       proteins_ids  \\\n",
       "0    C0000786  [AGTR1, AHR, APOE, ARNT, CEACAM1, CD7, CD8A, C...   \n",
       "1    C0000822  [AGTR1, AHR, APOE, ARNT, CEACAM1, CD7, CD8A, C...   \n",
       "2    C0001418  [ABL1, ALOX5, ALOX12B, APC, BIRC5, APOA1, APOE...   \n",
       "3    C0001787  [ACTG1, ADCY5, ANXA2, ATIC, CA2, CALCR, COL1A1...   \n",
       "4    C0001973  [NAT1, ABO, ADCY5, ADCY7, ADH1A, ADH1B, ADH1C,...   \n",
       "..        ...                                                ...   \n",
       "296  C4552766  [AGTR1, AHR, APOE, ARNT, CEACAM1, CD7, CD8A, C...   \n",
       "297  C4704862  [ADCY7, ALOX12, AQP9, AREG, RERE, BTG1, C8B, C...   \n",
       "298  C4707243  [ACTA2, ACVRL1, JAG1, BGN, CBS, COL1A1, COL1A2...   \n",
       "299  C4721453  [ABCA1, ALOX12, ATF3, CACNA1B, CASP9, CDKN2A, ...   \n",
       "300  C4721507  [ABCA3, ACTA2, PARP1, AGT, AREG, BMP7, CALCA, ...   \n",
       "\n",
       "                                         protein_index  len  \n",
       "0    [418, 431, 844, 1027, 2906, 2747, 2759, 2745, ...  107  \n",
       "1    [418, 431, 844, 1027, 2906, 2747, 2759, 2745, ...  107  \n",
       "2    [101, 559, 556, 800, 1511, 821, 844, 1318, 262...  114  \n",
       "3    [203, 306, 748, 1177, 2199, 2266, 3466, 3467, ...   61  \n",
       "4    [10339, 106, 306, 308, 317, 318, 319, 320, 321...  260  \n",
       "..                                                 ...  ...  \n",
       "296  [418, 431, 844, 1027, 2906, 2747, 2759, 2745, ...  107  \n",
       "297  [308, 555, 876, 885, 13601, 1650, 2138, 2268, ...  125  \n",
       "298  [199, 234, 7971, 1491, 2408, 3466, 3467, 3478,...   53  \n",
       "299  [31, 555, 1151, 2224, 2375, 2878, 9183, 3738, ...   54  \n",
       "300  [36, 199, 11719, 416, 885, 1544, 2262, 2382, 2...   69  \n",
       "\n",
       "[301 rows x 4 columns]"
      ]
     },
     "execution_count": 8,
     "metadata": {},
     "output_type": "execute_result"
    }
   ],
   "source": [
    "disgenet_modules"
   ]
  },
  {
   "cell_type": "code",
   "execution_count": 9,
   "metadata": {},
   "outputs": [
    {
     "data": {
      "application/vnd.jupyter.widget-view+json": {
       "model_id": "dc301ca9ca5c463bb0f5040c1dcc49f8",
       "version_major": 2,
       "version_minor": 0
      },
      "text/plain": [
       "  0%|          | 0/301 [00:00<?, ?it/s]"
      ]
     },
     "metadata": {},
     "output_type": "display_data"
    }
   ],
   "source": [
    "tqdm.pandas()\n",
    "disgenet_modules['main_component'], disgenet_modules['conservative_module'], disgenet_modules['added_nodes'] = disgenet_modules.progress_apply(lambda row: sca(row['protein_index'],graph,adj_matrix), axis=1, result_type='expand').T.values"
   ]
  },
  {
   "cell_type": "code",
   "execution_count": 11,
   "metadata": {},
   "outputs": [],
   "source": [
    "disgenet_modules['len_sca'] = disgenet_modules['main_component'].apply(lambda x: len(x))\n",
    "disgenet_modules['len_conservative'] = disgenet_modules['conservative_module'].apply(lambda x: len(x))\n",
    "disgenet_modules['len_added_nodes'] = disgenet_modules['added_nodes'].apply(lambda x: len(x))"
   ]
  },
  {
   "cell_type": "code",
   "execution_count": 13,
   "metadata": {},
   "outputs": [],
   "source": [
    "disgenet_modules['main_component_ids'] = disgenet_modules.apply(lambda row: [graph.vs['name'][i] for i in row['main_component']], axis=1)\n",
    "disgenet_modules['conservative_module_ids'] = disgenet_modules.apply(lambda row: [graph.vs['name'][i] for i in row['conservative_module']], axis=1)\n",
    "disgenet_modules['added_nodes_ids'] = disgenet_modules.apply(lambda row: [graph.vs['name'][i] for i in row['added_nodes']], axis=1)"
   ]
  },
  {
   "cell_type": "code",
   "execution_count": 16,
   "metadata": {},
   "outputs": [],
   "source": [
    "disgenet_modules['increase'] = disgenet_modules.apply(lambda row: row['len_added_nodes']/row['len'], axis=1)"
   ]
  },
  {
   "cell_type": "code",
   "execution_count": 22,
   "metadata": {},
   "outputs": [
    {
     "data": {
      "text/plain": [
       "0.03636363636363636"
      ]
     },
     "execution_count": 22,
     "metadata": {},
     "output_type": "execute_result"
    }
   ],
   "source": [
    "disgenet_modules['increase'].max()"
   ]
  },
  {
   "attachments": {},
   "cell_type": "markdown",
   "metadata": {},
   "source": [
    "There is a very big difference between the connectivity observed in the STRING network and in the APID&HuRI networks. No SCA modules need to be discarded."
   ]
  },
  {
   "cell_type": "code",
   "execution_count": 23,
   "metadata": {},
   "outputs": [],
   "source": [
    "disgenet_modules.to_csv('../../data/processed/string_disgenet_modules.csv', index=False)"
   ]
  },
  {
   "cell_type": "code",
   "execution_count": 24,
   "metadata": {},
   "outputs": [],
   "source": [
    "reactome_modules.to_csv('../../data/processed/string_reactome_modules.csv', index=False)"
   ]
  }
 ],
 "metadata": {
  "kernelspec": {
   "display_name": "base",
   "language": "python",
   "name": "python3"
  },
  "language_info": {
   "codemirror_mode": {
    "name": "ipython",
    "version": 3
   },
   "file_extension": ".py",
   "mimetype": "text/x-python",
   "name": "python",
   "nbconvert_exporter": "python",
   "pygments_lexer": "ipython3",
   "version": "3.8.8"
  },
  "orig_nbformat": 4,
  "vscode": {
   "interpreter": {
    "hash": "42555cd0c5f1594a81e40866f5733b2cbf65026c937bf0149d49f47f234897c3"
   }
  }
 },
 "nbformat": 4,
 "nbformat_minor": 2
}
